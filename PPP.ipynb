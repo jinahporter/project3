{
 "cells": [
  {
   "cell_type": "markdown",
   "metadata": {},
   "source": [
    "# Classification model - Saving Pickle File"
   ]
  },
  {
   "cell_type": "code",
   "execution_count": 9,
   "metadata": {},
   "outputs": [],
   "source": [
    "import os\n",
    "import re\n",
    "import numpy as np\n",
    "import pandas as pd\n",
    "\n",
    "from sklearn.model_selection import train_test_split\n",
    "\n",
    "import warnings\n",
    "warnings.filterwarnings(\"ignore\")"
   ]
  },
  {
   "cell_type": "markdown",
   "metadata": {},
   "source": [
    "### Load the data"
   ]
  },
  {
   "cell_type": "code",
   "execution_count": 10,
   "metadata": {},
   "outputs": [
    {
     "name": "stdout",
     "output_type": "stream",
     "text": [
      "Shape of the data is: (417266, 15)\n"
     ]
    },
    {
     "data": {
      "text/html": [
       "<div>\n",
       "<style scoped>\n",
       "    .dataframe tbody tr th:only-of-type {\n",
       "        vertical-align: middle;\n",
       "    }\n",
       "\n",
       "    .dataframe tbody tr th {\n",
       "        vertical-align: top;\n",
       "    }\n",
       "\n",
       "    .dataframe thead th {\n",
       "        text-align: right;\n",
       "    }\n",
       "</style>\n",
       "<table border=\"1\" class=\"dataframe\">\n",
       "  <thead>\n",
       "    <tr style=\"text-align: right;\">\n",
       "      <th></th>\n",
       "      <th>LoanAmount</th>\n",
       "      <th>City</th>\n",
       "      <th>State</th>\n",
       "      <th>Zip</th>\n",
       "      <th>NAICSCode</th>\n",
       "      <th>BusinessType</th>\n",
       "      <th>RaceEthnicity</th>\n",
       "      <th>Gender</th>\n",
       "      <th>Veteran</th>\n",
       "      <th>NonProfit</th>\n",
       "      <th>JobsReported</th>\n",
       "      <th>DateApproved</th>\n",
       "      <th>Lender</th>\n",
       "      <th>CD</th>\n",
       "      <th>LoanRange</th>\n",
       "    </tr>\n",
       "  </thead>\n",
       "  <tbody>\n",
       "    <tr>\n",
       "      <th>0</th>\n",
       "      <td>133500</td>\n",
       "      <td>Pasadena</td>\n",
       "      <td>TX</td>\n",
       "      <td>77502.0</td>\n",
       "      <td>111110.0</td>\n",
       "      <td>Subchapter S Corporation</td>\n",
       "      <td>Unanswered</td>\n",
       "      <td>Unanswered</td>\n",
       "      <td>Unanswered</td>\n",
       "      <td>NaN</td>\n",
       "      <td>0.0</td>\n",
       "      <td>4/29/2020</td>\n",
       "      <td>Capital One, National Association</td>\n",
       "      <td>TX-29</td>\n",
       "      <td>6</td>\n",
       "    </tr>\n",
       "    <tr>\n",
       "      <th>1</th>\n",
       "      <td>125300</td>\n",
       "      <td>Houston</td>\n",
       "      <td>TX</td>\n",
       "      <td>77041.0</td>\n",
       "      <td>111110.0</td>\n",
       "      <td>Corporation</td>\n",
       "      <td>Unanswered</td>\n",
       "      <td>Unanswered</td>\n",
       "      <td>Unanswered</td>\n",
       "      <td>NaN</td>\n",
       "      <td>0.0</td>\n",
       "      <td>4/29/2020</td>\n",
       "      <td>Comerica Bank</td>\n",
       "      <td>TX-07</td>\n",
       "      <td>6</td>\n",
       "    </tr>\n",
       "    <tr>\n",
       "      <th>2</th>\n",
       "      <td>124938</td>\n",
       "      <td>PLANO</td>\n",
       "      <td>TX</td>\n",
       "      <td>75024.0</td>\n",
       "      <td>111110.0</td>\n",
       "      <td>Corporation</td>\n",
       "      <td>Unanswered</td>\n",
       "      <td>Unanswered</td>\n",
       "      <td>Unanswered</td>\n",
       "      <td>NaN</td>\n",
       "      <td>9.0</td>\n",
       "      <td>4/14/2020</td>\n",
       "      <td>Veritex Community Bank</td>\n",
       "      <td>TX-03</td>\n",
       "      <td>5</td>\n",
       "    </tr>\n",
       "    <tr>\n",
       "      <th>3</th>\n",
       "      <td>118922</td>\n",
       "      <td>Sugar Land</td>\n",
       "      <td>TX</td>\n",
       "      <td>77478.0</td>\n",
       "      <td>111110.0</td>\n",
       "      <td>Limited  Liability Company(LLC)</td>\n",
       "      <td>Unanswered</td>\n",
       "      <td>Unanswered</td>\n",
       "      <td>Unanswered</td>\n",
       "      <td>NaN</td>\n",
       "      <td>15.0</td>\n",
       "      <td>4/27/2020</td>\n",
       "      <td>Allegiance Bank</td>\n",
       "      <td>TX-22</td>\n",
       "      <td>5</td>\n",
       "    </tr>\n",
       "    <tr>\n",
       "      <th>4</th>\n",
       "      <td>109952</td>\n",
       "      <td>Houston</td>\n",
       "      <td>TX</td>\n",
       "      <td>77007.0</td>\n",
       "      <td>111110.0</td>\n",
       "      <td>Corporation</td>\n",
       "      <td>Unanswered</td>\n",
       "      <td>Unanswered</td>\n",
       "      <td>Unanswered</td>\n",
       "      <td>NaN</td>\n",
       "      <td>17.0</td>\n",
       "      <td>4/28/2020</td>\n",
       "      <td>Allegiance Bank</td>\n",
       "      <td>TX-18</td>\n",
       "      <td>5</td>\n",
       "    </tr>\n",
       "  </tbody>\n",
       "</table>\n",
       "</div>"
      ],
      "text/plain": [
       "  LoanAmount        City State      Zip  NAICSCode  \\\n",
       "0     133500    Pasadena    TX  77502.0   111110.0   \n",
       "1     125300     Houston    TX  77041.0   111110.0   \n",
       "2     124938       PLANO    TX  75024.0   111110.0   \n",
       "3     118922  Sugar Land    TX  77478.0   111110.0   \n",
       "4     109952     Houston    TX  77007.0   111110.0   \n",
       "\n",
       "                      BusinessType RaceEthnicity      Gender     Veteran  \\\n",
       "0         Subchapter S Corporation    Unanswered  Unanswered  Unanswered   \n",
       "1                      Corporation    Unanswered  Unanswered  Unanswered   \n",
       "2                      Corporation    Unanswered  Unanswered  Unanswered   \n",
       "3  Limited  Liability Company(LLC)    Unanswered  Unanswered  Unanswered   \n",
       "4                      Corporation    Unanswered  Unanswered  Unanswered   \n",
       "\n",
       "  NonProfit  JobsReported DateApproved                             Lender  \\\n",
       "0       NaN           0.0    4/29/2020  Capital One, National Association   \n",
       "1       NaN           0.0    4/29/2020                      Comerica Bank   \n",
       "2       NaN           9.0    4/14/2020             Veritex Community Bank   \n",
       "3       NaN          15.0    4/27/2020                    Allegiance Bank   \n",
       "4       NaN          17.0    4/28/2020                    Allegiance Bank   \n",
       "\n",
       "      CD  LoanRange  \n",
       "0  TX-29          6  \n",
       "1  TX-07          6  \n",
       "2  TX-03          5  \n",
       "3  TX-22          5  \n",
       "4  TX-18          5  "
      ]
     },
     "execution_count": 10,
     "metadata": {},
     "output_type": "execute_result"
    }
   ],
   "source": [
    "data = pd.read_csv('ppp data.csv')\n",
    "print(f\"Shape of the data is: {data.shape}\")\n",
    "data.head()"
   ]
  },
  {
   "cell_type": "markdown",
   "metadata": {},
   "source": [
    "### Check how many `null/Nan` values are in each column"
   ]
  },
  {
   "cell_type": "code",
   "execution_count": 17,
   "metadata": {},
   "outputs": [
    {
     "data": {
      "text/plain": [
       "LoanAmount            0\n",
       "City                 24\n",
       "State                 0\n",
       "Zip                  13\n",
       "NAICSCode          9166\n",
       "BusinessType        258\n",
       "RaceEthnicity         0\n",
       "Gender                0\n",
       "Veteran               0\n",
       "NonProfit        405255\n",
       "JobsReported      19291\n",
       "DateApproved          0\n",
       "Lender                0\n",
       "CD                   31\n",
       "LoanRange             0\n",
       "dtype: int64"
      ]
     },
     "execution_count": 17,
     "metadata": {},
     "output_type": "execute_result"
    }
   ],
   "source": [
    "data.isnull().sum()"
   ]
  },
  {
   "cell_type": "markdown",
   "metadata": {},
   "source": [
    "### View the possible labels for the columns that have some null values"
   ]
  },
  {
   "cell_type": "code",
   "execution_count": 14,
   "metadata": {},
   "outputs": [
    {
     "name": "stdout",
     "output_type": "stream",
     "text": [
      "List of unique labels for Zip:::{nan, nan, nan, nan, nan, nan, nan, nan, nan, nan, nan, nan, nan, 73960.0, 74024.0, 74494.0, 75001.0, 75002.0, 75006.0, 75007.0, 75009.0, 75010.0, 75011.0, 75013.0, 75014.0, 75015.0, 75016.0, 75017.0, 75019.0, 75020.0, 75021.0, 75022.0, 75023.0, 75024.0, 75025.0, 75026.0, 75027.0, 75028.0, 75029.0, 75030.0, 75032.0, 75033.0, 75034.0, 75035.0, 75036.0, 75038.0, 75039.0, 75040.0, 75041.0, 75042.0, 75043.0, 75044.0, 75045.0, 75046.0, 75048.0, 75049.0, 75050.0, 75051.0, 75052.0, 75053.0, 75054.0, 75056.0, 75057.0, 75058.0, 75059.0, 75060.0, 75061.0, 75062.0, 75063.0, 75065.0, 75067.0, 75068.0, 75069.0, 75070.0, 75071.0, 75072.0, 34113.0, 75074.0, 75075.0, 75076.0, 75077.0, 75078.0, 75080.0, 75081.0, 75082.0, 75083.0, 75085.0, 75086.0, 75087.0, 75088.0, 75089.0, 75090.0, 75091.0, 75092.0, 75093.0, 75094.0, 75097.0, 75098.0, 75099.0, 75101.0, 75102.0, 75103.0, 75104.0, 75106.0, 75109.0, 75110.0, 75114.0, 75115.0, 75116.0, 75117.0, 75118.0, 75119.0, 75120.0, 75121.0, 75123.0, 75124.0, 75125.0, 75126.0, 75127.0, 75129.0, 75132.0, 75134.0, 75135.0, 75137.0, 75138.0, 75140.0, 75141.0, 75142.0, 75143.0, 75144.0, 75146.0, 75147.0, 75148.0, 75149.0, 75150.0, 75151.0, 75152.0, 75153.0, 75154.0, 75155.0, 75156.0, 75158.0, 75159.0, 75160.0, 75161.0, 75163.0, 75165.0, 75166.0, 75167.0, 75168.0, 75169.0, 75172.0, 75173.0, 75180.0, 75181.0, 75182.0, 75185.0, 75187.0, 75189.0, 75201.0, 75202.0, 75203.0, 75204.0, 75205.0, 75206.0, 75207.0, 75208.0, 75209.0, 75210.0, 75211.0, 75212.0, 75214.0, 75215.0, 75216.0, 75217.0, 75218.0, 75219.0, 75220.0, 75222.0, 75223.0, 75224.0, 75225.0, 75226.0, 75227.0, 75228.0, 75229.0, 75230.0, 75231.0, 75232.0, 75233.0, 75234.0, 75235.0, 75236.0, 75237.0, 75238.0, 75240.0, 75241.0, 75242.0, 75243.0, 75244.0, 75246.0, 75247.0, 75248.0, 75249.0, 75250.0, 75251.0, 75252.0, 75253.0, 75254.0, 75260.0, 75261.0, 75266.0, 75270.0, 75277.0, 75285.0, 75287.0, 75313.0, 75315.0, 75317.0, 75336.0, 75339.0, 75342.0, 75354.0, 75355.0, 75356.0, 75357.0, 75360.0, 75367.0, 75368.0, 75370.0, 75372.0, 75374.0, 75376.0, 75379.0, 75380.0, 75381.0, 75382.0, 75390.0, 75401.0, 75402.0, 75403.0, 75404.0, 75407.0, 75409.0, 75410.0, 75411.0, 75412.0, 75413.0, 75414.0, 75416.0, 75417.0, 75418.0, 75420.0, 75421.0, 75422.0, 75423.0, 75424.0, 75425.0, 75426.0, 75428.0, 75429.0, 75431.0, 75432.0, 75433.0, 75435.0, 75436.0, 75437.0, 75438.0, 75439.0, 75440.0, 75442.0, 75443.0, 75446.0, 75447.0, 75448.0, 75449.0, 75450.0, 75451.0, 75452.0, 75453.0, 75454.0, 75455.0, 75456.0, 75457.0, 75458.0, 75459.0, 75460.0, 75461.0, 75462.0, 75468.0, 75469.0, 75470.0, 75471.0, 75472.0, 75473.0, 75474.0, 75476.0, 75477.0, 75478.0, 75479.0, 75480.0, 75481.0, 75482.0, 75483.0, 75485.0, 75486.0, 75487.0, 75488.0, 75489.0, 75490.0, 75491.0, 75492.0, 75493.0, 75494.0, 75495.0, 75496.0, 75497.0, 75501.0, 75503.0, 75504.0, 75505.0, 75550.0, 75551.0, 75554.0, 75555.0, 75556.0, 75558.0, 75559.0, 75560.0, 75561.0, 75563.0, 75564.0, 75565.0, 75566.0, 75567.0, 75568.0, 75569.0, 75570.0, 75571.0, 75572.0, 75573.0, 75574.0, 75601.0, 75602.0, 75603.0, 75604.0, 75605.0, 75606.0, 75607.0, 75608.0, 75630.0, 75631.0, 75633.0, 75636.0, 75638.0, 75639.0, 75640.0, 75642.0, 75643.0, 75644.0, 75645.0, 75647.0, 75650.0, 75651.0, 75652.0, 75653.0, 75654.0, 75656.0, 75657.0, 75659.0, 75660.0, 75661.0, 75662.0, 75663.0, 75666.0, 75667.0, 75668.0, 75669.0, 75670.0, 75671.0, 75672.0, 75681.0, 75682.0, 75683.0, 75684.0, 75685.0, 75686.0, 75687.0, 75688.0, 75689.0, 75691.0, 75692.0, 75693.0, 75694.0, 10158.0, 75701.0, 75702.0, 75703.0, 75704.0, 75705.0, 75706.0, 75707.0, 75708.0, 75709.0, 75710.0, 75711.0, 75712.0, 75713.0, 75750.0, 75751.0, 75752.0, 75754.0, 75755.0, 75756.0, 75757.0, 75758.0, 75760.0, 75762.0, 75763.0, 75765.0, 75766.0, 75770.0, 75771.0, 75773.0, 75778.0, 75780.0, 75782.0, 75783.0, 75784.0, 75785.0, 75789.0, 75790.0, 75791.0, 75792.0, 75801.0, 75802.0, 75803.0, 75831.0, 75832.0, 75833.0, 75835.0, 75838.0, 75839.0, 75840.0, 75844.0, 75845.0, 75846.0, 75847.0, 75848.0, 75849.0, 75850.0, 75851.0, 75852.0, 75853.0, 75855.0, 75856.0, 75858.0, 75859.0, 75860.0, 75861.0, 75862.0, 75865.0, 75901.0, 75902.0, 75903.0, 75904.0, 75915.0, 75925.0, 75926.0, 75928.0, 75929.0, 75930.0, 75931.0, 75932.0, 75933.0, 75935.0, 75936.0, 75937.0, 75938.0, 75939.0, 75941.0, 75943.0, 75944.0, 75946.0, 75948.0, 75949.0, 75951.0, 75954.0, 75956.0, 75959.0, 75960.0, 75961.0, 75963.0, 75964.0, 75965.0, 75966.0, 75968.0, 75969.0, 75972.0, 75973.0, 75974.0, 75975.0, 75976.0, 75977.0, 75979.0, 75980.0, 76001.0, 76002.0, 76003.0, 76004.0, 76005.0, 76006.0, 76008.0, 76009.0, 76010.0, 76011.0, 76012.0, 76013.0, 76014.0, 76015.0, 76016.0, 76017.0, 76018.0, 76019.0, 76020.0, 76021.0, 76022.0, 76023.0, 76028.0, 76031.0, 76033.0, 76034.0, 76035.0, 76036.0, 76039.0, 76040.0, 76041.0, 76043.0, 76044.0, 76048.0, 76049.0, 76050.0, 76051.0, 76052.0, 76053.0, 76054.0, 76055.0, 76058.0, 76059.0, 76060.0, 76061.0, 76062.0, 76063.0, 76064.0, 76065.0, 76066.0, 76067.0, 76068.0, 76070.0, 76071.0, 76073.0, 76077.0, 76078.0, 76082.0, 76084.0, 76085.0, 76086.0, 76087.0, 76088.0, 76092.0, 76093.0, 76094.0, 76095.0, 76096.0, 76097.0, 76098.0, 76099.0, 76101.0, 76102.0, 76103.0, 76104.0, 76105.0, 76106.0, 76107.0, 76108.0, 76109.0, 76110.0, 76111.0, 76112.0, 76113.0, 76114.0, 76115.0, 76116.0, 76117.0, 76118.0, 76119.0, 76120.0, 76121.0, 76123.0, 76124.0, 76126.0, 76127.0, 76129.0, 76131.0, 76132.0, 76133.0, 76134.0, 76135.0, 76136.0, 76137.0, 76140.0, 76147.0, 76148.0, 76150.0, 76154.0, 76155.0, 76161.0, 76162.0, 76164.0, 76177.0, 76179.0, 76180.0, 76181.0, 76182.0, 76185.0, 76201.0, 76202.0, 76203.0, 76205.0, 76206.0, 76207.0, 76208.0, 76209.0, 76210.0, 76225.0, 76226.0, 76227.0, 76228.0, 76230.0, 76233.0, 76234.0, 76238.0, 76239.0, 76240.0, 76241.0, 76244.0, 76245.0, 76246.0, 76247.0, 76248.0, 76249.0, 76250.0, 76251.0, 76252.0, 76255.0, 76258.0, 76259.0, 76261.0, 76262.0, 76263.0, 76264.0, 76265.0, 76266.0, 76268.0, 76270.0, 76271.0, 76272.0, 76273.0, 76301.0, 76302.0, 92688.0, 76305.0, 76306.0, 76307.0, 76308.0, 76309.0, 76310.0, 76311.0, 76351.0, 76352.0, 76354.0, 76357.0, 76360.0, 76364.0, 76365.0, 76366.0, 76367.0, 76369.0, 76370.0, 76371.0, 76372.0, 76373.0, 76374.0, 76377.0, 76379.0, 76380.0, 76384.0, 76385.0, 76388.0, 76389.0, 76401.0, 76402.0, 76424.0, 76426.0, 76427.0, 76429.0, 76430.0, 76431.0, 76432.0, 76433.0, 76435.0, 76436.0, 76437.0, 76439.0, 76442.0, 76443.0, 76444.0, 76445.0, 76446.0, 76448.0, 76449.0, 76450.0, 76452.0, 76453.0, 76454.0, 76455.0, 76457.0, 76458.0, 76459.0, 76460.0, 76461.0, 76462.0, 76463.0, 76464.0, 76465.0, 76469.0, 76470.0, 76471.0, 76472.0, 76474.0, 76475.0, 76476.0, 76481.0, 76483.0, 76484.0, 76485.0, 76486.0, 76487.0, 76490.0, 76491.0, 76501.0, 76502.0, 76503.0, 76504.0, 76506.0, 76511.0, 76513.0, 76518.0, 76519.0, 76520.0, 76522.0, 76523.0, 76524.0, 76525.0, 76527.0, 76528.0, 76530.0, 76531.0, 76533.0, 76534.0, 76537.0, 76538.0, 76539.0, 76540.0, 76541.0, 76542.0, 76543.0, 76544.0, 76547.0, 76548.0, 76549.0, 76550.0, 76554.0, 76556.0, 76557.0, 76559.0, 76561.0, 76564.0, 76566.0, 76567.0, 76569.0, 76570.0, 76571.0, 76573.0, 76574.0, 76577.0, 76578.0, 76579.0, 76621.0, 76622.0, 76623.0, 76624.0, 76626.0, 76627.0, 76628.0, 76629.0, 76630.0, 76631.0, 76632.0, 76633.0, 76634.0, 76635.0, 76636.0, 76637.0, 76638.0, 76639.0, 76640.0, 76641.0, 76642.0, 76643.0, 76645.0, 76648.0, 76649.0, 76650.0, 76651.0, 76652.0, 76653.0, 76654.0, 76655.0, 76656.0, 76657.0, 76660.0, 76661.0, 76664.0, 76665.0, 76666.0, 76667.0, 76670.0, 76671.0, 76673.0, 76676.0, 76679.0, 76680.0, 76681.0, 76682.0, 76684.0, 76685.0, 76686.0, 76687.0, 76689.0, 76690.0, 76691.0, 76692.0, 76693.0, 76701.0, 76702.0, 76703.0, 76704.0, 76705.0, 76706.0, 76707.0, 76708.0, 76710.0, 76711.0, 76712.0, 76714.0, 76715.0, 76798.0, 76801.0, 76802.0, 76803.0, 76804.0, 76821.0, 76823.0, 76825.0, 76827.0, 76828.0, 76831.0, 76832.0, 76834.0, 76836.0, 76837.0, 76842.0, 76844.0, 76845.0, 76848.0, 76849.0, 76852.0, 76853.0, 76854.0, 76855.0, 76856.0, 76857.0, 76858.0, 76859.0, 76861.0, 76862.0, 76864.0, 76865.0, 76866.0, 76869.0, 76870.0, 76871.0, 76872.0, 76873.0, 76875.0, 76877.0, 76878.0, 76880.0, 76882.0, 76884.0, 76886.0, 76887.0, 76888.0, 76890.0, 76901.0, 76902.0, 76903.0, 76904.0, 76905.0, 76906.0, 76930.0, 76932.0, 76933.0, 76934.0, 76935.0, 76936.0, 76937.0, 76939.0, 76940.0, 76941.0, 76943.0, 76945.0, 76949.0, 76950.0, 76951.0, 85142.0, 76955.0, 76957.0, 76958.0, 77001.0, 77002.0, 77003.0, 77004.0, 77005.0, 77006.0, 77007.0, 77008.0, 77009.0, 77010.0, 77011.0, 77012.0, 77013.0, 77014.0, 77015.0, 77016.0, 77017.0, 77018.0, 77019.0, 77020.0, 77021.0, 77022.0, 77023.0, 77024.0, 77025.0, 77026.0, 77027.0, 77028.0, 77029.0, 77030.0, 77031.0, 77032.0, 77033.0, 77034.0, 77035.0, 77036.0, 77037.0, 77038.0, 77039.0, 77040.0, 77041.0, 77042.0, 77043.0, 77044.0, 77045.0, 77046.0, 77047.0, 77048.0, 77049.0, 77050.0, 77051.0, 77052.0, 77053.0, 77054.0, 77055.0, 77056.0, 77057.0, 77058.0, 77059.0, 77060.0, 77061.0, 77062.0, 77063.0, 77064.0, 77065.0, 77066.0, 77067.0, 77068.0, 77069.0, 77070.0, 77071.0, 77072.0, 77073.0, 77074.0, 77075.0, 77076.0, 77077.0, 77078.0, 77079.0, 77080.0, 77081.0, 77082.0, 77083.0, 77084.0, 77085.0, 77086.0, 77087.0, 77088.0, 77089.0, 77090.0, 77091.0, 77092.0, 77093.0, 77094.0, 77095.0, 77096.0, 77098.0, 77099.0, 77202.0, 77204.0, 77205.0, 77206.0, 77207.0, 77208.0, 77213.0, 77215.0, 77217.0, 77218.0, 77219.0, 77220.0, 77221.0, 77223.0, 77224.0, 77225.0, 77226.0, 77227.0, 77228.0, 77229.0, 77230.0, 77231.0, 77234.0, 77235.0, 77238.0, 77240.0, 77241.0, 77242.0, 77243.0, 77244.0, 77245.0, 77248.0, 77249.0, 77251.0, 77252.0, 77253.0, 77254.0, 77255.0, 77256.0, 77257.0, 77258.0, 77259.0, 77261.0, 77263.0, 77265.0, 77266.0, 77267.0, 77268.0, 77269.0, 77270.0, 77271.0, 77272.0, 77273.0, 77274.0, 77275.0, 77277.0, 77279.0, 77280.0, 77282.0, 77284.0, 77287.0, 77288.0, 77289.0, 77290.0, 77291.0, 77292.0, 77293.0, 77301.0, 77302.0, 77303.0, 77304.0, 77305.0, 77306.0, 77316.0, 77318.0, 77320.0, 77325.0, 77327.0, 77328.0, 77331.0, 77333.0, 77334.0, 77335.0, 77336.0, 77338.0, 77339.0, 77340.0, 77342.0, 77345.0, 77346.0, 77347.0, 77350.0, 77351.0, 77353.0, 77354.0, 77355.0, 77356.0, 77357.0, 77358.0, 77359.0, 77360.0, 77362.0, 77363.0, 77364.0, 77365.0, 77367.0, 77369.0, 77371.0, 77372.0, 77373.0, 77374.0, 77375.0, 77376.0, 77377.0, 77378.0, 77379.0, 77380.0, 77381.0, 77382.0, 77383.0, 77384.0, 77385.0, 77386.0, 77387.0, 77388.0, 77389.0, 77391.0, 77393.0, 77396.0, 77399.0, 77401.0, 77402.0, 77404.0, 77406.0, 77407.0, 77410.0, 77411.0, 77412.0, 77413.0, 77414.0, 77415.0, 77417.0, 77418.0, 77419.0, 77420.0, 77422.0, 77423.0, 77426.0, 77428.0, 77429.0, 77430.0, 77432.0, 77433.0, 77434.0, 77435.0, 77437.0, 77440.0, 77441.0, 77442.0, 77443.0, 77444.0, 77445.0, 77446.0, 77447.0, 77448.0, 77449.0, 77450.0, 77452.0, 77453.0, 77454.0, 77455.0, 77456.0, 77457.0, 77458.0, 77459.0, 77460.0, 77461.0, 77464.0, 77465.0, 77466.0, 77467.0, 77468.0, 77469.0, 77470.0, 77471.0, 77474.0, 77475.0, 77476.0, 77477.0, 77478.0, 77479.0, 77480.0, 77482.0, 77483.0, 77484.0, 77485.0, 77486.0, 77487.0, 77488.0, 77489.0, 77491.0, 77492.0, 77493.0, 77494.0, 77496.0, 77497.0, 77498.0, 77501.0, 77502.0, 77503.0, 77504.0, 77505.0, 77506.0, 77507.0, 77508.0, 77510.0, 77511.0, 77512.0, 77514.0, 77515.0, 77516.0, 77517.0, 77518.0, 77519.0, 77520.0, 77521.0, 77522.0, 77523.0, 77530.0, 77531.0, 77532.0, 77533.0, 77534.0, 77535.0, 77536.0, 77538.0, 77539.0, 77541.0, 77542.0, 77545.0, 77546.0, 77547.0, 77549.0, 77550.0, 77551.0, 77552.0, 77553.0, 77554.0, 77560.0, 77561.0, 77562.0, 77563.0, 77564.0, 77565.0, 77566.0, 77568.0, 77571.0, 77572.0, 77573.0, 77574.0, 77575.0, 77577.0, 77578.0, 77580.0, 77581.0, 77582.0, 77583.0, 77584.0, 77585.0, 77586.0, 77587.0, 77588.0, 77590.0, 77591.0, 77592.0, 77597.0, 77598.0, 77611.0, 77612.0, 77613.0, 77614.0, 77615.0, 77616.0, 77617.0, 77619.0, 77622.0, 77623.0, 77624.0, 77625.0, 77626.0, 77627.0, 77629.0, 77630.0, 77631.0, 77632.0, 77639.0, 77640.0, 77641.0, 77642.0, 77650.0, 77651.0, 77655.0, 77656.0, 77657.0, 77659.0, 77660.0, 77661.0, 77662.0, 77663.0, 77664.0, 77665.0, 77670.0, 77701.0, 77702.0, 77703.0, 77704.0, 77705.0, 77706.0, 77707.0, 77708.0, 77713.0, 77720.0, 77726.0, 77801.0, 77802.0, 77803.0, 77805.0, 77806.0, 77807.0, 77808.0, 77830.0, 77831.0, 77833.0, 77834.0, 77835.0, 77836.0, 77837.0, 77840.0, 77842.0, 77843.0, 77845.0, 77853.0, 77856.0, 77857.0, 77859.0, 77861.0, 77863.0, 77864.0, 77865.0, 77866.0, 77868.0, 77871.0, 77872.0, 77873.0, 77876.0, 77878.0, 77879.0, 77880.0, 77881.0, 77882.0, 77901.0, 77902.0, 77903.0, 77904.0, 77905.0, 77950.0, 77951.0, 77954.0, 77957.0, 77960.0, 77961.0, 77962.0, 77963.0, 77964.0, 77968.0, 77969.0, 77970.0, 77971.0, 77974.0, 77975.0, 77977.0, 77978.0, 77979.0, 77982.0, 77983.0, 77984.0, 77988.0, 77990.0, 77991.0, 77994.0, 77995.0, 78001.0, 78002.0, 78003.0, 78004.0, 78005.0, 78006.0, 78007.0, 78008.0, 78009.0, 78010.0, 78011.0, 78012.0, 78013.0, 78014.0, 78015.0, 78016.0, 78017.0, 78019.0, 78022.0, 78023.0, 78024.0, 78025.0, 78026.0, 78027.0, 78028.0, 78029.0, 78039.0, 78040.0, 78041.0, 78042.0, 78043.0, 78044.0, 78045.0, 78046.0, 78050.0, 78052.0, 78055.0, 78056.0, 78057.0, 78058.0, 78059.0, 78060.0, 78061.0, 78063.0, 78064.0, 78065.0, 78066.0, 78067.0, 78069.0, 78070.0, 78071.0, 78072.0, 78073.0, 78074.0, 78075.0, 78076.0, 78101.0, 78102.0, 78104.0, 78107.0, 78108.0, 78109.0, 78112.0, 78113.0, 78114.0, 78115.0, 78116.0, 78117.0, 78118.0, 78119.0, 78121.0, 78122.0, 78123.0, 78124.0, 78125.0, 78130.0, 78131.0, 78132.0, 78133.0, 78140.0, 78141.0, 78142.0, 78144.0, 78145.0, 78146.0, 78147.0, 78148.0, 78151.0, 78152.0, 78154.0, 78155.0, 78156.0, 78159.0, 78160.0, 78161.0, 78162.0, 78163.0, 78164.0, 78178.0, 78201.0, 78202.0, 78203.0, 78204.0, 78205.0, 78207.0, 78208.0, 78209.0, 78210.0, 78211.0, 78212.0, 78213.0, 78214.0, 78215.0, 78216.0, 78217.0, 78218.0, 78219.0, 78220.0, 78221.0, 78222.0, 78223.0, 78224.0, 78225.0, 78226.0, 78227.0, 78228.0, 78229.0, 78230.0, 78231.0, 78232.0, 78233.0, 78234.0, 78235.0, 78236.0, 78237.0, 78238.0, 78239.0, 78240.0, 78242.0, 78244.0, 78245.0, 78246.0, 78247.0, 78248.0, 78249.0, 78250.0, 78251.0, 78252.0, 78253.0, 78254.0, 78255.0, 78256.0, 78257.0, 78258.0, 78259.0, 78260.0, 78261.0, 78263.0, 78264.0, 78265.0, 78266.0, 78268.0, 78269.0, 78270.0, 78278.0, 78279.0, 78280.0, 78283.0, 78284.0, 78285.0, 78291.0, 78297.0, 78299.0, 70117.0, 78330.0, 78332.0, 78333.0, 78336.0, 78338.0, 78339.0, 78340.0, 78341.0, 78343.0, 78344.0, 78347.0, 78349.0, 78351.0, 78352.0, 78355.0, 78357.0, 78358.0, 78359.0, 78361.0, 78362.0, 78363.0, 78364.0, 78368.0, 78369.0, 78370.0, 78372.0, 78373.0, 78374.0, 78375.0, 78376.0, 78377.0, 78379.0, 78380.0, 78381.0, 78382.0, 78383.0, 78384.0, 78385.0, 78387.0, 78389.0, 78390.0, 78391.0, 78393.0, 70202.0, 78401.0, 78402.0, 78403.0, 78404.0, 78405.0, 78406.0, 78407.0, 78408.0, 78409.0, 78410.0, 78411.0, 78412.0, 78413.0, 78414.0, 78415.0, 78416.0, 78417.0, 78418.0, 78419.0, 78427.0, 78460.0, 78463.0, 78465.0, 78466.0, 78468.0, 78469.0, 78480.0, 78501.0, 78502.0, 78503.0, 78504.0, 78505.0, 78516.0, 78520.0, 78521.0, 78522.0, 78523.0, 78526.0, 78535.0, 78536.0, 78537.0, 78538.0, 78539.0, 78540.0, 78541.0, 78542.0, 78543.0, 78547.0, 78548.0, 78549.0, 78550.0, 78551.0, 78552.0, 78553.0, 78557.0, 78558.0, 78559.0, 78560.0, 78561.0, 78562.0, 78563.0, 78564.0, 78566.0, 78567.0, 78568.0, 78569.0, 78570.0, 78572.0, 78573.0, 78574.0, 78575.0, 78576.0, 78577.0, 78578.0, 78579.0, 78580.0, 78582.0, 78583.0, 78584.0, 78586.0, 78588.0, 78589.0, 78591.0, 78593.0, 78594.0, 78595.0, 78596.0, 78597.0, 78598.0, 78599.0, 78602.0, 78604.0, 78605.0, 78606.0, 78607.0, 78608.0, 78609.0, 78610.0, 78611.0, 78612.0, 78613.0, 78614.0, 78615.0, 78616.0, 78617.0, 78618.0, 78619.0, 78620.0, 78621.0, 78622.0, 78623.0, 78624.0, 78626.0, 78627.0, 78628.0, 78629.0, 78630.0, 78631.0, 78632.0, 78633.0, 78634.0, 78635.0, 78636.0, 78638.0, 78639.0, 78640.0, 78641.0, 78642.0, 78643.0, 78644.0, 78645.0, 78646.0, 78648.0, 78650.0, 78652.0, 78653.0, 78654.0, 78655.0, 78656.0, 78657.0, 78659.0, 78660.0, 78661.0, 78662.0, 78663.0, 78664.0, 78665.0, 78666.0, 78667.0, 78669.0, 78671.0, 78672.0, 78673.0, 78674.0, 78675.0, 78676.0, 78680.0, 78681.0, 78683.0, 78691.0, 78701.0, 78702.0, 78703.0, 78704.0, 78705.0, 78708.0, 78709.0, 78710.0, 78711.0, 78712.0, 78713.0, 78714.0, 78715.0, 78716.0, 78717.0, 78718.0, 78719.0, 78720.0, 78721.0, 78722.0, 78723.0, 78724.0, 78725.0, 78726.0, 78727.0, 78728.0, 78729.0, 78730.0, 78731.0, 78732.0, 78733.0, 78734.0, 78735.0, 78736.0, 78737.0, 78738.0, 78739.0, 78741.0, 78742.0, 78744.0, 78745.0, 78746.0, 78747.0, 78748.0, 78749.0, 78750.0, 78751.0, 78752.0, 78753.0, 78754.0, 78755.0, 78756.0, 78757.0, 78758.0, 78759.0, 78760.0, 78761.0, 78762.0, 78763.0, 78764.0, 78765.0, 78766.0, 78767.0, 78768.0, 78783.0, 78801.0, 78802.0, 78827.0, 78828.0, 78829.0, 78830.0, 78832.0, 78833.0, 78834.0, 78836.0, 78837.0, 78838.0, 78839.0, 78840.0, 78841.0, 78842.0, 78850.0, 78852.0, 78853.0, 78860.0, 78861.0, 78870.0, 78871.0, 78872.0, 78873.0, 78877.0, 78879.0, 78880.0, 78881.0, 78883.0, 78884.0, 78885.0, 78886.0, 78931.0, 78932.0, 78933.0, 78934.0, 78935.0, 78938.0, 78940.0, 78941.0, 78942.0, 78943.0, 78944.0, 78945.0, 78946.0, 78947.0, 78948.0, 78949.0, 78950.0, 78953.0, 78954.0, 78956.0, 78957.0, 78959.0, 78960.0, 78962.0, 78963.0, 70808.0, 79001.0, 79003.0, 79005.0, 79007.0, 79008.0, 79009.0, 79010.0, 79011.0, 79012.0, 79013.0, 79014.0, 79015.0, 79018.0, 79019.0, 79021.0, 79022.0, 79024.0, 79025.0, 79027.0, 79029.0, 79031.0, 79032.0, 79033.0, 79034.0, 79035.0, 79036.0, 79039.0, 79040.0, 79041.0, 79042.0, 79043.0, 79044.0, 79045.0, 79046.0, 79051.0, 79052.0, 79053.0, 79054.0, 79056.0, 79057.0, 79059.0, 79061.0, 79062.0, 79063.0, 79064.0, 79065.0, 79066.0, 79068.0, 79070.0, 79072.0, 79073.0, 79078.0, 79079.0, 79080.0, 79081.0, 79082.0, 79083.0, 79084.0, 79085.0, 79086.0, 79087.0, 79088.0, 79091.0, 79092.0, 79094.0, 79095.0, 79096.0, 79097.0, 79098.0, 79101.0, 79102.0, 79103.0, 79104.0, 79105.0, 79106.0, 79107.0, 79108.0, 79109.0, 79110.0, 79111.0, 79114.0, 79116.0, 79117.0, 79118.0, 79119.0, 79120.0, 79121.0, 79124.0, 79130.0, 79159.0, 79201.0, 79220.0, 79225.0, 79226.0, 79227.0, 79229.0, 79230.0, 79231.0, 79233.0, 79234.0, 79235.0, 79237.0, 79239.0, 79240.0, 79241.0, 79244.0, 79245.0, 79248.0, 79250.0, 79251.0, 79252.0, 79255.0, 79256.0, 79257.0, 79259.0, 79261.0, 79311.0, 79312.0, 79313.0, 79314.0, 87505.0, 79316.0, 87507.0, 79322.0, 79323.0, 79324.0, 79325.0, 79326.0, 79329.0, 79330.0, 79331.0, 79336.0, 79338.0, 79339.0, 79342.0, 79343.0, 79344.0, 79345.0, 79346.0, 79347.0, 79350.0, 79351.0, 79353.0, 79354.0, 79355.0, 79356.0, 79357.0, 79358.0, 79359.0, 79360.0, 79363.0, 79364.0, 79366.0, 79367.0, 79369.0, 79370.0, 79371.0, 79372.0, 79373.0, 79376.0, 79377.0, 79378.0, 79379.0, 79380.0, 79381.0, 79382.0, 79401.0, 79403.0, 79404.0, 79407.0, 79408.0, 79409.0, 79410.0, 79411.0, 79412.0, 79413.0, 79414.0, 79415.0, 79416.0, 79423.0, 79424.0, 79452.0, 79453.0, 79464.0, 79490.0, 79493.0, 79499.0, 79501.0, 79502.0, 79503.0, 79504.0, 79505.0, 79506.0, 79508.0, 79510.0, 79511.0, 79512.0, 79517.0, 79518.0, 79519.0, 79520.0, 79521.0, 79525.0, 79526.0, 79527.0, 79528.0, 79529.0, 79530.0, 79532.0, 79533.0, 79534.0, 79536.0, 79537.0, 79538.0, 79539.0, 79540.0, 79541.0, 79543.0, 79544.0, 79545.0, 79546.0, 79547.0, 79548.0, 79549.0, 79550.0, 79553.0, 79556.0, 79560.0, 79561.0, 79562.0, 79563.0, 79565.0, 79566.0, 79567.0, 79601.0, 79602.0, 79603.0, 79604.0, 79605.0, 79606.0, 79607.0, 79608.0, 79697.0, 79699.0, 79701.0, 79702.0, 79703.0, 79704.0, 79705.0, 79706.0, 79707.0, 79708.0, 79710.0, 79711.0, 79712.0, 79713.0, 79714.0, 79718.0, 79719.0, 79720.0, 79721.0, 79730.0, 79731.0, 79733.0, 79734.0, 79735.0, 79738.0, 79739.0, 79741.0, 79742.0, 79743.0, 79744.0, 79745.0, 79748.0, 79749.0, 79752.0, 79755.0, 79756.0, 79758.0, 79759.0, 79760.0, 79761.0, 79762.0, 79763.0, 79764.0, 79765.0, 79766.0, 79768.0, 79769.0, 79770.0, 79772.0, 79776.0, 79777.0, 79778.0, 71587.0, 79780.0, 79781.0, 79782.0, 79783.0, 79785.0, 79788.0, 79789.0, 79821.0, 79830.0, 79831.0, 79832.0, 79834.0, 79835.0, 79836.0, 79837.0, 79838.0, 79839.0, 79842.0, 79843.0, 79845.0, 79847.0, 79848.0, 79849.0, 79851.0, 79852.0, 79853.0, 79854.0, 79855.0, 79901.0, 79902.0, 79903.0, 79904.0, 79905.0, 79906.0, 79907.0, 79911.0, 79912.0, 79913.0, 79914.0, 79915.0, 79916.0, 79917.0, 79918.0, 79922.0, 79924.0, 79925.0, 79926.0, 79927.0, 79928.0, 79930.0, 79931.0, 79932.0, 79934.0, 79935.0, 79936.0, 79937.0, 79938.0, 79948.0, 79968.0, 79997.0, 88240.0, 56112.0, 7384.0, 7502.0, 7850.0, 24470.0}\n",
      "List of unique labels for BusinessType:::{'Limited  Liability Company(LLC)', 'Partnership', 'Trust', nan, 'Independent Contractors', 'Non-Profit Organization', 'Sole Proprietorship', 'Limited Liability Partnership', 'Professional Association', 'Employee Stock Ownership Plan(ESOP)', 'Tenant in Common', 'Self-Employed Individuals', 'Cooperative', 'Rollover as Business Start-Ups (ROB', 'Non-Profit Childcare Center', 'Joint Venture', 'Corporation', 'Subchapter S Corporation'}\n",
      "List of unique labels for DateApproved:::{'7/19/2020', '7/24/2020', '7/20/2020', '5/10/2020', '6/16/2020', '6/22/2020', '6/23/2020', '6/30/2020', '5/21/2020', '7/15/2020', '6/7/2020', '5/19/2020', '4/10/2020', '8/7/2020', '4/13/2020', '5/25/2020', '4/9/2020', '5/7/2020', '6/28/2020', '7/23/2020', '6/12/2020', '4/8/2020', '4/12/2020', '4/15/2020', '6/10/2020', '5/29/2020', '5/24/2020', '7/12/2020', '6/18/2020', '4/16/2020', '5/9/2020', '6/11/2020', '7/18/2020', '7/4/2020', '6/15/2020', '7/10/2020', '8/2/2020', '4/27/2020', '7/17/2020', '5/2/2020', '6/3/2020', '5/14/2020', '7/11/2020', '7/13/2020', '8/5/2020', '6/6/2020', '5/28/2020', '4/5/2020', '6/14/2020', '5/16/2020', '7/21/2020', '6/1/2020', '6/4/2020', '7/6/2020', '6/17/2020', '5/4/2020', '4/29/2020', '6/24/2020', '5/13/2020', '7/14/2020', '6/9/2020', '6/25/2020', '8/8/2020', '6/19/2020', '5/1/2020', '4/14/2020', '7/7/2020', '7/25/2020', '7/22/2020', '5/15/2020', '5/23/2020', '7/27/2020', '4/3/2020', '5/30/2020', '5/26/2020', '6/13/2020', '7/31/2020', '8/4/2020', '7/8/2020', '7/9/2020', '4/6/2020', '4/4/2020', '4/11/2020', '5/31/2020', '7/16/2020', '7/26/2020', '6/21/2020', '7/30/2020', '5/27/2020', '5/12/2020', '5/20/2020', '8/6/2020', '7/28/2020', '6/20/2020', '5/11/2020', '7/29/2020', '5/3/2020', '4/30/2020', '6/2/2020', '5/5/2020', '8/3/2020', '6/26/2020', '5/18/2020', '5/6/2020', '6/8/2020', '4/28/2020', '5/17/2020', '6/29/2020', '4/7/2020', '6/5/2020', '5/22/2020', '6/27/2020', '5/8/2020', '8/1/2020'}\n",
      "List of unique labels for Lender:::{'First Security Bank', 'The State Exchange Bank', 'Planters Bank, Inc.', 'First Commercial Bank, National Association', 'Bank of the Southwest', 'First National Bank Texas', 'Amplify CU', 'Armstrong Bank', 'Austin County State Bank', 'The Bank of Marion', 'Flagstar Bank, FSB', 'Flagler Bank', 'Meridian Bank', 'PeoplesBank, A Codorus Valley Company', 'Opportunity Fund Community Development', 'Availa Bank', 'MidFirst Bank', 'Black Hills FCU', 'Fulda Area CU', 'First Basin CU', 'Merchants & Marine Bank', 'Red River State Bank', 'Cornerstone Bank, National Association', 'The First National Bank of Livingston', 'Bank of Columbia', 'Bank of DeSoto, National Association', 'The Park National Bank', 'Gibsland Bank & Trust Company', 'Devon Bank', 'SaviBank', 'Busey Bank', 'Andover State Bank', 'First National Bank of Oklahoma', 'Arkansas Capital Corporation', 'Town Center Bank', 'Century Bank', 'Rayne State Bank & Trust Company', 'Truist Bank d/b/a Branch Banking & Trust Co', 'MapleMark Bank', 'Presidential Bank, FSB', 'Core Bank', 'NBC Oklahoma', 'CBW Bank', 'Cache Valley Bank', 'Sanibel Captiva Community Bank', 'First Security State Bank', 'First Mid Bank & Trust, National Association', 'Bank of the West', 'Mazuma CU', 'Bank Forward', 'The Yellowstone Bank', 'The City National Bank and Trust Company of Lawton, Oklahoma', 'TrustTexas Bank, S.S.B.', 'First Texas Bank', 'Kendall State Bank', 'Assemblies of God CU', 'The City National Bank of Metropolis', 'First Southern National Bank', 'City Bank', 'Worthington National Bank', 'Security Bank', 'Optus Bank', 'Stockmens Bank', 'The First National Bank of Eagle Lake', 'The First National Bank in Falfurrias', 'Bank OZK', 'Capitol CU', 'Texas Hill Country Bank', 'US Eagle FCU', 'NewFirst National Bank', 'Cambridge Savings Bank', 'First American Bank', 'PrinsBank', 'First Republic Bank', 'F&M Bank', 'Citizens Bank, National Association', 'Bank of Pontiac', 'Banc of California, National Association', 'DuGood Federal Credit Union', 'Northrim Bank', 'Newtek Small Business Finance, Inc.', 'TrailWest Bank', 'Bell Bank', 'First Farmers Bank & Trust Co.', 'Valor Bank', 'Anstaff Bank', 'Valley Bank of Commerce', 'The Waggoner National Bank of Vernon', 'The Canandaigua National Bank and Trust Company', 'First Bank and Trust', 'Scott State Bank', 'First National Bank and Trust Company', 'Main Bank', 'Millennium Bank', 'Security Bank of Crawford', 'Credit Human FCU', 'First Texoma National Bank', 'Pacific Western Bank', 'First Capital Bank', 'Southwest National Bank', 'MidWestOne Bank', 'Bank 7', 'OptimumBank', 'The Pecos County State Bank', 'Fidelity Deposit and Discount Bank', 'New Millennium Bank', 'Guaranty Bank & Trust, National Association', 'Farmers and Merchants State Bank of Appleton', 'Select Bank & Trust Company', '1st Community FCU', 'Shoreline CU', 'First Merchants Bank', 'Cross River Bank', 'Farmers and Merchants Bank of St. Clair', 'Celtic Bank Corporation', 'Texas Bank and Trust Company', 'Citizens State Bank', 'The First National Bank of McGregor d/b/a TFNB Your Bank for Life', 'Armor Bank', 'Red Crown FCU', 'Byline Bank', 'Bank of Idaho', 'Carmine State Bank', 'Fannin Bank', 'Llano National Bank', 'Clear Mountain Bank', 'Paragon Bank', 'NoteWorthy FCU', 'Wood & Huston Bank', 'Citizens Alliance Bank', 'Mechanics & Farmers Bank', 'Cornerstone Community Bank', 'The Karnes County National Bank', 'First Financial Bank, National Association', 'Bank of Sunset & Trust Company', 'Malvern Bank, National Association', 'Burling Bank', 'Popular Bank', 'Home Loan State Bank', 'North Shore Bank, FSB', 'Community State Bank of Missouri', 'Heartland Tri-State Bank', 'Lamar National Bank', 'Colony Bank', 'The Bank of Houston', 'Carter FCU', 'Andrew Johnson Bank', 'First Community CU', 'Alerus Financial, National Association', 'Frontier Bank', 'Centera Bank', 'Generations Bank', 'Citizens National Bank of Texas', 'Commercial Bank of California', 'Fourth Capital Bank', 'First Horizon Bank', 'The Denison State Bank', 'First Pryority Bank', 'Cendera Bank, National Association', 'Forest Park National Bank and Trust Company', 'FNBC Bank', 'United Business Bank', 'Franklin Bank & Trust Company', 'The Morris County National Bank of Naples', 'M C Bank & Trust Co.', 'WaterStone Bank, SSB', 'Central Bank of Boone County', 'Yampa Valley Bank', 'Metropolitan Commercial Bank', 'Fidelity Bank of Texas', 'Security State Bank & Trust', 'Northern Bank and Trust Company', 'Jefferson Bank of Missouri', 'Bank of South Texas', 'Texas Trust CU', 'The Farmers State Bank', 'Western State Bank', 'Sanger Bank', 'The National Bank of Andrews', 'Fayette Savings Bank, ssb', 'Big Bend Banks, National Association', 'Valley Republic Bank', 'Dogwood State Bank', 'Banterra Bank', 'First National Bank of South Padre Island', 'Fund-Ex Solutions Group, LLC', 'Iroquois Federal Savings & Loan Association', 'Bank of Southern California, National Association', 'Peoples State Bank of Hallettsville', 'North American Banking Company', 'F & M Bank', 'Bank of Western Oklahoma', 'Gulf Capital Bank', 'Bank of Central Florida', 'Avidia Bank', 'Anthem Bank & Trust', 'Sunrise Banks, National Association', 'FlatIrons Bank', 'Kearny Bank', 'River City FCU', 'First National Bank of Omaha', 'CorTrust Bank National Association', 'Central Bank of Oklahoma', 'Capitol National Bank', 'Midflorida CU', 'Ally Bank', 'The Donley County State Bank', 'Moody National Bank', 'Cogent Bank', 'Partners Bank of California', 'EagleBank', 'Providence Bank of Texas, SSB', 'First Metro Bank', 'The HomeTown Bank of Alabama', 'West Texas State Bank', 'Legacy National Bank', 'First State Bank of Texas', 'FivePoint CU', 'Farmers & Merchants Bank of Long Beach', 'Together CU', 'Reliance Savings Bank d/b/a Reliance Bank', 'USF FCU', 'FirstBank Southwest', 'Ameris Bank', 'Cedar Rapids Bank and Trust Company', 'Great Western Bank', 'Northfield Bank', 'AVB Bank', 'Lone Star Capital Bank, National Association', 'The Missouri Bank', 'Jonah Bank of Wyoming', 'The Payne County Bank', 'Kaw Valley State Bank and Trust Company', 'Fortress Bank', 'Baker Boyer National Bank', 'Stanley Bank', 'First Southwest Bank', 'The First National Bank at Paris', 'Texana Bank, National Association', 'The Citizens State Bank', 'NextMark FCU', 'Notre Dame FCU', 'BMO Harris Bank National Association', 'Texas Security Bank', 'Glenwood State Bank Incorporated', 'Mason Bank', 'Rio Grande Savings & Loan Association', 'Washington Federal Bank, National Association', 'Peoples Bank & Trust', 'Enterprise Bank', 'RCB Bank', 'FortuneBank', 'Madison Valley Bank', 'Legence Bank', 'Insbank', 'Bank of New Hampshire', 'Falcon International Bank', 'Canvas CU', 'LiftFund, Inc.', 'American Federal Bank', 'SmartBank', 'Fountainhead SBF LLC', 'The First National Bank and Trust Company', 'The First National Bank of Las Animas', 'The Hondo National Bank', 'Yosemite Farm Credit, Aca', 'First Southern State Bank', 'Queensborough National Bank and Trust Company', 'Security Bank and Trust Company', 'Centerstone SBA Lending, Inc.', 'immito, LLC', 'First Bank of Manhattan', 'Golden Bank, National Association', 'First-Citizens National Bank', 'Enterprise Bank & Trust', 'OneWest Bank, A Division of', 'Oxford Bank', 'Dacotah Bank', 'The Bank of San Antonio', 'MUFG Union Bank, National Association', 'Bank & Trust Company', 'The First National Bank of Hutchinson', 'CFBank, National Association', 'Towne Bank', 'Mesquite CU', 'First American Bank & Trust', 'AgCountry Farm Credit Service, PCA', 'MidCountry Bank', 'Premier Members CU', 'National Bank & Trust', 'KEB Hana Bank USA, National Association', 'Preferred Bank', 'Bank Hapoalim B.M. - New York Branch', 'Mission Valley Bank', 'Hills Bank and Trust Company', 'Customers Bank', 'Bayer Heritage FCU', 'James Polk Stone Community Bank', 'Star of Texas CU', 'FNB Community Bank', 'The Citizens Bank of Edmond', 'Lake City Bank', 'First Hawaiian Bank', 'Newton Federal Bank', 'Johnson Bank', 'Junction National Bank', 'First Vision Bank of Tennessee', 'Broadway National Bank', 'STAR Financial Bank', 'SouthStar Bank, S.S.B.', 'The Jefferson Bank', 'Altra FCU', 'The Citizens Bank', 'Community Neighbor Bank', 'Oklahoma State Bank', 'Park State Bank', 'Orrstown Bank', 'JD Bank', 'VISIONBank', 'Grow America Fund, Incorporated', 'Technology CU', 'First National Bank of Fort Stockton', 'Kaw Valley Bank', 'First Oklahoma Bank', 'BNC National Bank', 'The Bank of Kaukauna', 'Desert Financial FCU d/b/a Desert Financial CU', 'BTH Texas, National Association', 'JPMorgan Chase Bank, National Association', 'Carolina Bank & Trust Co.', 'Independence Bank', 'The Bank of Carbondale', 'Providence Bank & Trust', 'The American National Bank of Mount Pleasant', 'Trustmark National Bank', 'The Colorado Bank and Trust Company of La Junta', 'Mechanics Bank', 'Synergy Bank', 'CRF Small Business Loan Company, LLC', 'KS StateBank', 'Trinity Bank, National Association', 'The First National Bank of Sterling City', 'Seacoast National Bank', 'First Commonwealth Bank', 'Volunteer State Bank', 'Community Bank', 'Rural Community Assistance Corporation', 'Arkansas FCU', 'Texas Bank Financial', 'GNBank, National Association', 'American Express National Bank', 'Texas Community Bank', 'Chain Bridge Bank, National Association', 'Community State Bank', 'The Walton State Bank', 'Vast Bank, National Association', 'Texoma Community CU', 'First Liberty Bank', 'Legacy Bank', 'CornerStone State Bank', 'Alliance Bank', \"The Greenwood's State Bank\", 'Bandera Bank', 'Malvern Bank', 'Kleberg Bank, National Association', 'City FCU', 'Raccoon Valley Bank', 'Tulsa FCU', 'Concordia Bank & Trust Company', 'Unify Financial FCU', 'Somerset Trust Company', 'Renasant Bank', 'Machias Savings Bank', 'Capital Bank of Texas', 'Industry State Bank', 'Mid Penn Bank', 'The Commercial National Bank of Brady', 'Surety Bank', 'The Union Bank of Mena', 'Bank of New England', 'The First National Bank of Spearville', 'ServisFirst Bank', 'Farmers & Merchants Bank of Central California', 'Security First National Bank of Hugo', 'Bogota Savings Bank', 'Osgood State Bank', 'Texas Dow Empl CU', 'Farmers State Bank', 'First American National Bank', 'Transportation Alliance Bank, Inc. d/b/a TAB Bank, Inc.', 'First National Bank of Louisiana', 'FinWise Bank', 'Regions Bank', 'Mountain Valley Bank', 'First National Bank Albany/Breckenridge', 'Texas National Bank of Jacksonville', \"Bankers' Bank of Kansas\", 'Pelican State CU', 'Community Bank of Raymore', 'The Peoples Bank & Trust Company of Pointe Coupee Parish', 'Prestamos CDFI, LLC', 'First National Bank of Coffee County', 'The Exchange Bank', 'Vision One CU', 'Key Community Bank', 'United FCU', 'INB, National Association', 'Bangor Savings Bank', 'Sunwest Bank', 'Bank of Pensacola', 'First Bank of the Lake', 'New York Business Development Corporation', 'Neighborhood National Bank', 'State Bank Northwest', 'A+ FCU', 'Dollar Bank, A Federal Savings Bank', 'The Harbor Bank of Maryland', 'Marion County State Bank', 'Hinsdale Bank & Trust Company, National Association', 'Stockman Bank of Montana', 'Caprock FCU', 'Heartland CU', 'First Business Bank', 'Bank of Hawaii', 'Associated Bank, National Association', 'Home Loan Investment Bank, F.S.B.', 'Peapack-Gladstone Bank', 'Exchange Bank and Trust Company', 'Golden Belt Bank, FSA', 'Gulf Coast Bank and Trust Company', 'EECU', 'Campus FCU', 'Crown Bank', 'American Community Bank', 'Poppy Bank', 'Las Colinas FCU', 'Security Federal Bank', 'Farmers State Bank of Alto Pass, Illinois', 'Watermark Bank', 'The Bank of Fincastle', 'BankPlus', 'Platinum Bank', 'Texas Capital Bank, National Association', 'North Star Community CU', 'Western Bank, Artesia, New Mexico', 'Lake Forest Bank & Trust Company, National Association', 'Texas Bank', 'The City National Bank of Taylor', 'The Northwestern Bank', 'Westfield Bank', 'Fieldpoint Private Bank & Trust', 'Inspire FCU', 'Star Tech FCU', 'CDC Small Business Finance Corporation', 'MidAmerica National Bank', 'Northeast Bank', 'Merchants Bank of Indiana', 'Wilmington Savings Fund Society, FSB', 'Columbia State Bank', 'INTRUST Bank, National Association', 'Bank of Oak Ridge', 'American State Bank & Trust Company', 'First National Bank of Winnsboro', 'Vantage Bank Texas', 'Kabbage, Inc.', 'Northwest FCU', 'Radius Bank', 'Citizens First Bank', 'Bank First, N.A.', 'Western Union Company', 'Marion State Bank', 'Red River Bank', 'Northview Bank', 'Lead Bank', 'FNBC Bank and Trust', 'Resource Bank, National Association', 'Main Street Bank', 'Premier Bank of Arkansas', 'Union Bank and Trust Company', 'Capital Area Realtors FCU', 'Starion Bank', 'Banco Popular de Puerto Rico', 'Montecito Bank & Trust', 'Rio Bank', 'Premier Bank', 'Veritex Community Bank', 'Affiliated Bank, National Association', 'Ottawa Savings Bank', 'Peoples State Bank', 'Security Bank of Kansas City', 'Gateway First Bank', 'CNB Bank and Trust, National Association', 'City National Bank', 'The Security National Bank of Sioux City, Iowa', 'Embers CU', 'Commerce Bank of Arizona', 'Evolve Bank & Trust', 'Great Plains National Bank', 'Citibank, N.A.', 'Settlers Bank', 'Plains State Bank', 'Texas Financial Bank', 'Northeast CU', 'Heartland Bank and Trust Company', 'Wyoming Community Bank', 'Mercantile Bank of Michigan', 'New Valley Bank & Trust', 'Anchor D Bank', 'The Peoples Bank', 'University FCU', 'Century Next Bank', 'PromiseOne Bank', 'Central Bank of the Midwest', 'CFG Community Bank', 'Western States Bank', 'BankFlorida', 'Financial Federal Bank', 'First Bank Richmond', 'Guaranty Bank & Trust Company', 'Axos Bank', 'Bank of Whittier, National Association', 'The Provident Bank', 'Citizens State Bank of Luling', 'Northwestern Bank, National Association', 'First Northern Bank of Wyoming', 'SpiritBank', 'United Community Bank of North Dakota', 'Commercial State Bank', 'Community Service CU', 'Citizens Equity First CU', 'Spectra Bank', 'Farmers Insurance Group FCU', 'Harvest Small Business Finance, LLC', 'Eastman CU', 'Houston FCU', 'First Bank & Trust Co.', 'The American National Bank of Texas', 'Randolph-Brooks FCU', 'Pinnacle Bank', 'First National Bank of Weatherford', 'High Plains Bank', 'Mountain America FCU', 'BankNewport', 'Manufacturers Bank & Trust Company', 'West Gate Bank', 'Ozona National Bank', 'A N E C A FCU', 'Bank3', 'Lone Star Bank', 'CalPrivate Bank', 'The Union State Bank of Everest', 'First Bank and Trust of Memphis', 'Iowa Falls State Bank', 'The Farmers National Bank of Canfield', 'CapStar Bank', 'Wheaton Bank & Trust Company, National Association', 'AmeriState Bank', 'InTouch CU', 'Yantis FCU', 'ANB Bank', 'First Western Trust Bank', 'Affinity Plus FCU', 'Two Rivers Bank & Trust', 'The First National Bank of Sonora', 'The Salyersville National Bank', 'Central Minnesota CU', 'First Citrus Bank', 'Great Southern Bank', 'American Pride Bank', 'Virginia National Bank', 'Happy State Bank', 'First Citizens Bank', 'Leader Bank, National Association', 'Farm Bureau Bank, FSB', 'Idaho First Bank', 'Axiom Bank, National Association', 'Kish Bank', 'Homeland Federal Savings Bank', 'Navy FCU', 'Cornerstone Bank', 'Boeing Empl CU', 'Conway Bank', 'Waukesha State Bank', 'McCurtain County National Bank', 'Union Bank & Trust Company', 'Dominion Bank', 'National Bank of Commerce', 'The Pauls Valley National Bank', '1st Summit Bank', 'Commercial National Bank of Texarkana', 'The First National Bank of Aspermont', 'Arizona FCU', 'Titan Bank, National Association', 'AimBank', 'NBKC Bank', 'Alva State Bank & Trust Company', 'Western Heritage Bank', 'Central Pacific Bank', 'Lone Star State Bank of West Texas', 'Field & Main Bank', 'Frontwave CU', 'Spur Security Bank', 'Redwood CU', 'Delta Bank', 'First State Bank of DeQueen', 'Golden Valley Bank', 'BankVista', 'Bank of Bartlett', 'Western Alliance Bank', 'Horizon Bank, SSB', 'CIBC Bank USA', 'First Federal Savings Bank', 'First Bank of Highland Park', 'Silver Lake Bank', 'Old Missouri Bank', 'First State Bank of St. Charles, Missouri', 'Stride Bank, National Association', 'Comerica Bank', 'Commerce Bank', 'First National Bank in DeRidder', 'First State Bank of Bedias', 'Dubuque Bank and Trust Company', 'Hancock Whitney Bank', 'Heritage Bank, A Division of', 'The First National Bank and Trust Company of Broken Arrow', 'Astra Bank', 'Freedom Bank', 'Georgia Banking Company', 'Metairie Bank & Trust Company', 'HSBC Bank USA, National Association', 'TexStar National Bank', 'Cass Commercial Bank', 'CharterWest Bank', 'Homestead Savings Bank', 'Bank of Prairie Village', 'Stone Bank', 'Springfield State Bank', 'Aquesta Bank', 'St. Landry Homestead Federal Savings Bank', 'American Bank and Trust Company', 'The Bank National Association', 'Horizon Community Bank', 'Highmark FCU', 'Pacific City Bank', 'First National Bank of Alvin', 'PrimeWay FCU', 'Studio Bank', 'First State Bank of Burnet', 'Mabrey Bank', 'First Florida Integrity Bank', '1st Source Bank', 'Farmers State Bank of Calhan', 'U.P. State CU', 'FirstLight FCU', 'Hickory Point Bank and Trust', 'Five Points Bank', 'Kanza Bank', 'The Fountain Trust Company', 'Touchmark National Bank', 'Merchants & Farmers Bank of Greene County', 'Bryant Bank', 'American National Bank & Trust', 'Allied FCU', 'FC Marketplace, LLC (dba Funding Circle)', 'Simmons Bank', 'Community Bank of Louisiana', 'Southern Bank and Trust Company', 'Farmers State Bank of NewCastle', 'MCBank', 'State Bank of De Kalb', 'WesBanco Bank, Inc.', 'State Bank of Texas', 'The Farmers & Merchants Bank', 'BankFirst', 'Empire Financial FCU', 'TD Bank, National Association', 'Bank of Commerce', 'Primary Bank', 'UMB Bank, National Association', 'Texas Brand Bank', 'Solutions North Bank', 'Wright Patt CU Inc', 'The Eastern Colorado Bank', 'North Side Federal Savings & Loan Association of Chicago', 'SouthernTrust Bank', 'Loan Source Incorporated', 'Bank of Hays', 'Texas Advantage Community Bank, National Association', 'Investors Community Bank', 'Southern Teachers & Parents FCU', 'Red River Empl FCU', 'Triad Business Bank', 'Jefferson Bank', 'The First State Bank', 'TCF National Bank', 'American Bank of Missouri', 'First Volunteer Bank', 'Visions FCU', 'cPort CU', 'Community Bank & Trust, Waco, Texas', 'First Sentinel Bank', 'Third Coast Bank SSB', 'First National Bank of Muscatine', 'The Piedmont Bank', 'First National Bank and Trust Company of Weatherford', 'Navy Army Community CU', 'Partners Bank', 'The Converse County Bank', 'Commonwealth Business Bank', 'Canyon Community Bank, National Association', 'Chisholm Trail State Bank', 'Lea County State Bank', 'Oklahoma Central CU', 'U.S. Century Bank', 'The First National Bank and Trust Company of Miami', 'The Conway National Bank', 'First National Bank in Port Lavaca', 'HarborOne Bank', 'BankSouth', 'Integrity Bank & Trust', 'Affinity FCU', 'The Bank of Kremlin', 'Home Bank, National Association', 'First National Bank & Trust Company', 'First International Bank & Trust', 'Sandy Spring Bank', 'Community First Bank of the Heartland', 'Colonial Savings, F.A.', 'First Bank Kansas', 'Republic First Bank d/b/a Republic Bank', 'Congressional Bank', 'AgTexas Farm Credit Services', 'NCMIC Finance Corporation', 'Academy Bank, National Association', 'FNB Washington', 'First Federal Savings Bank of Twin Falls', 'The Bryn Mawr Trust Company', 'First Community Bank', 'Live Oak Banking Company', 'Emigrant Bank', 'Fundbox, Inc.', 'Bank Midwest', 'Wilson Bank & Trust', 'The Nodaway Valley Bank', 'Landmark National Bank', 'Round Top State Bank', 'Central Bank of Branson', 'Associated CU of Texas', 'BankUnited, National Association', 'Herring Bank', 'Banesco USA', 'Goldenwest FCU', 'T Bank, National Association', 'Unico Bank', 'Douglas National Bank', 'Maine Savings FCU', 'Plattsmouth State Bank', 'Tradition Capital Bank', 'The Bank of Tampa', 'Walters Bank and Trust Company', \"Kaua'i Government Employees' FCU\", 'Chickasaw Community Bank', 'First Arkansas Bank and Trust', 'Frazer Bank', 'Bank Iowa', 'World Trade Finance,  Inc.', 'Pacific Mercantile Bank', 'Richland State Bank', 'First Federal Bank', 'Central Bank of the Ozarks', 'CoreFirst Bank & Trust', 'First Internet Bank of Indiana', 'Grandview Bank', 'Progress Bank and Trust', 'Progressive National Bank', 'Bodcaw Bank', 'Boston Private Bank & Trust Company', 'Neighbors FCU', 'Kirkpatrick Bank', 'Cypress Bank, SSB', '\\tFarm Credit of Western Oklahoma, ACA', 'Lone Star National Bank', 'Central Bank of Lake of the Ozarks', 'Texas Republic Bank, National Association', 'Riverview Bank', 'The Bennington State Bank', 'SNB Bank, National Association', 'Heritage FCU', 'BTC Bank', 'West Town Bank & Trust', 'The Security National Bank of Enid', 'ConnectOne Bank', 'Waterman State Bank', 'Endeavor Bank', 'Go FCU', 'Beverly Bank & Trust Company, National Association', 'The Bank of San Jacinto County, Coldsprings, Texas', 'The Citizens National Bank of Hillsboro', 'Falcon National Bank', 'Centinel Bank of Taos', 'Texas Champion Bank', 'SouthWest Bank', 'Citizens National Bank, National Association', 'Texas First Bank', 'Heartland Bank', 'Florida Capital Bank, National Association', 'Equitable Bank', 'The Hershey State Bank', 'The Citizens National Bank of Meridian', 'Texico State Bank', 'Southside Bank', 'Metro City Bank', 'CTBC Bank Corp. (USA).', 'Southern Bancorp Bank', 'Merchants Bank, National Association', 'The Pueblo Bank and Trust Company', 'Dallas Capital Bank, National Association', 'Investar Bank, National Association', 'Northwest Bank', 'Bank Five Nine', 'Community Financial Services Bank', 'F & C Bank', 'Centra CU', 'The City National Bank of Sulphur Springs', 'UniWyo FCU', 'First National Bank', 'First Dakota National Bank', 'MBE Capital Partners', 'Hope Enterprise Corporation', 'Marine Bank & Trust Company', 'Manufacturers and Traders Trust Company', 'Ciera Bank', 'The First Bank and Trust Company', 'Merchants and Farmers Bank', 'Oakwood Bank', 'Credit Union of America', 'Unity National Bank of Houston', 'American National Bank', 'Country Club Bank', 'OakStar Bank', 'Zions Bank, A Division of', 'United Community Bank', 'Bank of Hillsboro, National Association', 'Loyal Trust Bank', 'Phelps County Bank', 'Capital Farm Credit, ACA', 'Signature Bank', 'Blue Foundry Bank', 'Sterling Bank', 'State Street Bank and Trust Company', 'State Bank & Trust', 'Summit CU', 'PNC Bank, National Association', 'Sturgis Bank & Trust Company', 'Citizens Bank', 'Capital Educators FCU', 'Chaffey FCU', 'The First National Bank of Fort Smith', 'Bank of the James', 'Professional Bank', 'First Bank & Trust', 'Cambridge State Bank', 'GECU', 'Generations Community FCU', 'The Freedom Bank of Virginia', 'Baraboo State Bank', 'PeoplesBank', 'EH National Bank', 'The Bank', 'The First State Bank of Rosemount', 'POINTWEST BANK', 'Bank of Madison', 'Oak Valley Community Bank', 'Riverland Bank', 'TransPecos Banks, SSB.', 'Jonesboro State Bank', 'First Sound Bank', 'Clearpath FCU', 'Century First FCU', 'b1Bank', 'Select Bank', 'Atlantic Capital Bank, National Association', 'Capital One, National Association', 'Michigan State University FCU', 'True Sky CU', 'Branson Bank', 'Bank of Little Rock', 'Citizens National Bank at Brownwood', 'The Bank of Austin', 'The First National Bank of Bellville', 'CLB The Community Bank', 'Sentry Bank', 'Extraco Banks, National Association', 'The First National Bank of Hebbronville', 'Mega Bank', 'BancorpSouth Bank', 'Anahuac National Bank', 'The Brenham National Bank', 'Three Rivers Bank of Montana', 'Del Norte Bank', 'Origin Bank', 'Woodforest National Bank', 'Texas Heritage National Bank', 'Resource One CU', 'The State National Bank of Groom', 'Washington Savings Bank', 'Banner Bank', 'Amarillo National Bank', 'First Guaranty Bank', 'Dakota Western Bank', 'The First National Bank and Trust Co, Chickasha, Oklahoma', 'Republic Bank of Chicago', 'InterBank', 'Essential FCU', \"People's Bank of Commerce\", 'Berkshire Bank', \"Today's Bank\", 'Great Nations Bank', 'Southwest Heritage CU', 'The First National Bank of Waseca', 'The Granger National Bank', 'Pantex FCU', 'MutualOne Bank', 'Nusenda FCU', 'Commercial Bank of Texas, N.A.', 'Republic Bank & Trust Company', 'First Bank', 'FirstBank', 'Peoples Bank', 'CommerceWest Bank', 'West Michigan Community Bank', 'Citizens Bank and Trust Company of Ardmore', 'First Utah Bank', 'Glens Falls National Bank and Trust Company', 'Community First Bank of Indiana', 'mBank', 'Texas National Bank', 'First FarmBank', 'AccessBank Texas', 'The Falls City National Bank', 'Thrivent FCU', 'ABNB FCU', 'First Southern Bank', 'Maple City Savings Bank, FSB', 'Bank of Belleville', 'Waterford Bank, National Association', 'First National Bank of Anderson', 'Sabine State Bank & Trust Company', 'American Bank Center', 'North State Bank', 'CSE FCU', 'First Community Bank and Trust', 'HOMEBANK', 'North Dallas Bank & Trust Company', 'Thomasville National Bank', 'Central State Bank', 'Citizens National Bank of Albion', 'FineMark National Bank & Trust', 'Tejas Bank', 'Northwest Bank & Trust Company', 'First State Bank of Uvalde', 'Patterson State Bank', 'Members Trust of the Southwest FCU', 'TIAA Bank, A Division of', 'SAFE CU', 'VisionBank', 'Franklin Synergy Bank', 'Benworth Capital', 'Park State Bank & Trust', 'The Clay City Banking Co', 'Hana Small Business Lending, Inc.', 'Shelby Savings Bank, SSB', 'First Palmetto Bank', 'Legacy Bank & Trust Company', 'FVCbank', 'First Home Bank', 'Chartway FCU', 'Minnesota Lakes Bank', 'Midwest Regional Bank', 'Citizens National Bank of Crosbyton', 'HomeStreet Bank', 'The First National Bank of Kemp', 'United Bank & Trust', 'Austin Bank, Texas National Association', 'Heritage Community Bank', 'Commercial State Bank of Wagner', 'First Western Bank & Trust', 'The Harrison County Bank', 'Citizens State Bank of Milford', 'Exchange Bank', 'Lincoln Savings Bank', 'The Lamesa National Bank', 'KeyBank National Association', 'C3Bank, National Association', 'Self-Help FCU', 'First State Bank', 'Banner Capital Bank', 'Bank of Labor', 'The Valley State Bank', 'Shamrock Bank, National Association', 'Provident State Bank, Inc.', 'Diamond Bank', 'Firstrust Savings Bank', 'FirstState Bank', 'Farmers Bank & Trust Company', 'Shinhan Bank America', 'First National Bank of Burleson', 'Velocity CU', 'First State Bank & Trust', 'Central Bank of St. Louis', 'Seattle Bank', 'First National Bank of Pennsylvania', 'Midwest Community Bank', 'Heritage Bank, National Association', 'Farmers and Merchants State Bank', 'GBC International Bank', 'Community Bank of Wichita, Inc', 'Graham Savings & Loan, SSB', 'Fortis Private Bank', 'Sandia Laboratory FCU', 'Signature Bank, National Associatioin', 'First National Bank of Clarksdale', 'Hiawatha National Bank', 'First Education FCU', 'The First National Bank of Ballinger', 'Benchmark Bank', 'St. Louis Bank', 'Tennessee State Bank', 'City National Bank of Florida', 'Charter Bank', 'Prime Meridian Bank', 'Israel Discount Bank of New York', 'Idaho Central CU', 'Stock Yards Bank & Trust Company', 'Lamar Bank and Trust Company', 'Itria Ventures LLC', 'Mississippi FCU', 'The Yoakum National Bank', 'Eastern Bank', 'LCA Bank Corporation', 'Southern Bank', 'American Savings Bank, FSB', 'First Secure Bank and Trust Co.', 'Citywide Banks', 'Cornhusker Bank', 'Ozark Bank', 'Kennebec Savings Bank', 'Pony Express Bank', 'Springfield First Community Bank', 'Sutton Bank', 'First-Lockhart National Bank', \"Georgia's Own CU\", 'Buckeye State Bank', 'First Savings Bank', 'First Bank of Owasso', 'Wintrust Bank, National Association', 'Barrington Bank & Trust Company, National Association', 'First Commercial Bank', 'Tri City National Bank', 'Minnesota Bank & Trust', 'Bank Leumi USA', 'Kress National Bank', 'Deseret First FCU', 'Educators CU', 'Pavillion Bank', 'Bank of the Sierra', 'Union National Bank', 'Western Bank of Clovis', 'Independent Bank', 'Merchants & Farmers Bank & Trust Company', 'The Brady National Bank', 'Peoples Bank and Trust Company', 'HomeTrust Bank', 'Signature Bank of Arkansas', 'PlainsCapital Bank', 'Security Bank of Pulaski County', 'Interstate Bank', 'Grant County Bank', 'First Security Bank of Nevada', 'First Financial Bank', 'The Security State Bank', 'First New Mexico Bank', 'Bremer Bank, National Association', 'Capital CU', 'First Midwest Bank', 'First National Bank USA', 'Southwest Capital Bank', 'Bank of Springfield', 'Bryant State Bank', 'Plains Commerce Bank', 'Citizens Business Bank', 'US Metro Bank', 'First Secure Community Bank', 'State Savings Bank', 'Alliance Bank Central Texas', 'Washington State Empl CU', 'Eagle Bank', 'Prairie Community Bank', 'Johnson State Bank', 'Farmers-Merchants Bank & Trust Company', 'First Eagle Bank', 'Alaska USA FCU', 'Pioneer Bank, SSB', 'BankFirst Financial Services', 'BOKF, National Association', 'Platte Valley Bank', 'National United', 'Pioneer Bank', 'First United Bank & Trust', 'Arbor Bank', 'SJN Bank of Kansas', 'The Northern Trust Company', 'FMS Bank', 'Grand Bank', 'Century Bank of the Ozarks', 'Territorial Bank of American Samoa', 'The First National Bank of Evant', 'InBank', 'Guaranty Bank', 'Life FCU', 'Security National Bank of Omaha', 'BancFirst', 'New Mexico Bank & Trust', \"Oklahoma's CU\", 'The Perryton National Bank', 'Cornerstone National Bank & Trust Company', 'Santa Cruz County Bank', 'The Western State Bank', 'First National Bank of Huntsville', 'Adams Bank & Trust', 'Pinnacle Bank-Wyoming', 'Pine River State Bank', 'Princeville State Bank', 'Firstar Bank', 'Liberty Capital Bank', 'Bethpage FCU', 'Mi Bank', 'Toyota Financial Savings Bank', 'First State Bank of Odem', 'Centier Bank', 'Morton Community Bank', 'The Malvern National Bank', 'IncredibleBank', 'First Missouri Bank', 'Regent Bank', 'Wells Fargo Bank, National Association', 'Citizens Community Federal National Association', 'Community Bank of Mississippi', 'Triumph Bank', 'First Federal Community Bank, SSB', 'First Bank, Upper Michigan', 'CIBM Bank', 'American State Bank', 'First New Mexico Bank Las Cruces', 'Solera National Bank', 'Grinnell State Bank', 'CoBank ACB', 'The First National Bank of Eldorado', 'American Bank of Commerce', 'Cross Keys Bank', 'Arizona Bank & Trust', 'Farmers State Bank & Trust Co.', 'Wasatch Peaks FCU', 'Alpine Bank', 'Sundown State Bank', 'Centric Bank', 'First Enterprise Bank', 'Santander Bank, National Association', 'First Resource Bank', 'Peoples Independent Bank', 'First National Bank Baird d/b/a First Bank Texas', 'Citizens Bank & Trust Company of Vivian, Louisiana, Inc.', 'First National Bank and Trust Company of Ardmore', 'Caldwell Bank & Trust Company', 'Redwood Capital Bank', 'Beartooth Bank', 'Citizens Bank of Lafayette', 'Captex Bank, National Association', 'Washington Trust Bank', 'American AgCredit, ACA', 'Fidelity Bank, National Association', 'FirstCapital Bank of Texas, National Association', 'El Paso Area Teachers FCU', 'Bank of the Panhandle', 'Bankers Trust Company', 'Texas Regional Bank', 'Farm Credit Services of Eastern Missouri, PCA', 'Waukon State Bank', 'First Neighbor Bank, National Association', 'Louisiana FCU', 'Coleman County State Bank', 'Lakeside Bank', 'iTHINK Financial CU', 'The First Liberty National Bank', 'City Bank & Trust Co.', 'ELCA FCU', 'Farmers & Stockmens Bank', 'Nicolet National Bank', 'Coastal States Bank', 'Truity FCU', 'Chappell Hill Bank', 'The Riley State Bank of Riley, Kansas', 'The First National Bank of Granbury', 'Sunflower Bank, National Association', 'South State Bank, National Association', 'Incommons Bank, National Association', 'Cyprus FCU', 'CommunityBank of Texas, National Association', '1st Choice CU', 'Savoy Bank', 'Grant County State Bank', 'The Cecilian Bank', 'UBank', 'Chemung Canal Trust Company', 'Blue Ridge Bank, National Association', 'Truxton Trust Company', 'Greater State Bank', 'Midwest Bank National Association', 'Digital FCU', 'Stockmans Bank', 'Midwest Bank', 'Robertson Banking Company', 'First United Bank', 'Clearinghouse CDFI PPP', 'First Missouri State Bank of Cape County', 'State Bank of Southern Utah', 'Pioneer Bank & Trust', 'First Heritage Bank', 'Texas Heritage Bank', 'Barksdale FCU', 'Business Bank of Texas, National Association', 'The Stock Exchange Bank', 'Community National Bank', 'Community National Bank & Trust of Texas', 'Bank of Stockton', 'Winnsboro State Bank & Trust Co.', 'Stearns Bank National Association', 'United Texas Bank', 'Bank of Monticello', 'Sterling Federal Bank, F.S.B.', 'Capital Bank', 'The State National Bank of Big Spring', 'The Commercial Bank', 'OneSouth Bank', 'Capital City Bank', 'The MINT National Bank', 'Hometown Bank, National Association', 'Embassy National Bank', 'Chambers Bank', 'First National Bank North', 'Richfield-Bloomington CU', 'South Central Bank, Inc.', 'The First National Bank of Tom Bean', 'Vista Bank', 'American Bank & Trust', 'Greater Nevada CU', 'Prairie State Bank and Trust', 'First IC Bank', 'Delta Community CU', 'First National Bank of Central Texas', 'Vision Bank, National Association', \"Martha's Vineyard Savings Bank\", 'Marquette Savings Bank', 'Hilltop National Bank', 'Security Financial Bank', 'Park Ridge Community Bank', 'Planters Bank & Trust Company', 'First Bank of Alabama', 'Prairie Bank of Kansas', 'Heartland State Bank', 'The Farmers State Bank of Oakley, Kansas', 'Prime Bank', 'Arvest Bank', 'Marlin Business Bank', 'Ledyard National Bank', 'SSB Bank', 'Bank of Utica', 'Bank of Colorado', 'The Adirondack Trust Company', 'Valliance Bank', 'Texas Gulf Bank, National Association', 'Air Force FCU', 'Lewis & Clark Bank', 'Mid America Bank', 'West Texas National Bank', 'Meadows Bank', 'International City Bank', 'Hanmi Bank', 'Gorham Savings Bank', 'Aspire Bank', \"People's United Bank, National Association\", 'American Business Bank', 'Southwestern National Bank', 'R Bank', 'Dupaco Community CU', 'Jovia Financial FCU', '1st Bank in Hominy', 'Clearwater FCU', 'First Federal Bank of Louisiana', '1st Bank Yuma', 'Westside State Bank', 'Texas State Bank', 'The First National Bank of Carmi', 'Carrollton Bank', 'River Bank & Trust', 'First Bank and Trust of Childress', 'BSD Capital, LLC dba Lendistry', 'Timberline Bank', 'Classic Bank, National Association', 'Commercial Bank', 'Libertyville Bank & Trust Company, National Association', 'Pointbank', 'Westfield Bank, FSB', 'Inwood National Bank', 'Bank of Hydro', 'First Security Bank & Trust Company', 'Bank of Brenham, N.A.', 'The Union Bank Company', 'Kensington Bank', 'The First Bank of Celeste', 'CNB Bank', 'American First CU', 'VyStar CU', 'Central National Bank', 'Louisiana Catholic FCU', 'Cross County Bank', 'Prosperity Bank', 'WestStar Bank', 'Utah Community FCU', 'Community First National Bank', 'Citizens & Northern Bank', 'Allegacy FCU', 'First National Bank of Jasper', 'BOC Bank', 'Frontier State Bank', 'Fresno First Bank', 'Community Savings Bank', 'Midstates Bank, National Association', 'HomeBank Texas', 'First National Bank of Giddings', 'Ashton State Bank', 'Guaranty Bank & Trust Company of Delhi, Louisiana', 'Bank of Jackson Hole', 'Security State Bank', 'Dakota Community Bank & Trust, National Association', 'Henderson Federal Savings Bank', 'American National Bank and Trust Company', 'The Middlefield Banking Company', 'The Dolores State Bank', 'SouthTrust Bank, National Association', 'Allegiance Bank', 'Production Credit Association of Southern New Mexi', 'Security First Bank', 'Small Business Bank', 'Emprise Bank', 'United Bank', 'River City Bank', 'Fayetteville Bank', 'The Community Bank', 'Idaho Trust Bank', 'Kinecta FCU', 'Bank of America, National Association', 'The Education CU', 'The Bank of Beaver City', 'United States Senate FCU', 'Pacific Premier Bank', 'Johnson City Bank', 'Muenster State Bank', 'Texan Bank, National Association', 'First Western SBLC, Inc', 'Community Choice CU', 'Community Banks of Colorado, A Division of', 'The First National Bank of Moody', 'American Bank, National Association', 'First Bankers Trust Company, National Association', 'Texas Citizens Bank, National Association', 'Washington County Bank', 'The Jacksboro National Bank', 'Minnwest Bank', 'Spirit of Texas Bank, SSB', 'Capitol Federal Savings Bank', 'America First FCU', 'Glacier Bank', 'Bank of Houston, National Association', 'Flatwater Bank', 'Lexicon Bank', 'Continental Bank', 'Central Bank & Trust Co.', 'Farm Credit of South Florida, ACA', 'Four Corners Community Bank', 'The State Bank', 'Community Federal Savings Bank', 'VeraBank, National Association', 'Coffee County Bank', 'Vibrant CU', 'Sage Capital Bank', 'Centennial Bank', 'First Foundation Bank', 'Nizari Progressive FCU', 'Grand Savings Bank', 'Suncoast CU', 'Texell CU', 'Keystone Bank, National Association', 'Municipal Trust and Savings Bank', 'Texas Associations of Professionals FCU', 'Iowa State Bank and Trust Company of Fairfield, Iowa', 'First Service Bank', 'Grasshopper Bank, National Association', 'First National Bank of Dublin', 'Crossroads Bank', 'Bank of Ann Arbor', 'Central Texas Farm Credit, ACA', 'Atascosa Bank', 'Modern Bank, National Association', 'The First National Bank & Trust', 'Rockland Trust Company', 'CrossFirst Bank', 'Xceed Financial FCU', 'Liberty Bank and Trust Company', 'LinkBank', 'Community Trust Bank, Inc.', 'Open Bank', 'RSNB Bank', 'Pearland State Bank', 'Umpqua Bank', 'AmeriServ Financial Bank', 'Cy Fair FCU', 'The Liberty National Bank in Paris', 'First National Bank of Eastern Arkansas', 'First Western Bank', 'Connecticut Community Bank, National Association', 'S & T Bank', 'Haskell National Bank', 'Intuit Financing Inc.', 'Old National Bank', 'Quail Creek Bank, National Association', 'Pacific Enterprise Bank', 'Tandem Bank', 'Town & Country Bank and Trust Company', 'Citizens Bank of Kentucky, Inc.', 'Gulf Coast Bank', 'CornerstoneBank', 'The Bank of Missouri', 'Border FCU', 'Farmers State Bank & Trust Co', 'Cen-Tex CDC', 'Fifth Third Bank', 'Bank of Holly Springs', 'The Bank of the West', 'Community First Bank', 'The First National Bank of East Texas', 'Amistad Bank', 'Sonabank', 'Ocean Bank', 'The First National Bank of Mertzon', 'Citizens National Bank', 'Crowell State Bank', 'The First State Bank of Shelby', 'The Buckholts State Bank', 'Merchants & Planters Bank', 'Camden National Bank', 'First State Bank Nebraska', 'SouthPoint Bank', 'BBVA USA', 'Heritage Bank of St. Tammany', 'Seacoast Commerce Bank', 'Native American Bank, National Association', 'The First National Bank in Creston', 'First Federal Savings & Loan Association of Lakewood', 'Community Bank of Georgia', 'Cadence Bank, National Association', 'Civista Bank', 'WebBank', 'First United Bank and Trust Company', 'First Choice Bank', 'VelocitySBA, LLC', 'Wallis Bank', 'Pilgrim Bank', 'Boonville Federal Savings Bank', 'Frontier Bank of Texas', 'ValueBank Texas', 'Utah First FCU', 'Fort Davis State Bank', 'Western Bank', 'Cathay Bank', 'Brazos Valley Schools CU', 'The First National Bank of Quitaque', 'The Citizens Bank of Clovis', 'The First National Bank of Floydada', 'Manasquan Bank', 'FirsTier Bank', 'First Bank Elk River', 'Capital Community Bank', 'United Texas CU', 'Baxter CU', 'Lake Michigan CU', 'Schertz Bank & Trust', 'Bank of Hope', 'Peoples Bank of the South', 'The Bank of Clovis', 'Opportunity Bank of Montana', 'Montgomery Bank', 'First National Bank of Pasco', \"People's Bank of Seneca\", 'Frost Bank', 'One World Bank', 'OneUnited Bank', 'Westamerica Bank', 'Progressive Bank', 'First Freedom Bank', 'Spring Hill State Bank', 'CommerceOne Bank', 'Level One Bank', 'First National Bank of Bosque County', 'West Suburban Bank', 'Citizens Bank of Chatsworth', 'Village Bank and Trust, National Association', 'De Witt Bank & Trust Co.', 'Bank of Grand Lake', 'Arkansas County Bank', 'Bank of the Flint Hills', 'The Citizens State Bank of Ouray', 'Farmers Savings Bank', 'International Bank of Commerce', 'The Idabel National Bank', 'The National Bank of Texas at Fort Worth', 'The Central Trust Bank', 'Security State Bank of Oklahoma', 'The Community State Bank', 'RiverHills Bank', 'Bank of Montana', 'Vinings Bank', 'Waypoint Bank', 'East West Bank', 'National Cooperative Bank, National Association', 'Northwest Community CU', 'UniBank', 'Royal Business Bank', 'Wellington State Bank', 'BOM Bank', 'Commercial Bank and Trust Company', 'First Interstate Bank', 'Gold Coast Bank', \"America's Christian CU\", 'Sterling National Bank', 'Bank of Franklin County', 'Amur Equipment Finance, Inc.', 'Pathway Bank', 'Western Commerce Bank', 'City & County CU', 'First Federal Bank Littlefield, Texas', 'BNB Bank', 'Great American Bank', 'MetaBank, National Association', 'Reliant Bank', 'Heart of Louisiana FCU', 'Southern Heritage Bank', 'Farm Credit Services of America, ACA', 'American Momentum Bank', 'Raza Development Fund, Inc.', 'Bank of Blue Valley', 'The Bank of Fayette County', 'Meritrust FCU', 'New Carlisle Federal Savings Bank', 'The Huntington National Bank', 'Accion', 'Hawthorn Bank', 'Capital Bank, National Association', 'American Lending Center', 'The Mercantile Bank of Louisiana, Missouri', 'Olean Area FCU', 'The Bank & Trust, SSB', 'The Bancorp Bank', 'ACNB Bank', 'TruFund Financial Services Inc', 'Bankwell Bank', 'The Plains State Bank', 'Pioneer Mutual FCU', 'IQ CU', 'Bank of St. Francisville', 'Readycap Lending, LLC', 'Synovus Bank', 'Foundation One Bank', 'Castroville State Bank', 'Community National Bank & Trust', 'Valley National Bank', 'The First National Bank of Long Island', 'The First National Bank of Bastrop', 'Inland Bank and Trust', 'Agrow Credit Corporation', 'The Gorham State Bank', 'Parkside Financial Bank & Trust', 'Allied First Bank', 'First Chatham Bank', 'Central Bank', 'U.S. Bank, National Association', 'Relyance Bank, National Association', 'Bank of George', 'North Shore Bank, A Cooperative Bank', 'Bank of Ocean City', 'Citizens Bank & Trust', 'Mineola Community Bank, S.S.B.', 'First Fidelity Bank', 'Security Service FCU', 'Sandhills State Bank', 'The First National Bank of Allendale', 'Atlantic Union Bank', 'First-Citizens Bank & Trust Company', 'United Fidelity Bank, FSB', 'Union Savings Bank', 'PeopleFund', 'Gate City Bank', 'American Community Bank & Trust', 'Pine Island Bank', 'First Service Credit Union', 'First National Bank & Trust Company of McAlester', 'Guadalupe Bank', 'Bridgewater Bank', 'Citizens Bank of Las Cruces', 'United Midwest Savings Bank, National Association', 'Farmers Bank', 'Ennis State Bank', 'First Command Bank', 'Webster Bank, National Association', 'Providence Bank', 'The Roscoe State Bank', 'Choice Financial Group', 'Peoples National Bank, National Association', 'Citizens Bank of Ada', 'Beach Community Bank', 'Fidelity Bank', 'Dundee Bank', 'CommunityAmerica CU', 'Amerant Bank, National Association', 'United Bank of El Paso del Norte', '1st Financial Bank USA', 'Anchor State Bank', 'Blue Sky Bank', 'Marine Bank', 'Coastal Community Bank', 'Nebraska Bank of Commerce', 'Evergreen Bank Group', 'First PREMIER Bank', 'Crockett National Bank', 'Tri Counties Bank', 'Midland States Bank', 'First Security Bank of Deer Lodge', 'Five Star Bank', 'The First National Bank of Ottawa', 'Citizens Progressive Bank', 'Legend Bank, National Association', 'Silicon Valley Bank', 'Citizens Bank of Rogersville', 'The First, A National Banking Association', 'TBK Bank, SSB', 'The First National Bank of Shiner', 'Equity Bank', 'Everest FCU', 'First National Bank of Picayune', 'Bank Independent', 'Midwest BankCentre', 'First State Bank of San Diego', 'South Louisiana Bank', 'Home Federal Bank', 'Woori America Bank', 'The First National Bank of Hughes Springs', 'Citizens 1st Bank', 'The Bank of Burlington', 'D. L. Evans Bank', 'Bruning Bank', 'International Bank of Chicago', 'First National Bank of Hereford', 'MVB Bank, Inc.', 'Carson Community Bank', 'American First National Bank', 'Fulton Bank, National Association', 'Liberty National Bank'}\n",
      "List of unique labels for CD:::{nan, 'TX-25', 'TX-13', 'TX-26', 'TX-04', 'CA-45', 'TX-36', 'AZ-08', 'TX-16', 'TX-02', 'TX-09', 'NJ-07', 'TX-18', 'TX-03', 'FL-19', 'TX-28', 'TX-20', 'TX-24', 'TX-27', 'TX-32', 'TX-08', 'TX-11', 'TX-35', 'TX-31', 'NY-12', 'TX-07', 'TX-12', 'NM-03', 'TX-15', 'TX-06', 'TX-14', 'TX-23', 'TX-29', 'CA-17', 'TX-34', 'AZ-05', 'TX-17', 'TX-22', 'TX-05', 'TX-19', 'TX-01', 'LA-02', 'OK-01', 'TX-10', 'TX-30', 'TX-33', 'LA-06', 'TX-21', 'NM-02', 'NJ-09'}\n",
      "List of unique labels for LoanRange:::{1, 2, 3, 4, 5, 6, 7, 8, 9, 10, 11}\n"
     ]
    }
   ],
   "source": [
    "# we are intentionally narrowing the scope of the loan data details for those with strong completion entries, minimal nulls\n",
    "contains_null = ['Zip', 'BusinessType', 'DateApproved', 'Lender','CD', 'LoanRange']\n",
    "\n",
    "for col in contains_null:\n",
    "    print(f\"List of unique labels for {col}:::{set(data[col])}\")"
   ]
  },
  {
   "cell_type": "markdown",
   "metadata": {},
   "source": [
    "### Clean up null values\n",
    "\n",
    "For the sake of simplicity, I'm going to make a few assumptions:\n",
    "\n",
    "- `Dependents`: Assumption that there are no dependents (0: 345 | 1: 102 | 2: 101 | 3+: 51)\n",
    "- `Self_Employed`: Assumption that the applicant is not self-employed (No: 500 | Yes: 82)\n",
    "- `Credit_History`: Assumption that the person has a credit history (True: 475 | False: 89)\n",
    "- `Married`: If nothing specified, applicant is not married\n",
    "- `Gender`: Assuming the gender is Male for the missing values (Male: 489 | Female: 112)"
   ]
  },
  {
   "cell_type": "code",
   "execution_count": null,
   "metadata": {},
   "outputs": [],
   "source": [
    "data['Dependents'] = data['Dependents'].fillna('0')\n",
    "data['Self_Employed'] = data['Self_Employed'].fillna('No')\n",
    "data['Credit_History'] = data['Credit_History'].fillna(1)\n",
    "data['Married'] = data['Married'].fillna('No')\n",
    "data['Gender'] = data['Gender'].fillna('Male')"
   ]
  },
  {
   "cell_type": "markdown",
   "metadata": {},
   "source": [
    "### View cleaned up values"
   ]
  },
  {
   "cell_type": "code",
   "execution_count": null,
   "metadata": {},
   "outputs": [],
   "source": [
    "label_cols = ['Gender', 'Married', 'Dependents', 'Self_Employed', 'Education', 'Property_Area', 'Loan_Status']\n",
    "\n",
    "for col in label_cols:\n",
    "    print(f\"List of unique labels for {col} ::: {set(data[col])}\")"
   ]
  },
  {
   "cell_type": "markdown",
   "metadata": {},
   "source": [
    "### Encode categorical fields\n",
    "We have a lot of `string` labels that we encounter in `Gender`, `Married`, `Education`, `Self_Employed` & `Property_Area` columns."
   ]
  },
  {
   "cell_type": "code",
   "execution_count": null,
   "metadata": {},
   "outputs": [],
   "source": [
    "# create dictionaries to map fields to numeric values\n",
    "gender_values = {'Female' : 0, 'Male' : 1} \n",
    "married_values = {'No' : 0, 'Yes' : 1}\n",
    "education_values = {'Graduate' : 0, 'Not Graduate' : 1}\n",
    "employed_values = {'No' : 0, 'Yes' : 1}\n",
    "dependent_values = {'3+': 3, '0': 0, '2': 2, '1': 1}\n",
    "target_values = {'Y':1, 'N':0}\n",
    "\n",
    "# replace values in each column according to the dictionaries above\n",
    "data.replace({'Gender': gender_values, 'Married': married_values, 'Education': education_values, \\\n",
    "                'Self_Employed': employed_values, 'Dependents': dependent_values, 'Loan_Status': target_values}, inplace=True)\n",
    "\n",
    "# Get dummy variables for nominal property column\n",
    "clean_data = pd.get_dummies(data, columns=[\"Property_Area\"])\n",
    "\n",
    "clean_data.head()"
   ]
  },
  {
   "cell_type": "markdown",
   "metadata": {},
   "source": [
    "### Train/Test Split"
   ]
  },
  {
   "cell_type": "code",
   "execution_count": null,
   "metadata": {},
   "outputs": [],
   "source": [
    "# store the target variable in y and everything else goes in X\n",
    "y = clean_data['Loan_Status']\n",
    "\n",
    "# we're also dropping Load_ID because it adds no value to the prediction\n",
    "X = clean_data.drop(['Loan_ID', 'Loan_Status'], axis=1)\n",
    "\n",
    "X_train, X_test, y_train, y_test = train_test_split(X, y, test_size=0.25, random_state=3)\n",
    "\n",
    "X_train.shape"
   ]
  },
  {
   "cell_type": "markdown",
   "metadata": {},
   "source": [
    "### Fill the nulls for the continuous variables with the mean values of that column"
   ]
  },
  {
   "cell_type": "code",
   "execution_count": null,
   "metadata": {},
   "outputs": [],
   "source": [
    "X_train['Loan_Amount_Term'] = X_train['Loan_Amount_Term'].fillna(X_train['Loan_Amount_Term'].mean())\n",
    "X_train['LoanAmount'] = X_train['LoanAmount'].fillna(X_train['LoanAmount'].mean())\n",
    "X_test['Loan_Amount_Term'] = X_test['Loan_Amount_Term'].fillna(X_test['Loan_Amount_Term'].mean())\n",
    "X_test['LoanAmount'] = X_test['LoanAmount'].fillna(X_test['LoanAmount'].mean())\n",
    "\n",
    "\n",
    "# View the datatypes of all columns\n",
    "X_train.dtypes"
   ]
  },
  {
   "cell_type": "markdown",
   "metadata": {},
   "source": [
    "### Confirm that we no longer have any nulls"
   ]
  },
  {
   "cell_type": "code",
   "execution_count": null,
   "metadata": {},
   "outputs": [],
   "source": [
    "X_train.isnull().sum()"
   ]
  },
  {
   "cell_type": "markdown",
   "metadata": {},
   "source": [
    "### Create the classifier model and the parameter grid for GridSearch"
   ]
  },
  {
   "cell_type": "code",
   "execution_count": null,
   "metadata": {},
   "outputs": [],
   "source": [
    "from sklearn.ensemble import RandomForestClassifier\n",
    "\n",
    "model = RandomForestClassifier()\n",
    "\n",
    "param_grid = {\"n_estimators\" : [10, 20, 50, 100],\n",
    "             \"max_depth\" : [None, 6, 8, 10],\n",
    "             \"max_leaf_nodes\": [None, 5, 10, 20], \n",
    "             \"min_impurity_split\": [0.1, 0.2, 0.3, 0.4]}"
   ]
  },
  {
   "cell_type": "markdown",
   "metadata": {},
   "source": [
    "### Initialize the GridSearch to tune my hyperparameters"
   ]
  },
  {
   "cell_type": "code",
   "execution_count": null,
   "metadata": {},
   "outputs": [],
   "source": [
    "from sklearn.model_selection import GridSearchCV\n",
    "\n",
    "grid = GridSearchCV(model, param_grid=param_grid, cv=3, verbose=2)"
   ]
  },
  {
   "cell_type": "markdown",
   "metadata": {},
   "source": [
    "### Execute the tuning"
   ]
  },
  {
   "cell_type": "code",
   "execution_count": null,
   "metadata": {},
   "outputs": [],
   "source": [
    "grid.fit(X_train, y_train)"
   ]
  },
  {
   "cell_type": "markdown",
   "metadata": {},
   "source": [
    "### View the results"
   ]
  },
  {
   "cell_type": "code",
   "execution_count": null,
   "metadata": {},
   "outputs": [],
   "source": [
    "print(f\"Best parameters: {grid.best_params_}\")\n",
    "print(f\"Test set score: {grid.score(X_test, y_test)}\")"
   ]
  },
  {
   "cell_type": "markdown",
   "metadata": {},
   "source": [
    "# Saving the model"
   ]
  },
  {
   "cell_type": "code",
   "execution_count": null,
   "metadata": {},
   "outputs": [],
   "source": [
    "import pickle\n",
    "\n",
    "with open('RF_model.pkl','wb') as f:\n",
    "    pickle.dump(grid, f)"
   ]
  },
  {
   "cell_type": "markdown",
   "metadata": {},
   "source": [
    "### Loading the saved model"
   ]
  },
  {
   "cell_type": "code",
   "execution_count": null,
   "metadata": {},
   "outputs": [],
   "source": [
    "with open('RF_model.pkl', 'rb') as f:\n",
    "    model = pickle.load(f)"
   ]
  },
  {
   "cell_type": "markdown",
   "metadata": {},
   "source": [
    "### Test the saved model"
   ]
  },
  {
   "cell_type": "code",
   "execution_count": null,
   "metadata": {},
   "outputs": [],
   "source": [
    "print(f\"Test set score: {model.score(X_test, y_test)}\")"
   ]
  },
  {
   "cell_type": "code",
   "execution_count": null,
   "metadata": {},
   "outputs": [],
   "source": [
    "model"
   ]
  }
 ],
 "metadata": {
  "kernelspec": {
   "display_name": "Python 3",
   "language": "python",
   "name": "python3"
  },
  "language_info": {
   "codemirror_mode": {
    "name": "ipython",
    "version": 3
   },
   "file_extension": ".py",
   "mimetype": "text/x-python",
   "name": "python",
   "nbconvert_exporter": "python",
   "pygments_lexer": "ipython3",
   "version": "3.8.3"
  }
 },
 "nbformat": 4,
 "nbformat_minor": 4
}
