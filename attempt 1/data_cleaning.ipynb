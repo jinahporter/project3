{
 "cells": [
  {
   "cell_type": "code",
   "execution_count": 1,
   "metadata": {},
   "outputs": [],
   "source": [
    "import numpy as np\n",
    "import pandas as pd\n",
    "\n",
    "import matplotlib.pyplot as plt"
   ]
  },
  {
   "cell_type": "code",
   "execution_count": 2,
   "metadata": {},
   "outputs": [
    {
     "data": {
      "text/html": [
       "<div>\n",
       "<style scoped>\n",
       "    .dataframe tbody tr th:only-of-type {\n",
       "        vertical-align: middle;\n",
       "    }\n",
       "\n",
       "    .dataframe tbody tr th {\n",
       "        vertical-align: top;\n",
       "    }\n",
       "\n",
       "    .dataframe thead th {\n",
       "        text-align: right;\n",
       "    }\n",
       "</style>\n",
       "<table border=\"1\" class=\"dataframe\">\n",
       "  <thead>\n",
       "    <tr style=\"text-align: right;\">\n",
       "      <th></th>\n",
       "      <th>company</th>\n",
       "      <th>region</th>\n",
       "      <th>demand</th>\n",
       "      <th>local_time</th>\n",
       "      <th>utc_time</th>\n",
       "      <th>city</th>\n",
       "    </tr>\n",
       "  </thead>\n",
       "  <tbody>\n",
       "    <tr>\n",
       "      <th>0</th>\n",
       "      <td>NYIS</td>\n",
       "      <td>ZONJ</td>\n",
       "      <td>7269.0</td>\n",
       "      <td>2018-07-01 01:00:00</td>\n",
       "      <td>2018-07-01 05:00:00</td>\n",
       "      <td>nyc</td>\n",
       "    </tr>\n",
       "    <tr>\n",
       "      <th>1</th>\n",
       "      <td>NYIS</td>\n",
       "      <td>ZONJ</td>\n",
       "      <td>6977.0</td>\n",
       "      <td>2018-07-01 02:00:00</td>\n",
       "      <td>2018-07-01 06:00:00</td>\n",
       "      <td>nyc</td>\n",
       "    </tr>\n",
       "    <tr>\n",
       "      <th>2</th>\n",
       "      <td>NYIS</td>\n",
       "      <td>ZONJ</td>\n",
       "      <td>6725.0</td>\n",
       "      <td>2018-07-01 03:00:00</td>\n",
       "      <td>2018-07-01 07:00:00</td>\n",
       "      <td>nyc</td>\n",
       "    </tr>\n",
       "    <tr>\n",
       "      <th>3</th>\n",
       "      <td>NYIS</td>\n",
       "      <td>ZONJ</td>\n",
       "      <td>6539.0</td>\n",
       "      <td>2018-07-01 04:00:00</td>\n",
       "      <td>2018-07-01 08:00:00</td>\n",
       "      <td>nyc</td>\n",
       "    </tr>\n",
       "    <tr>\n",
       "      <th>4</th>\n",
       "      <td>NYIS</td>\n",
       "      <td>ZONJ</td>\n",
       "      <td>6415.0</td>\n",
       "      <td>2018-07-01 05:00:00</td>\n",
       "      <td>2018-07-01 09:00:00</td>\n",
       "      <td>nyc</td>\n",
       "    </tr>\n",
       "  </tbody>\n",
       "</table>\n",
       "</div>"
      ],
      "text/plain": [
       "  company region  demand           local_time             utc_time city\n",
       "0    NYIS   ZONJ  7269.0  2018-07-01 01:00:00  2018-07-01 05:00:00  nyc\n",
       "1    NYIS   ZONJ  6977.0  2018-07-01 02:00:00  2018-07-01 06:00:00  nyc\n",
       "2    NYIS   ZONJ  6725.0  2018-07-01 03:00:00  2018-07-01 07:00:00  nyc\n",
       "3    NYIS   ZONJ  6539.0  2018-07-01 04:00:00  2018-07-01 08:00:00  nyc\n",
       "4    NYIS   ZONJ  6415.0  2018-07-01 05:00:00  2018-07-01 09:00:00  nyc"
      ]
     },
     "execution_count": 2,
     "metadata": {},
     "output_type": "execute_result"
    }
   ],
   "source": [
    "data = pd.read_csv(\"cleaned_subregion_data.csv\")\n",
    "data.head()"
   ]
  },
  {
   "cell_type": "code",
   "execution_count": 5,
   "metadata": {},
   "outputs": [
    {
     "name": "stdout",
     "output_type": "stream",
     "text": [
      "<class 'pandas.core.frame.DataFrame'>\n",
      "RangeIndex: 132288 entries, 0 to 132287\n",
      "Data columns (total 6 columns):\n",
      " #   Column      Non-Null Count   Dtype  \n",
      "---  ------      --------------   -----  \n",
      " 0   company     132288 non-null  object \n",
      " 1   region      132288 non-null  object \n",
      " 2   demand      106316 non-null  float64\n",
      " 3   local_time  132288 non-null  object \n",
      " 4   utc_time    132288 non-null  object \n",
      " 5   city        132288 non-null  object \n",
      "dtypes: float64(1), object(5)\n",
      "memory usage: 6.1+ MB\n"
     ]
    }
   ],
   "source": [
    "data.info()"
   ]
  },
  {
   "cell_type": "code",
   "execution_count": 7,
   "metadata": {},
   "outputs": [
    {
     "data": {
      "text/plain": [
       "company           0\n",
       "region            0\n",
       "demand        25972\n",
       "local_time        0\n",
       "utc_time          0\n",
       "city              0\n",
       "dtype: int64"
      ]
     },
     "execution_count": 7,
     "metadata": {},
     "output_type": "execute_result"
    }
   ],
   "source": [
    "#check any null values (except demand)\n",
    "data.isnull().sum()"
   ]
  },
  {
   "cell_type": "code",
   "execution_count": 17,
   "metadata": {},
   "outputs": [
    {
     "data": {
      "text/plain": [
       "san antonio     16536\n",
       "philadelphia    16536\n",
       "dallas          16536\n",
       "san jose        16536\n",
       "houston         16536\n",
       "san diego       16536\n",
       "nyc             16536\n",
       "la              16536\n",
       "Name: city, dtype: int64"
      ]
     },
     "execution_count": 17,
     "metadata": {},
     "output_type": "execute_result"
    }
   ],
   "source": [
    "data[\"city\"].value_counts()"
   ]
  },
  {
   "cell_type": "code",
   "execution_count": null,
   "metadata": {},
   "outputs": [],
   "source": [
    "# leave 3 cities in TX - Debra, here you go!"
   ]
  }
 ],
 "metadata": {
  "kernelspec": {
   "display_name": "Python 3",
   "language": "python",
   "name": "python3"
  },
  "language_info": {
   "codemirror_mode": {
    "name": "ipython",
    "version": 3
   },
   "file_extension": ".py",
   "mimetype": "text/x-python",
   "name": "python",
   "nbconvert_exporter": "python",
   "pygments_lexer": "ipython3",
   "version": "3.8.3"
  }
 },
 "nbformat": 4,
 "nbformat_minor": 4
}
