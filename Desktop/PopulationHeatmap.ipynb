{
 "cells": [
  {
   "cell_type": "code",
   "execution_count": 2,
   "metadata": {},
   "outputs": [
    {
     "ename": "ModuleNotFoundError",
     "evalue": "No module named 'api_keys'",
     "output_type": "error",
     "traceback": [
      "\u001b[1;31m---------------------------------------------------------------------------\u001b[0m",
      "\u001b[1;31mModuleNotFoundError\u001b[0m                       Traceback (most recent call last)",
      "\u001b[1;32m<ipython-input-2-fab7b2649a1d>\u001b[0m in \u001b[0;36m<module>\u001b[1;34m\u001b[0m\n\u001b[0;32m     19\u001b[0m \u001b[1;33m\u001b[0m\u001b[0m\n\u001b[0;32m     20\u001b[0m \u001b[1;31m# API Keys needed\u001b[0m\u001b[1;33m\u001b[0m\u001b[1;33m\u001b[0m\u001b[1;33m\u001b[0m\u001b[0m\n\u001b[1;32m---> 21\u001b[1;33m \u001b[1;32mfrom\u001b[0m \u001b[0mapi_keys\u001b[0m \u001b[1;32mimport\u001b[0m \u001b[0mweather_api_key\u001b[0m\u001b[1;33m\u001b[0m\u001b[1;33m\u001b[0m\u001b[0m\n\u001b[0m\u001b[0;32m     22\u001b[0m \u001b[1;32mfrom\u001b[0m \u001b[0mapi_keys\u001b[0m \u001b[1;32mimport\u001b[0m \u001b[0mg_key\u001b[0m\u001b[1;33m\u001b[0m\u001b[1;33m\u001b[0m\u001b[0m\n\u001b[0;32m     23\u001b[0m \u001b[0mgmaps\u001b[0m\u001b[1;33m.\u001b[0m\u001b[0mconfigure\u001b[0m\u001b[1;33m(\u001b[0m\u001b[0mapi_key\u001b[0m\u001b[1;33m=\u001b[0m\u001b[0mg_key\u001b[0m\u001b[1;33m)\u001b[0m\u001b[1;33m\u001b[0m\u001b[1;33m\u001b[0m\u001b[0m\n",
      "\u001b[1;31mModuleNotFoundError\u001b[0m: No module named 'api_keys'"
     ]
    }
   ],
   "source": [
    "# Import dependencies\n",
    "\n",
    "import numpy as np\n",
    "import matplotlib.pyplot as plt\n",
    "import numpy as np\n",
    "import random\n",
    "import time\n",
    "import json\n",
    "import requests\n",
    "import scipy.stats as st\n",
    "import requests as req\n",
    "import pandas as pd\n",
    "import requests\n",
    "import gmaps\n",
    "import os\n",
    "from pprint import pprint\n",
    "from datetime import datetime\n",
    "from citipy import citipy\n",
    "\n",
    "# API Keys needed\n",
    "from api_keys import weather_api_key\n",
    "from api_keys import g_key\n",
    "gmaps.configure(api_key=g_key)"
   ]
  },
  {
   "cell_type": "code",
   "execution_count": null,
   "metadata": {},
   "outputs": [],
   "source": [
    "# Path to read the file\n",
    "file = os.path.join(\"Rice-Project-1-G11\\Resources\", \"ktop100latlng.csv\")\n",
    "\n",
    "#Read file and store into a dataframe\n",
    "ktop100latlng=pd.read_csv(file)"
   ]
  },
  {
   "cell_type": "code",
   "execution_count": null,
   "metadata": {},
   "outputs": [],
   "source": [
    "ktop100latlng.head()\n"
   ]
  },
  {
   "cell_type": "code",
   "execution_count": null,
   "metadata": {},
   "outputs": [],
   "source": [
    "# Create location based on lat / long\n",
    "lat_long = ktop100latlng[['Latitude', 'Longitude']]\n",
    "lat_long\n",
    "\n",
    "# Create \n",
    "population = ktop100latlng['Population']\n",
    "population"
   ]
  },
  {
   "cell_type": "code",
   "execution_count": null,
   "metadata": {
    "scrolled": true
   },
   "outputs": [],
   "source": [
    "figure_layout = {'width': '900px', \n",
    "                 'height': '600px', \n",
    "                 'border': '1px solid black', \n",
    "                 'padding': '1px',\n",
    "                 'margin': '0 auto 0 auto'}\n",
    "\n",
    "# Create heatmap\n",
    "population_fig = gmaps.figure(layout=figure_layout,zoom_level=2,center=(15,25))\n",
    "population_layer = gmaps.heatmap_layer(lat_long, weights=population, \n",
    "                                    dissipating=False, max_intensity=2000000, point_radius=2)\n",
    "\n",
    "# Add heat layers\n",
    "population_fig.add_layer(population_layer)\n",
    "\n",
    "population_fig"
   ]
  },
  {
   "cell_type": "code",
   "execution_count": null,
   "metadata": {},
   "outputs": [],
   "source": [
    "# Path to read the file\n",
    "file = os.path.join(\"Rice-Project-1-G11\\Resources\", \"census_dataframe.csv\")\n",
    "\n",
    "#Read file and store into a dataframe\n",
    "census_dataframe=pd.read_csv(file)"
   ]
  },
  {
   "cell_type": "code",
   "execution_count": null,
   "metadata": {},
   "outputs": [],
   "source": [
    "census_dataframe.head()"
   ]
  },
  {
   "cell_type": "code",
   "execution_count": null,
   "metadata": {},
   "outputs": [],
   "source": [
    "census_dataframe=census_dataframe.rename(columns = {\"Zipcode\" : \"Zip\"})"
   ]
  },
  {
   "cell_type": "code",
   "execution_count": null,
   "metadata": {},
   "outputs": [],
   "source": [
    "census_dataframe.head()"
   ]
  },
  {
   "cell_type": "code",
   "execution_count": null,
   "metadata": {},
   "outputs": [],
   "source": [
    "# Path to read the file\n",
    "file = os.path.join(\"Rice-Project-1-G11\\Resources\", \"us-zip-code-latitude-and-longitude.csv\")\n",
    "\n",
    "#Read file and store into a dataframe\n",
    "ziplatlong=pd.read_csv(file)"
   ]
  },
  {
   "cell_type": "code",
   "execution_count": null,
   "metadata": {},
   "outputs": [],
   "source": [
    "ziplatlong.head()"
   ]
  },
  {
   "cell_type": "code",
   "execution_count": null,
   "metadata": {},
   "outputs": [],
   "source": [
    "# Combine the data into a single dataset\n",
    "study_data_df = pd.merge(census_dataframe, ziplatlong, on=\"Zip\", suffixes=(\"_census\", \"_ziplatlong\"))\n",
    "\n",
    "# Display the data table for preview\n",
    "study_data_df.head()"
   ]
  },
  {
   "cell_type": "code",
   "execution_count": null,
   "metadata": {},
   "outputs": [],
   "source": [
    "study_data_df.count()"
   ]
  },
  {
   "cell_type": "code",
   "execution_count": null,
   "metadata": {},
   "outputs": [],
   "source": [
    "popcount=len(study_data_df[\"Zip\"].unique())\n",
    "popcount"
   ]
  },
  {
   "cell_type": "code",
   "execution_count": null,
   "metadata": {},
   "outputs": [],
   "source": [
    "# Create location based on lat / long\n",
    "coord = study_data_df[['Latitude', 'Longitude']]\n",
    "coord\n"
   ]
  },
  {
   "cell_type": "code",
   "execution_count": null,
   "metadata": {},
   "outputs": [],
   "source": [
    "# Create \n",
    "population2 = study_data_df['Population']\n",
    "population2"
   ]
  },
  {
   "cell_type": "code",
   "execution_count": null,
   "metadata": {},
   "outputs": [],
   "source": [
    "figure_layout = {'width': '900px', \n",
    "                 'height': '600px', \n",
    "                 'border': '1px solid black', \n",
    "                 'padding': '1px',\n",
    "                 'margin': '0 auto 0 auto'}\n",
    "\n",
    "# Create heatmap\n",
    "population2_fig = gmaps.figure(layout=figure_layout,zoom_level=2,center=(15,25))\n",
    "population2_layer = gmaps.heatmap_layer(coord, weights=population2, \n",
    "                                    dissipating=True, max_intensity=50000, point_radius=2)\n",
    "\n",
    "# Add heat layers\n",
    "population2_fig.add_layer(population2_layer)\n",
    "\n",
    "population2_fig"
   ]
  },
  {
   "cell_type": "code",
   "execution_count": null,
   "metadata": {},
   "outputs": [],
   "source": []
  },
  {
   "cell_type": "code",
   "execution_count": null,
   "metadata": {},
   "outputs": [],
   "source": []
  },
  {
   "cell_type": "code",
   "execution_count": null,
   "metadata": {},
   "outputs": [],
   "source": []
  },
  {
   "cell_type": "code",
   "execution_count": null,
   "metadata": {},
   "outputs": [],
   "source": []
  },
  {
   "cell_type": "code",
   "execution_count": null,
   "metadata": {},
   "outputs": [],
   "source": []
  }
 ],
 "metadata": {
  "kernelspec": {
   "display_name": "Python 3",
   "language": "python",
   "name": "python3"
  },
  "language_info": {
   "codemirror_mode": {
    "name": "ipython",
    "version": 3
   },
   "file_extension": ".py",
   "mimetype": "text/x-python",
   "name": "python",
   "nbconvert_exporter": "python",
   "pygments_lexer": "ipython3",
   "version": "3.7.3"
  }
 },
 "nbformat": 4,
 "nbformat_minor": 4
}
