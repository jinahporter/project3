{
 "cells": [
  {
   "cell_type": "code",
   "execution_count": 1,
   "metadata": {},
   "outputs": [],
   "source": [
    "import pandas as pd\n",
    "import os"
   ]
  },
  {
   "cell_type": "code",
   "execution_count": 2,
   "metadata": {},
   "outputs": [],
   "source": [
    "file_path = os.path.join(\"Resources\",\"us-counties.csv\")\n",
    "df=pd.read_csv(file_path)"
   ]
  },
  {
   "cell_type": "code",
   "execution_count": 3,
   "metadata": {},
   "outputs": [
    {
     "data": {
      "text/html": [
       "<div>\n",
       "<style scoped>\n",
       "    .dataframe tbody tr th:only-of-type {\n",
       "        vertical-align: middle;\n",
       "    }\n",
       "\n",
       "    .dataframe tbody tr th {\n",
       "        vertical-align: top;\n",
       "    }\n",
       "\n",
       "    .dataframe thead th {\n",
       "        text-align: right;\n",
       "    }\n",
       "</style>\n",
       "<table border=\"1\" class=\"dataframe\">\n",
       "  <thead>\n",
       "    <tr style=\"text-align: right;\">\n",
       "      <th></th>\n",
       "      <th>date</th>\n",
       "      <th>county</th>\n",
       "      <th>state</th>\n",
       "      <th>fips</th>\n",
       "      <th>cases</th>\n",
       "      <th>deaths</th>\n",
       "    </tr>\n",
       "  </thead>\n",
       "  <tbody>\n",
       "    <tr>\n",
       "      <th>0</th>\n",
       "      <td>1/21/2020</td>\n",
       "      <td>Snohomish</td>\n",
       "      <td>Washington</td>\n",
       "      <td>53061.0</td>\n",
       "      <td>1</td>\n",
       "      <td>0</td>\n",
       "    </tr>\n",
       "    <tr>\n",
       "      <th>1</th>\n",
       "      <td>1/22/2020</td>\n",
       "      <td>Snohomish</td>\n",
       "      <td>Washington</td>\n",
       "      <td>53061.0</td>\n",
       "      <td>1</td>\n",
       "      <td>0</td>\n",
       "    </tr>\n",
       "    <tr>\n",
       "      <th>2</th>\n",
       "      <td>1/23/2020</td>\n",
       "      <td>Snohomish</td>\n",
       "      <td>Washington</td>\n",
       "      <td>53061.0</td>\n",
       "      <td>1</td>\n",
       "      <td>0</td>\n",
       "    </tr>\n",
       "    <tr>\n",
       "      <th>3</th>\n",
       "      <td>1/24/2020</td>\n",
       "      <td>Cook</td>\n",
       "      <td>Illinois</td>\n",
       "      <td>17031.0</td>\n",
       "      <td>1</td>\n",
       "      <td>0</td>\n",
       "    </tr>\n",
       "    <tr>\n",
       "      <th>4</th>\n",
       "      <td>1/24/2020</td>\n",
       "      <td>Snohomish</td>\n",
       "      <td>Washington</td>\n",
       "      <td>53061.0</td>\n",
       "      <td>1</td>\n",
       "      <td>0</td>\n",
       "    </tr>\n",
       "  </tbody>\n",
       "</table>\n",
       "</div>"
      ],
      "text/plain": [
       "        date     county       state     fips  cases  deaths\n",
       "0  1/21/2020  Snohomish  Washington  53061.0      1       0\n",
       "1  1/22/2020  Snohomish  Washington  53061.0      1       0\n",
       "2  1/23/2020  Snohomish  Washington  53061.0      1       0\n",
       "3  1/24/2020       Cook    Illinois  17031.0      1       0\n",
       "4  1/24/2020  Snohomish  Washington  53061.0      1       0"
      ]
     },
     "execution_count": 3,
     "metadata": {},
     "output_type": "execute_result"
    }
   ],
   "source": [
    "df.head()"
   ]
  },
  {
   "cell_type": "code",
   "execution_count": 4,
   "metadata": {},
   "outputs": [],
   "source": [
    "df_new=df.dropna()"
   ]
  },
  {
   "cell_type": "code",
   "execution_count": 5,
   "metadata": {},
   "outputs": [
    {
     "data": {
      "text/plain": [
       "date      0\n",
       "county    0\n",
       "state     0\n",
       "fips      0\n",
       "cases     0\n",
       "deaths    0\n",
       "dtype: int64"
      ]
     },
     "execution_count": 5,
     "metadata": {},
     "output_type": "execute_result"
    }
   ],
   "source": [
    "df_new.isnull().sum()"
   ]
  },
  {
   "cell_type": "code",
   "execution_count": 6,
   "metadata": {},
   "outputs": [],
   "source": [
    "df_new_date=df_new[df_new['date']=='2020-09-08']\n",
    "df_new_date.reset_index(drop=True,inplace=True)"
   ]
  },
  {
   "cell_type": "code",
   "execution_count": 10,
   "metadata": {},
   "outputs": [
    {
     "data": {
      "text/html": [
       "<div>\n",
       "<style scoped>\n",
       "    .dataframe tbody tr th:only-of-type {\n",
       "        vertical-align: middle;\n",
       "    }\n",
       "\n",
       "    .dataframe tbody tr th {\n",
       "        vertical-align: top;\n",
       "    }\n",
       "\n",
       "    .dataframe thead th {\n",
       "        text-align: right;\n",
       "    }\n",
       "</style>\n",
       "<table border=\"1\" class=\"dataframe\">\n",
       "  <thead>\n",
       "    <tr style=\"text-align: right;\">\n",
       "      <th></th>\n",
       "      <th>date</th>\n",
       "      <th>county</th>\n",
       "      <th>state</th>\n",
       "      <th>fips</th>\n",
       "      <th>cases</th>\n",
       "      <th>deaths</th>\n",
       "    </tr>\n",
       "  </thead>\n",
       "  <tbody>\n",
       "  </tbody>\n",
       "</table>\n",
       "</div>"
      ],
      "text/plain": [
       "Empty DataFrame\n",
       "Columns: [date, county, state, fips, cases, deaths]\n",
       "Index: []"
      ]
     },
     "execution_count": 10,
     "metadata": {},
     "output_type": "execute_result"
    }
   ],
   "source": [
    "df_new_date.head()"
   ]
  },
  {
   "cell_type": "code",
   "execution_count": 8,
   "metadata": {},
   "outputs": [
    {
     "data": {
      "text/plain": [
       "0"
      ]
     },
     "execution_count": 8,
     "metadata": {},
     "output_type": "execute_result"
    }
   ],
   "source": [
    "df_new_date['fips'].nunique()"
   ]
  },
  {
   "cell_type": "code",
   "execution_count": 16,
   "metadata": {},
   "outputs": [],
   "source": [
    "df_sorted=df_new_date.sort_values((['cases']),ascending=False)"
   ]
  },
  {
   "cell_type": "code",
   "execution_count": 17,
   "metadata": {},
   "outputs": [],
   "source": [
    "df_100=df_sorted.head(100)"
   ]
  },
  {
   "cell_type": "code",
   "execution_count": 18,
   "metadata": {},
   "outputs": [
    {
     "data": {
      "text/html": [
       "<div>\n",
       "<style scoped>\n",
       "    .dataframe tbody tr th:only-of-type {\n",
       "        vertical-align: middle;\n",
       "    }\n",
       "\n",
       "    .dataframe tbody tr th {\n",
       "        vertical-align: top;\n",
       "    }\n",
       "\n",
       "    .dataframe thead th {\n",
       "        text-align: right;\n",
       "    }\n",
       "</style>\n",
       "<table border=\"1\" class=\"dataframe\">\n",
       "  <thead>\n",
       "    <tr style=\"text-align: right;\">\n",
       "      <th></th>\n",
       "      <th>date</th>\n",
       "      <th>county</th>\n",
       "      <th>state</th>\n",
       "      <th>fips</th>\n",
       "      <th>cases</th>\n",
       "      <th>deaths</th>\n",
       "    </tr>\n",
       "  </thead>\n",
       "  <tbody>\n",
       "    <tr>\n",
       "      <th>201</th>\n",
       "      <td>2020-09-08</td>\n",
       "      <td>Los Angeles</td>\n",
       "      <td>California</td>\n",
       "      <td>6037.0</td>\n",
       "      <td>249241</td>\n",
       "      <td>6036</td>\n",
       "    </tr>\n",
       "    <tr>\n",
       "      <th>358</th>\n",
       "      <td>2020-09-08</td>\n",
       "      <td>Miami-Dade</td>\n",
       "      <td>Florida</td>\n",
       "      <td>12086.0</td>\n",
       "      <td>162025</td>\n",
       "      <td>2666</td>\n",
       "    </tr>\n",
       "    <tr>\n",
       "      <th>100</th>\n",
       "      <td>2020-09-08</td>\n",
       "      <td>Maricopa</td>\n",
       "      <td>Arizona</td>\n",
       "      <td>4013.0</td>\n",
       "      <td>136040</td>\n",
       "      <td>3093</td>\n",
       "    </tr>\n",
       "    <tr>\n",
       "      <th>605</th>\n",
       "      <td>2020-09-08</td>\n",
       "      <td>Cook</td>\n",
       "      <td>Illinois</td>\n",
       "      <td>17031.0</td>\n",
       "      <td>132079</td>\n",
       "      <td>5098</td>\n",
       "    </tr>\n",
       "    <tr>\n",
       "      <th>2684</th>\n",
       "      <td>2020-09-08</td>\n",
       "      <td>Harris</td>\n",
       "      <td>Texas</td>\n",
       "      <td>48201.0</td>\n",
       "      <td>112039</td>\n",
       "      <td>2342</td>\n",
       "    </tr>\n",
       "  </tbody>\n",
       "</table>\n",
       "</div>"
      ],
      "text/plain": [
       "            date       county       state     fips   cases  deaths\n",
       "201   2020-09-08  Los Angeles  California   6037.0  249241    6036\n",
       "358   2020-09-08   Miami-Dade     Florida  12086.0  162025    2666\n",
       "100   2020-09-08     Maricopa     Arizona   4013.0  136040    3093\n",
       "605   2020-09-08         Cook    Illinois  17031.0  132079    5098\n",
       "2684  2020-09-08       Harris       Texas  48201.0  112039    2342"
      ]
     },
     "execution_count": 18,
     "metadata": {},
     "output_type": "execute_result"
    }
   ],
   "source": [
    "df_100.head()"
   ]
  },
  {
   "cell_type": "code",
   "execution_count": 19,
   "metadata": {},
   "outputs": [],
   "source": [
    "df_100.reset_index(drop=True,inplace=True)"
   ]
  },
  {
   "cell_type": "code",
   "execution_count": 20,
   "metadata": {},
   "outputs": [
    {
     "data": {
      "text/html": [
       "<div>\n",
       "<style scoped>\n",
       "    .dataframe tbody tr th:only-of-type {\n",
       "        vertical-align: middle;\n",
       "    }\n",
       "\n",
       "    .dataframe tbody tr th {\n",
       "        vertical-align: top;\n",
       "    }\n",
       "\n",
       "    .dataframe thead th {\n",
       "        text-align: right;\n",
       "    }\n",
       "</style>\n",
       "<table border=\"1\" class=\"dataframe\">\n",
       "  <thead>\n",
       "    <tr style=\"text-align: right;\">\n",
       "      <th></th>\n",
       "      <th>date</th>\n",
       "      <th>county</th>\n",
       "      <th>state</th>\n",
       "      <th>fips</th>\n",
       "      <th>cases</th>\n",
       "      <th>deaths</th>\n",
       "    </tr>\n",
       "  </thead>\n",
       "  <tbody>\n",
       "    <tr>\n",
       "      <th>0</th>\n",
       "      <td>2020-09-08</td>\n",
       "      <td>Los Angeles</td>\n",
       "      <td>California</td>\n",
       "      <td>6037.0</td>\n",
       "      <td>249241</td>\n",
       "      <td>6036</td>\n",
       "    </tr>\n",
       "    <tr>\n",
       "      <th>1</th>\n",
       "      <td>2020-09-08</td>\n",
       "      <td>Miami-Dade</td>\n",
       "      <td>Florida</td>\n",
       "      <td>12086.0</td>\n",
       "      <td>162025</td>\n",
       "      <td>2666</td>\n",
       "    </tr>\n",
       "    <tr>\n",
       "      <th>2</th>\n",
       "      <td>2020-09-08</td>\n",
       "      <td>Maricopa</td>\n",
       "      <td>Arizona</td>\n",
       "      <td>4013.0</td>\n",
       "      <td>136040</td>\n",
       "      <td>3093</td>\n",
       "    </tr>\n",
       "    <tr>\n",
       "      <th>3</th>\n",
       "      <td>2020-09-08</td>\n",
       "      <td>Cook</td>\n",
       "      <td>Illinois</td>\n",
       "      <td>17031.0</td>\n",
       "      <td>132079</td>\n",
       "      <td>5098</td>\n",
       "    </tr>\n",
       "    <tr>\n",
       "      <th>4</th>\n",
       "      <td>2020-09-08</td>\n",
       "      <td>Harris</td>\n",
       "      <td>Texas</td>\n",
       "      <td>48201.0</td>\n",
       "      <td>112039</td>\n",
       "      <td>2342</td>\n",
       "    </tr>\n",
       "  </tbody>\n",
       "</table>\n",
       "</div>"
      ],
      "text/plain": [
       "         date       county       state     fips   cases  deaths\n",
       "0  2020-09-08  Los Angeles  California   6037.0  249241    6036\n",
       "1  2020-09-08   Miami-Dade     Florida  12086.0  162025    2666\n",
       "2  2020-09-08     Maricopa     Arizona   4013.0  136040    3093\n",
       "3  2020-09-08         Cook    Illinois  17031.0  132079    5098\n",
       "4  2020-09-08       Harris       Texas  48201.0  112039    2342"
      ]
     },
     "execution_count": 20,
     "metadata": {},
     "output_type": "execute_result"
    }
   ],
   "source": [
    "df_100.head()"
   ]
  },
  {
   "cell_type": "code",
   "execution_count": 21,
   "metadata": {},
   "outputs": [
    {
     "data": {
      "text/plain": [
       "(100, 6)"
      ]
     },
     "execution_count": 21,
     "metadata": {},
     "output_type": "execute_result"
    }
   ],
   "source": [
    "df_100.shape"
   ]
  },
  {
   "cell_type": "code",
   "execution_count": 22,
   "metadata": {},
   "outputs": [
    {
     "data": {
      "text/html": [
       "<div>\n",
       "<style scoped>\n",
       "    .dataframe tbody tr th:only-of-type {\n",
       "        vertical-align: middle;\n",
       "    }\n",
       "\n",
       "    .dataframe tbody tr th {\n",
       "        vertical-align: top;\n",
       "    }\n",
       "\n",
       "    .dataframe thead th {\n",
       "        text-align: right;\n",
       "    }\n",
       "</style>\n",
       "<table border=\"1\" class=\"dataframe\">\n",
       "  <thead>\n",
       "    <tr style=\"text-align: right;\">\n",
       "      <th></th>\n",
       "      <th>date</th>\n",
       "      <th>county</th>\n",
       "      <th>state</th>\n",
       "      <th>fips</th>\n",
       "      <th>cases</th>\n",
       "      <th>deaths</th>\n",
       "    </tr>\n",
       "  </thead>\n",
       "  <tbody>\n",
       "    <tr>\n",
       "      <th>0</th>\n",
       "      <td>2020-09-08</td>\n",
       "      <td>Los Angeles</td>\n",
       "      <td>California</td>\n",
       "      <td>6037.0</td>\n",
       "      <td>249241</td>\n",
       "      <td>6036</td>\n",
       "    </tr>\n",
       "    <tr>\n",
       "      <th>1</th>\n",
       "      <td>2020-09-08</td>\n",
       "      <td>Miami-Dade</td>\n",
       "      <td>Florida</td>\n",
       "      <td>12086.0</td>\n",
       "      <td>162025</td>\n",
       "      <td>2666</td>\n",
       "    </tr>\n",
       "    <tr>\n",
       "      <th>2</th>\n",
       "      <td>2020-09-08</td>\n",
       "      <td>Maricopa</td>\n",
       "      <td>Arizona</td>\n",
       "      <td>4013.0</td>\n",
       "      <td>136040</td>\n",
       "      <td>3093</td>\n",
       "    </tr>\n",
       "    <tr>\n",
       "      <th>3</th>\n",
       "      <td>2020-09-08</td>\n",
       "      <td>Cook</td>\n",
       "      <td>Illinois</td>\n",
       "      <td>17031.0</td>\n",
       "      <td>132079</td>\n",
       "      <td>5098</td>\n",
       "    </tr>\n",
       "    <tr>\n",
       "      <th>4</th>\n",
       "      <td>2020-09-08</td>\n",
       "      <td>Harris</td>\n",
       "      <td>Texas</td>\n",
       "      <td>48201.0</td>\n",
       "      <td>112039</td>\n",
       "      <td>2342</td>\n",
       "    </tr>\n",
       "  </tbody>\n",
       "</table>\n",
       "</div>"
      ],
      "text/plain": [
       "         date       county       state     fips   cases  deaths\n",
       "0  2020-09-08  Los Angeles  California   6037.0  249241    6036\n",
       "1  2020-09-08   Miami-Dade     Florida  12086.0  162025    2666\n",
       "2  2020-09-08     Maricopa     Arizona   4013.0  136040    3093\n",
       "3  2020-09-08         Cook    Illinois  17031.0  132079    5098\n",
       "4  2020-09-08       Harris       Texas  48201.0  112039    2342"
      ]
     },
     "execution_count": 22,
     "metadata": {},
     "output_type": "execute_result"
    }
   ],
   "source": [
    "df_100.head()"
   ]
  },
  {
   "cell_type": "code",
   "execution_count": 24,
   "metadata": {},
   "outputs": [],
   "source": [
    "pt_df_top5=df_100.head()"
   ]
  },
  {
   "cell_type": "code",
   "execution_count": 25,
   "metadata": {},
   "outputs": [
    {
     "name": "stderr",
     "output_type": "stream",
     "text": [
      "C:\\Users\\Pankaj\\Anaconda3\\lib\\site-packages\\pandas\\core\\frame.py:4167: SettingWithCopyWarning: \n",
      "A value is trying to be set on a copy of a slice from a DataFrame\n",
      "\n",
      "See the caveats in the documentation: https://pandas.pydata.org/pandas-docs/stable/user_guide/indexing.html#returning-a-view-versus-a-copy\n",
      "  errors=errors,\n"
     ]
    }
   ],
   "source": [
    "#Dropping Deaths Column and isolating top 5 affected areas from the rest\n",
    "pt_df_top5.drop(['deaths'],axis=1,inplace=True)"
   ]
  },
  {
   "cell_type": "code",
   "execution_count": 26,
   "metadata": {},
   "outputs": [
    {
     "data": {
      "text/html": [
       "<div>\n",
       "<style scoped>\n",
       "    .dataframe tbody tr th:only-of-type {\n",
       "        vertical-align: middle;\n",
       "    }\n",
       "\n",
       "    .dataframe tbody tr th {\n",
       "        vertical-align: top;\n",
       "    }\n",
       "\n",
       "    .dataframe thead th {\n",
       "        text-align: right;\n",
       "    }\n",
       "</style>\n",
       "<table border=\"1\" class=\"dataframe\">\n",
       "  <thead>\n",
       "    <tr style=\"text-align: right;\">\n",
       "      <th></th>\n",
       "      <th>date</th>\n",
       "      <th>county</th>\n",
       "      <th>state</th>\n",
       "      <th>fips</th>\n",
       "      <th>cases</th>\n",
       "    </tr>\n",
       "  </thead>\n",
       "  <tbody>\n",
       "    <tr>\n",
       "      <th>0</th>\n",
       "      <td>2020-09-08</td>\n",
       "      <td>Los Angeles</td>\n",
       "      <td>California</td>\n",
       "      <td>6037.0</td>\n",
       "      <td>249241</td>\n",
       "    </tr>\n",
       "    <tr>\n",
       "      <th>1</th>\n",
       "      <td>2020-09-08</td>\n",
       "      <td>Miami-Dade</td>\n",
       "      <td>Florida</td>\n",
       "      <td>12086.0</td>\n",
       "      <td>162025</td>\n",
       "    </tr>\n",
       "    <tr>\n",
       "      <th>2</th>\n",
       "      <td>2020-09-08</td>\n",
       "      <td>Maricopa</td>\n",
       "      <td>Arizona</td>\n",
       "      <td>4013.0</td>\n",
       "      <td>136040</td>\n",
       "    </tr>\n",
       "    <tr>\n",
       "      <th>3</th>\n",
       "      <td>2020-09-08</td>\n",
       "      <td>Cook</td>\n",
       "      <td>Illinois</td>\n",
       "      <td>17031.0</td>\n",
       "      <td>132079</td>\n",
       "    </tr>\n",
       "    <tr>\n",
       "      <th>4</th>\n",
       "      <td>2020-09-08</td>\n",
       "      <td>Harris</td>\n",
       "      <td>Texas</td>\n",
       "      <td>48201.0</td>\n",
       "      <td>112039</td>\n",
       "    </tr>\n",
       "  </tbody>\n",
       "</table>\n",
       "</div>"
      ],
      "text/plain": [
       "         date       county       state     fips   cases\n",
       "0  2020-09-08  Los Angeles  California   6037.0  249241\n",
       "1  2020-09-08   Miami-Dade     Florida  12086.0  162025\n",
       "2  2020-09-08     Maricopa     Arizona   4013.0  136040\n",
       "3  2020-09-08         Cook    Illinois  17031.0  132079\n",
       "4  2020-09-08       Harris       Texas  48201.0  112039"
      ]
     },
     "execution_count": 26,
     "metadata": {},
     "output_type": "execute_result"
    }
   ],
   "source": [
    "pt_df_top5"
   ]
  },
  {
   "cell_type": "code",
   "execution_count": 2,
   "metadata": {},
   "outputs": [],
   "source": []
  },
  {
   "cell_type": "code",
   "execution_count": 11,
   "metadata": {},
   "outputs": [],
   "source": [
    "target='Los Angeles, California'\n",
    "url='https://maps.googleapis.com/maps/api/geocode/json?address={}&key={}'.format(target,pt_gkey)\n"
   ]
  },
  {
   "cell_type": "code",
   "execution_count": 12,
   "metadata": {},
   "outputs": [],
   "source": [
    "geo_data=requests.get(url).json()"
   ]
  },
  {
   "cell_type": "code",
   "execution_count": 13,
   "metadata": {},
   "outputs": [],
   "source": [
    "geo_data"
   ]
  },
  {
   "cell_type": "code",
   "execution_count": 27,
   "metadata": {},
   "outputs": [],
   "source": [
    "#geo_data['results'][0]['geometry']['location']['lat']"
   ]
  },
  {
   "cell_type": "code",
   "execution_count": 28,
   "metadata": {},
   "outputs": [],
   "source": [
    "#geo_data['results'][0]['geometry']['location']['lng']"
   ]
  },
  {
   "cell_type": "code",
   "execution_count": 27,
   "metadata": {},
   "outputs": [
    {
     "name": "stderr",
     "output_type": "stream",
     "text": [
      "C:\\Users\\Pankaj\\Anaconda3\\lib\\site-packages\\pandas\\core\\indexing.py:1596: SettingWithCopyWarning: \n",
      "A value is trying to be set on a copy of a slice from a DataFrame.\n",
      "Try using .loc[row_indexer,col_indexer] = value instead\n",
      "\n",
      "See the caveats in the documentation: https://pandas.pydata.org/pandas-docs/stable/user_guide/indexing.html#returning-a-view-versus-a-copy\n",
      "  self.obj[key] = _infer_fill_value(value)\n",
      "C:\\Users\\Pankaj\\Anaconda3\\lib\\site-packages\\pandas\\core\\indexing.py:1765: SettingWithCopyWarning: \n",
      "A value is trying to be set on a copy of a slice from a DataFrame.\n",
      "Try using .loc[row_indexer,col_indexer] = value instead\n",
      "\n",
      "See the caveats in the documentation: https://pandas.pydata.org/pandas-docs/stable/user_guide/indexing.html#returning-a-view-versus-a-copy\n",
      "  isetter(loc, value)\n"
     ]
    }
   ],
   "source": [
    "for index,row in pt_df_top5.iterrows():\n",
    "    county=row['county']\n",
    "    state=row['state']\n",
    "    target=f'{county},{state}'\n",
    "    url='https://maps.googleapis.com/maps/api/geocode/json?address={}&key={}'.format(target,pt_gkey)\n",
    "    geo_data=requests.get(url).json()\n",
    "    pt_df_top5.loc[index,'Latitude'] = geo_data['results'][0]['geometry']['location']['lat']\n",
    "    pt_df_top5.loc[index,'Longitude'] = geo_data['results'][0]['geometry']['location']['lng']"
   ]
  },
  {
   "cell_type": "code",
   "execution_count": 28,
   "metadata": {},
   "outputs": [
    {
     "data": {
      "text/html": [
       "<div>\n",
       "<style scoped>\n",
       "    .dataframe tbody tr th:only-of-type {\n",
       "        vertical-align: middle;\n",
       "    }\n",
       "\n",
       "    .dataframe tbody tr th {\n",
       "        vertical-align: top;\n",
       "    }\n",
       "\n",
       "    .dataframe thead th {\n",
       "        text-align: right;\n",
       "    }\n",
       "</style>\n",
       "<table border=\"1\" class=\"dataframe\">\n",
       "  <thead>\n",
       "    <tr style=\"text-align: right;\">\n",
       "      <th></th>\n",
       "      <th>date</th>\n",
       "      <th>county</th>\n",
       "      <th>state</th>\n",
       "      <th>fips</th>\n",
       "      <th>cases</th>\n",
       "      <th>Latitude</th>\n",
       "      <th>Longitude</th>\n",
       "    </tr>\n",
       "  </thead>\n",
       "  <tbody>\n",
       "    <tr>\n",
       "      <th>0</th>\n",
       "      <td>2020-09-08</td>\n",
       "      <td>Los Angeles</td>\n",
       "      <td>California</td>\n",
       "      <td>6037.0</td>\n",
       "      <td>249241</td>\n",
       "      <td>34.052234</td>\n",
       "      <td>-118.243685</td>\n",
       "    </tr>\n",
       "    <tr>\n",
       "      <th>1</th>\n",
       "      <td>2020-09-08</td>\n",
       "      <td>Miami-Dade</td>\n",
       "      <td>Florida</td>\n",
       "      <td>12086.0</td>\n",
       "      <td>162025</td>\n",
       "      <td>25.551603</td>\n",
       "      <td>-80.632692</td>\n",
       "    </tr>\n",
       "    <tr>\n",
       "      <th>2</th>\n",
       "      <td>2020-09-08</td>\n",
       "      <td>Maricopa</td>\n",
       "      <td>Arizona</td>\n",
       "      <td>4013.0</td>\n",
       "      <td>136040</td>\n",
       "      <td>33.058106</td>\n",
       "      <td>-112.047642</td>\n",
       "    </tr>\n",
       "    <tr>\n",
       "      <th>3</th>\n",
       "      <td>2020-09-08</td>\n",
       "      <td>Cook</td>\n",
       "      <td>Illinois</td>\n",
       "      <td>17031.0</td>\n",
       "      <td>132079</td>\n",
       "      <td>41.737659</td>\n",
       "      <td>-87.697554</td>\n",
       "    </tr>\n",
       "    <tr>\n",
       "      <th>4</th>\n",
       "      <td>2020-09-08</td>\n",
       "      <td>Harris</td>\n",
       "      <td>Texas</td>\n",
       "      <td>48201.0</td>\n",
       "      <td>112039</td>\n",
       "      <td>29.775182</td>\n",
       "      <td>-95.310250</td>\n",
       "    </tr>\n",
       "  </tbody>\n",
       "</table>\n",
       "</div>"
      ],
      "text/plain": [
       "         date       county       state     fips   cases   Latitude   Longitude\n",
       "0  2020-09-08  Los Angeles  California   6037.0  249241  34.052234 -118.243685\n",
       "1  2020-09-08   Miami-Dade     Florida  12086.0  162025  25.551603  -80.632692\n",
       "2  2020-09-08     Maricopa     Arizona   4013.0  136040  33.058106 -112.047642\n",
       "3  2020-09-08         Cook    Illinois  17031.0  132079  41.737659  -87.697554\n",
       "4  2020-09-08       Harris       Texas  48201.0  112039  29.775182  -95.310250"
      ]
     },
     "execution_count": 28,
     "metadata": {},
     "output_type": "execute_result"
    }
   ],
   "source": [
    "pt_df_top5"
   ]
  },
  {
   "cell_type": "code",
   "execution_count": null,
   "metadata": {},
   "outputs": [],
   "source": [
    "import requests\n",
    "from config import pt_gkey\n",
    "import gmaps\n",
    "gmaps.configure(api_key=pt_gkey)"
   ]
  },
  {
   "cell_type": "code",
   "execution_count": 11,
   "metadata": {},
   "outputs": [],
   "source": [
    "import pandas as pd\n",
    "import os\n",
    "import requests\n",
    "from config import pt_gkey\n",
    "import gmaps\n",
    "gmaps.configure(api_key=pt_gkey)"
   ]
  },
  {
   "cell_type": "code",
   "execution_count": 12,
   "metadata": {},
   "outputs": [],
   "source": [
    "paths=os.path.join('Resources','ktop100latlng.csv')\n",
    "pt_df=pd.read_csv(paths)"
   ]
  },
  {
   "cell_type": "code",
   "execution_count": 13,
   "metadata": {},
   "outputs": [],
   "source": [
    "pt_df=pt_df.sort_values(['rate'],ascending=False)"
   ]
  },
  {
   "cell_type": "code",
   "execution_count": 14,
   "metadata": {},
   "outputs": [
    {
     "data": {
      "text/html": [
       "<div>\n",
       "<style scoped>\n",
       "    .dataframe tbody tr th:only-of-type {\n",
       "        vertical-align: middle;\n",
       "    }\n",
       "\n",
       "    .dataframe tbody tr th {\n",
       "        vertical-align: top;\n",
       "    }\n",
       "\n",
       "    .dataframe thead th {\n",
       "        text-align: right;\n",
       "    }\n",
       "</style>\n",
       "<table border=\"1\" class=\"dataframe\">\n",
       "  <thead>\n",
       "    <tr style=\"text-align: right;\">\n",
       "      <th></th>\n",
       "      <th>date</th>\n",
       "      <th>county</th>\n",
       "      <th>state</th>\n",
       "      <th>fips</th>\n",
       "      <th>cases_x</th>\n",
       "      <th>deaths</th>\n",
       "      <th>cases_y</th>\n",
       "      <th>rate</th>\n",
       "      <th>Population</th>\n",
       "      <th>Latitude</th>\n",
       "      <th>Longitude</th>\n",
       "    </tr>\n",
       "  </thead>\n",
       "  <tbody>\n",
       "    <tr>\n",
       "      <th>0</th>\n",
       "      <td>9/8/2020</td>\n",
       "      <td>Tehama</td>\n",
       "      <td>California</td>\n",
       "      <td>6103.0</td>\n",
       "      <td>453</td>\n",
       "      <td>1</td>\n",
       "      <td>4</td>\n",
       "      <td>112.250000</td>\n",
       "      <td>144905</td>\n",
       "      <td>40.027102</td>\n",
       "      <td>-122.123323</td>\n",
       "    </tr>\n",
       "    <tr>\n",
       "      <th>1</th>\n",
       "      <td>9/8/2020</td>\n",
       "      <td>Bingham</td>\n",
       "      <td>Idaho</td>\n",
       "      <td>16011.0</td>\n",
       "      <td>676</td>\n",
       "      <td>9</td>\n",
       "      <td>7</td>\n",
       "      <td>95.571429</td>\n",
       "      <td>121264</td>\n",
       "      <td>43.211230</td>\n",
       "      <td>-112.362415</td>\n",
       "    </tr>\n",
       "    <tr>\n",
       "      <th>2</th>\n",
       "      <td>9/8/2020</td>\n",
       "      <td>Stone</td>\n",
       "      <td>Missouri</td>\n",
       "      <td>29209.0</td>\n",
       "      <td>316</td>\n",
       "      <td>2</td>\n",
       "      <td>4</td>\n",
       "      <td>78.000000</td>\n",
       "      <td>121684</td>\n",
       "      <td>36.774888</td>\n",
       "      <td>-93.459933</td>\n",
       "    </tr>\n",
       "    <tr>\n",
       "      <th>3</th>\n",
       "      <td>9/8/2020</td>\n",
       "      <td>Sebastian</td>\n",
       "      <td>Arkansas</td>\n",
       "      <td>5131.0</td>\n",
       "      <td>3042</td>\n",
       "      <td>38</td>\n",
       "      <td>40</td>\n",
       "      <td>75.050000</td>\n",
       "      <td>142299</td>\n",
       "      <td>35.226040</td>\n",
       "      <td>-94.315422</td>\n",
       "    </tr>\n",
       "    <tr>\n",
       "      <th>4</th>\n",
       "      <td>9/8/2020</td>\n",
       "      <td>Portage</td>\n",
       "      <td>Wisconsin</td>\n",
       "      <td>55097.0</td>\n",
       "      <td>798</td>\n",
       "      <td>2</td>\n",
       "      <td>11</td>\n",
       "      <td>71.545455</td>\n",
       "      <td>143879</td>\n",
       "      <td>43.539149</td>\n",
       "      <td>-89.462620</td>\n",
       "    </tr>\n",
       "  </tbody>\n",
       "</table>\n",
       "</div>"
      ],
      "text/plain": [
       "       date     county       state     fips  cases_x  deaths  cases_y  \\\n",
       "0  9/8/2020     Tehama  California   6103.0      453       1        4   \n",
       "1  9/8/2020    Bingham       Idaho  16011.0      676       9        7   \n",
       "2  9/8/2020      Stone    Missouri  29209.0      316       2        4   \n",
       "3  9/8/2020  Sebastian    Arkansas   5131.0     3042      38       40   \n",
       "4  9/8/2020    Portage   Wisconsin  55097.0      798       2       11   \n",
       "\n",
       "         rate  Population   Latitude   Longitude  \n",
       "0  112.250000      144905  40.027102 -122.123323  \n",
       "1   95.571429      121264  43.211230 -112.362415  \n",
       "2   78.000000      121684  36.774888  -93.459933  \n",
       "3   75.050000      142299  35.226040  -94.315422  \n",
       "4   71.545455      143879  43.539149  -89.462620  "
      ]
     },
     "execution_count": 14,
     "metadata": {},
     "output_type": "execute_result"
    }
   ],
   "source": [
    "pt_df.head()"
   ]
  },
  {
   "cell_type": "code",
   "execution_count": 16,
   "metadata": {},
   "outputs": [],
   "source": [
    "pt_locations =pt_df[['Latitude','Longitude']]\n",
    "pt_cases=pt_df['rate'].astype(float)\n",
    "pt_maxx=pt_df['rate'].max()\n"
   ]
  },
  {
   "cell_type": "code",
   "execution_count": 17,
   "metadata": {},
   "outputs": [],
   "source": [
    "fig=gmaps.figure()\n",
    "heat_layer=gmaps.heatmap_layer(pt_locations,weights=pt_cases,dissipating=False,max_intensity=pt_maxx,point_radius=0.9)"
   ]
  },
  {
   "cell_type": "code",
   "execution_count": 18,
   "metadata": {},
   "outputs": [],
   "source": [
    "fig.add_layer(heat_layer)"
   ]
  },
  {
   "cell_type": "code",
   "execution_count": 19,
   "metadata": {},
   "outputs": [
    {
     "data": {
      "application/vnd.jupyter.widget-view+json": {
       "model_id": "9ff1325ffb134b51b1d220c5d5bf7906",
       "version_major": 2,
       "version_minor": 0
      },
      "text/plain": [
       "Figure(layout=FigureLayout(height='420px'))"
      ]
     },
     "metadata": {},
     "output_type": "display_data"
    }
   ],
   "source": [
    "fig"
   ]
  },
  {
   "cell_type": "code",
   "execution_count": 21,
   "metadata": {},
   "outputs": [],
   "source": [
    "pt_df5=pt_df.head()"
   ]
  },
  {
   "cell_type": "code",
   "execution_count": 22,
   "metadata": {},
   "outputs": [],
   "source": [
    "pt_df5=pt_df5.round({'rate':1})"
   ]
  },
  {
   "cell_type": "code",
   "execution_count": 23,
   "metadata": {},
   "outputs": [],
   "source": [
    "info_box_template = \"\"\"\n",
    "<dl>\n",
    "<dt>County</dt><dd>{county}</dd>\n",
    "<dt>State</dt><dd>{state}</dd>\n",
    "<dt>Rate</dt><dd>{rate}</dd>\n",
    "</dl>\n",
    "\"\"\"\n",
    "# Store the DataFrame Row\n",
    "# NOTE: be sure to update with your DataFrame name\n",
    "covid_info = [info_box_template.format(**row) for index, row in pt_df5.iterrows()]\n",
    "locations = pt_df5[[\"Latitude\", \"Longitude\"]]\n"
   ]
  },
  {
   "cell_type": "code",
   "execution_count": 24,
   "metadata": {},
   "outputs": [],
   "source": [
    "\n",
    "marker_layer=gmaps.marker_layer(locations,info_box_content=covid_info)"
   ]
  },
  {
   "cell_type": "code",
   "execution_count": 25,
   "metadata": {},
   "outputs": [],
   "source": [
    "fig.add_layer(marker_layer)"
   ]
  },
  {
   "cell_type": "code",
   "execution_count": 26,
   "metadata": {},
   "outputs": [
    {
     "data": {
      "application/vnd.jupyter.widget-view+json": {
       "model_id": "9ff1325ffb134b51b1d220c5d5bf7906",
       "version_major": 2,
       "version_minor": 0
      },
      "text/plain": [
       "Figure(layout=FigureLayout(height='420px'))"
      ]
     },
     "metadata": {},
     "output_type": "display_data"
    }
   ],
   "source": [
    "fig"
   ]
  },
  {
   "cell_type": "code",
   "execution_count": 41,
   "metadata": {},
   "outputs": [],
   "source": [
    "pt_path=os.path.join('Resources','mask-use-by-county.csv')"
   ]
  },
  {
   "cell_type": "code",
   "execution_count": 42,
   "metadata": {},
   "outputs": [],
   "source": [
    "pt_df=pd.read_csv(pt_path)"
   ]
  },
  {
   "cell_type": "code",
   "execution_count": 43,
   "metadata": {},
   "outputs": [
    {
     "data": {
      "text/plain": [
       "(3142, 6)"
      ]
     },
     "execution_count": 43,
     "metadata": {},
     "output_type": "execute_result"
    }
   ],
   "source": [
    "pt_df.shape"
   ]
  },
  {
   "cell_type": "code",
   "execution_count": 44,
   "metadata": {},
   "outputs": [
    {
     "data": {
      "text/html": [
       "<div>\n",
       "<style scoped>\n",
       "    .dataframe tbody tr th:only-of-type {\n",
       "        vertical-align: middle;\n",
       "    }\n",
       "\n",
       "    .dataframe tbody tr th {\n",
       "        vertical-align: top;\n",
       "    }\n",
       "\n",
       "    .dataframe thead th {\n",
       "        text-align: right;\n",
       "    }\n",
       "</style>\n",
       "<table border=\"1\" class=\"dataframe\">\n",
       "  <thead>\n",
       "    <tr style=\"text-align: right;\">\n",
       "      <th></th>\n",
       "      <th>COUNTYFP</th>\n",
       "      <th>NEVER</th>\n",
       "      <th>RARELY</th>\n",
       "      <th>SOMETIMES</th>\n",
       "      <th>FREQUENTLY</th>\n",
       "      <th>ALWAYS</th>\n",
       "    </tr>\n",
       "  </thead>\n",
       "  <tbody>\n",
       "    <tr>\n",
       "      <th>0</th>\n",
       "      <td>1001</td>\n",
       "      <td>0.053</td>\n",
       "      <td>0.074</td>\n",
       "      <td>0.134</td>\n",
       "      <td>0.295</td>\n",
       "      <td>0.444</td>\n",
       "    </tr>\n",
       "    <tr>\n",
       "      <th>1</th>\n",
       "      <td>1003</td>\n",
       "      <td>0.083</td>\n",
       "      <td>0.059</td>\n",
       "      <td>0.098</td>\n",
       "      <td>0.323</td>\n",
       "      <td>0.436</td>\n",
       "    </tr>\n",
       "    <tr>\n",
       "      <th>2</th>\n",
       "      <td>1005</td>\n",
       "      <td>0.067</td>\n",
       "      <td>0.121</td>\n",
       "      <td>0.120</td>\n",
       "      <td>0.201</td>\n",
       "      <td>0.491</td>\n",
       "    </tr>\n",
       "    <tr>\n",
       "      <th>3</th>\n",
       "      <td>1007</td>\n",
       "      <td>0.020</td>\n",
       "      <td>0.034</td>\n",
       "      <td>0.096</td>\n",
       "      <td>0.278</td>\n",
       "      <td>0.572</td>\n",
       "    </tr>\n",
       "    <tr>\n",
       "      <th>4</th>\n",
       "      <td>1009</td>\n",
       "      <td>0.053</td>\n",
       "      <td>0.114</td>\n",
       "      <td>0.180</td>\n",
       "      <td>0.194</td>\n",
       "      <td>0.459</td>\n",
       "    </tr>\n",
       "  </tbody>\n",
       "</table>\n",
       "</div>"
      ],
      "text/plain": [
       "   COUNTYFP  NEVER  RARELY  SOMETIMES  FREQUENTLY  ALWAYS\n",
       "0      1001  0.053   0.074      0.134       0.295   0.444\n",
       "1      1003  0.083   0.059      0.098       0.323   0.436\n",
       "2      1005  0.067   0.121      0.120       0.201   0.491\n",
       "3      1007  0.020   0.034      0.096       0.278   0.572\n",
       "4      1009  0.053   0.114      0.180       0.194   0.459"
      ]
     },
     "execution_count": 44,
     "metadata": {},
     "output_type": "execute_result"
    }
   ],
   "source": [
    "pt_df.head()"
   ]
  },
  {
   "cell_type": "code",
   "execution_count": 45,
   "metadata": {},
   "outputs": [],
   "source": [
    "pt_df.rename(columns={'COUNTYFP':'fips'},inplace=True)"
   ]
  },
  {
   "cell_type": "code",
   "execution_count": 46,
   "metadata": {},
   "outputs": [],
   "source": [
    "pt_merged=pd.merge(df_new_date,pt_df,on='fips')"
   ]
  },
  {
   "cell_type": "code",
   "execution_count": 47,
   "metadata": {},
   "outputs": [],
   "source": [
    "pt_merged=pt_merged.sort_values(['cases'],ascending=False)"
   ]
  },
  {
   "cell_type": "code",
   "execution_count": 48,
   "metadata": {},
   "outputs": [],
   "source": [
    "#pt_merged=pt_merged.head(100)"
   ]
  },
  {
   "cell_type": "code",
   "execution_count": 49,
   "metadata": {},
   "outputs": [],
   "source": [
    "pt_merged.reset_index(inplace=True, drop=True)"
   ]
  },
  {
   "cell_type": "code",
   "execution_count": null,
   "metadata": {},
   "outputs": [],
   "source": [
    "rar=pt_merged['NEVER'] + pt_merged['RARELY']+pt_merged['SOMETIMES']+pt_merged['FREQUENTLY']\n",
    "cases=pt_merged['cases']"
   ]
  },
  {
   "cell_type": "code",
   "execution_count": null,
   "metadata": {},
   "outputs": [],
   "source": [
    "# import matplotlib.pyplot as plt\n",
    "# plt.scatter(rar,cases)\n",
    "# plt.show()"
   ]
  },
  {
   "cell_type": "code",
   "execution_count": null,
   "metadata": {},
   "outputs": [],
   "source": [
    "# import scipy.stats as sts"
   ]
  },
  {
   "cell_type": "code",
   "execution_count": null,
   "metadata": {},
   "outputs": [],
   "source": [
    "# corr=sts.pearsonr(rar,cases)\n",
    "# corr"
   ]
  },
  {
   "cell_type": "code",
   "execution_count": 50,
   "metadata": {},
   "outputs": [
    {
     "data": {
      "text/html": [
       "<div>\n",
       "<style scoped>\n",
       "    .dataframe tbody tr th:only-of-type {\n",
       "        vertical-align: middle;\n",
       "    }\n",
       "\n",
       "    .dataframe tbody tr th {\n",
       "        vertical-align: top;\n",
       "    }\n",
       "\n",
       "    .dataframe thead th {\n",
       "        text-align: right;\n",
       "    }\n",
       "</style>\n",
       "<table border=\"1\" class=\"dataframe\">\n",
       "  <thead>\n",
       "    <tr style=\"text-align: right;\">\n",
       "      <th></th>\n",
       "      <th>date</th>\n",
       "      <th>county</th>\n",
       "      <th>state</th>\n",
       "      <th>fips</th>\n",
       "      <th>cases</th>\n",
       "      <th>deaths</th>\n",
       "      <th>NEVER</th>\n",
       "      <th>RARELY</th>\n",
       "      <th>SOMETIMES</th>\n",
       "      <th>FREQUENTLY</th>\n",
       "      <th>ALWAYS</th>\n",
       "    </tr>\n",
       "  </thead>\n",
       "  <tbody>\n",
       "    <tr>\n",
       "      <th>0</th>\n",
       "      <td>2020-09-08</td>\n",
       "      <td>Los Angeles</td>\n",
       "      <td>California</td>\n",
       "      <td>6037.0</td>\n",
       "      <td>249241</td>\n",
       "      <td>6036</td>\n",
       "      <td>0.021</td>\n",
       "      <td>0.013</td>\n",
       "      <td>0.049</td>\n",
       "      <td>0.131</td>\n",
       "      <td>0.786</td>\n",
       "    </tr>\n",
       "    <tr>\n",
       "      <th>1</th>\n",
       "      <td>2020-09-08</td>\n",
       "      <td>Miami-Dade</td>\n",
       "      <td>Florida</td>\n",
       "      <td>12086.0</td>\n",
       "      <td>162025</td>\n",
       "      <td>2666</td>\n",
       "      <td>0.032</td>\n",
       "      <td>0.023</td>\n",
       "      <td>0.060</td>\n",
       "      <td>0.128</td>\n",
       "      <td>0.756</td>\n",
       "    </tr>\n",
       "    <tr>\n",
       "      <th>2</th>\n",
       "      <td>2020-09-08</td>\n",
       "      <td>Maricopa</td>\n",
       "      <td>Arizona</td>\n",
       "      <td>4013.0</td>\n",
       "      <td>136040</td>\n",
       "      <td>3093</td>\n",
       "      <td>0.023</td>\n",
       "      <td>0.025</td>\n",
       "      <td>0.059</td>\n",
       "      <td>0.158</td>\n",
       "      <td>0.734</td>\n",
       "    </tr>\n",
       "    <tr>\n",
       "      <th>3</th>\n",
       "      <td>2020-09-08</td>\n",
       "      <td>Cook</td>\n",
       "      <td>Illinois</td>\n",
       "      <td>17031.0</td>\n",
       "      <td>132079</td>\n",
       "      <td>5098</td>\n",
       "      <td>0.023</td>\n",
       "      <td>0.021</td>\n",
       "      <td>0.072</td>\n",
       "      <td>0.162</td>\n",
       "      <td>0.722</td>\n",
       "    </tr>\n",
       "    <tr>\n",
       "      <th>4</th>\n",
       "      <td>2020-09-08</td>\n",
       "      <td>Harris</td>\n",
       "      <td>Texas</td>\n",
       "      <td>48201.0</td>\n",
       "      <td>112039</td>\n",
       "      <td>2342</td>\n",
       "      <td>0.019</td>\n",
       "      <td>0.024</td>\n",
       "      <td>0.069</td>\n",
       "      <td>0.152</td>\n",
       "      <td>0.736</td>\n",
       "    </tr>\n",
       "    <tr>\n",
       "      <th>...</th>\n",
       "      <td>...</td>\n",
       "      <td>...</td>\n",
       "      <td>...</td>\n",
       "      <td>...</td>\n",
       "      <td>...</td>\n",
       "      <td>...</td>\n",
       "      <td>...</td>\n",
       "      <td>...</td>\n",
       "      <td>...</td>\n",
       "      <td>...</td>\n",
       "      <td>...</td>\n",
       "    </tr>\n",
       "    <tr>\n",
       "      <th>3115</th>\n",
       "      <td>2020-09-08</td>\n",
       "      <td>Arthur</td>\n",
       "      <td>Nebraska</td>\n",
       "      <td>31005.0</td>\n",
       "      <td>1</td>\n",
       "      <td>0</td>\n",
       "      <td>0.144</td>\n",
       "      <td>0.135</td>\n",
       "      <td>0.117</td>\n",
       "      <td>0.248</td>\n",
       "      <td>0.356</td>\n",
       "    </tr>\n",
       "    <tr>\n",
       "      <th>3116</th>\n",
       "      <td>2020-09-08</td>\n",
       "      <td>Prairie</td>\n",
       "      <td>Montana</td>\n",
       "      <td>30079.0</td>\n",
       "      <td>1</td>\n",
       "      <td>0</td>\n",
       "      <td>0.101</td>\n",
       "      <td>0.270</td>\n",
       "      <td>0.171</td>\n",
       "      <td>0.283</td>\n",
       "      <td>0.176</td>\n",
       "    </tr>\n",
       "    <tr>\n",
       "      <th>3117</th>\n",
       "      <td>2020-09-08</td>\n",
       "      <td>Elk</td>\n",
       "      <td>Kansas</td>\n",
       "      <td>20049.0</td>\n",
       "      <td>1</td>\n",
       "      <td>0</td>\n",
       "      <td>0.061</td>\n",
       "      <td>0.050</td>\n",
       "      <td>0.295</td>\n",
       "      <td>0.282</td>\n",
       "      <td>0.312</td>\n",
       "    </tr>\n",
       "    <tr>\n",
       "      <th>3118</th>\n",
       "      <td>2020-09-08</td>\n",
       "      <td>Keya Paha</td>\n",
       "      <td>Nebraska</td>\n",
       "      <td>31103.0</td>\n",
       "      <td>1</td>\n",
       "      <td>0</td>\n",
       "      <td>0.124</td>\n",
       "      <td>0.090</td>\n",
       "      <td>0.183</td>\n",
       "      <td>0.273</td>\n",
       "      <td>0.331</td>\n",
       "    </tr>\n",
       "    <tr>\n",
       "      <th>3119</th>\n",
       "      <td>2020-09-08</td>\n",
       "      <td>Rawlins</td>\n",
       "      <td>Kansas</td>\n",
       "      <td>20153.0</td>\n",
       "      <td>1</td>\n",
       "      <td>0</td>\n",
       "      <td>0.128</td>\n",
       "      <td>0.174</td>\n",
       "      <td>0.209</td>\n",
       "      <td>0.220</td>\n",
       "      <td>0.268</td>\n",
       "    </tr>\n",
       "  </tbody>\n",
       "</table>\n",
       "<p>3120 rows × 11 columns</p>\n",
       "</div>"
      ],
      "text/plain": [
       "            date       county       state     fips   cases  deaths  NEVER  \\\n",
       "0     2020-09-08  Los Angeles  California   6037.0  249241    6036  0.021   \n",
       "1     2020-09-08   Miami-Dade     Florida  12086.0  162025    2666  0.032   \n",
       "2     2020-09-08     Maricopa     Arizona   4013.0  136040    3093  0.023   \n",
       "3     2020-09-08         Cook    Illinois  17031.0  132079    5098  0.023   \n",
       "4     2020-09-08       Harris       Texas  48201.0  112039    2342  0.019   \n",
       "...          ...          ...         ...      ...     ...     ...    ...   \n",
       "3115  2020-09-08       Arthur    Nebraska  31005.0       1       0  0.144   \n",
       "3116  2020-09-08      Prairie     Montana  30079.0       1       0  0.101   \n",
       "3117  2020-09-08          Elk      Kansas  20049.0       1       0  0.061   \n",
       "3118  2020-09-08    Keya Paha    Nebraska  31103.0       1       0  0.124   \n",
       "3119  2020-09-08      Rawlins      Kansas  20153.0       1       0  0.128   \n",
       "\n",
       "      RARELY  SOMETIMES  FREQUENTLY  ALWAYS  \n",
       "0      0.013      0.049       0.131   0.786  \n",
       "1      0.023      0.060       0.128   0.756  \n",
       "2      0.025      0.059       0.158   0.734  \n",
       "3      0.021      0.072       0.162   0.722  \n",
       "4      0.024      0.069       0.152   0.736  \n",
       "...      ...        ...         ...     ...  \n",
       "3115   0.135      0.117       0.248   0.356  \n",
       "3116   0.270      0.171       0.283   0.176  \n",
       "3117   0.050      0.295       0.282   0.312  \n",
       "3118   0.090      0.183       0.273   0.331  \n",
       "3119   0.174      0.209       0.220   0.268  \n",
       "\n",
       "[3120 rows x 11 columns]"
      ]
     },
     "execution_count": 50,
     "metadata": {},
     "output_type": "execute_result"
    }
   ],
   "source": [
    "pt_merged"
   ]
  },
  {
   "cell_type": "code",
   "execution_count": 10,
   "metadata": {},
   "outputs": [],
   "source": [
    "import pandas as pd\n",
    "import os\n",
    "import requests\n",
    "from config import wkey"
   ]
  },
  {
   "cell_type": "code",
   "execution_count": 11,
   "metadata": {},
   "outputs": [],
   "source": [
    "location=os.path.join('Resources','ktop100latlng.csv')\n",
    "ktop100=pd.read_csv(location)"
   ]
  },
  {
   "cell_type": "code",
   "execution_count": 4,
   "metadata": {},
   "outputs": [
    {
     "data": {
      "text/html": [
       "<div>\n",
       "<style scoped>\n",
       "    .dataframe tbody tr th:only-of-type {\n",
       "        vertical-align: middle;\n",
       "    }\n",
       "\n",
       "    .dataframe tbody tr th {\n",
       "        vertical-align: top;\n",
       "    }\n",
       "\n",
       "    .dataframe thead th {\n",
       "        text-align: right;\n",
       "    }\n",
       "</style>\n",
       "<table border=\"1\" class=\"dataframe\">\n",
       "  <thead>\n",
       "    <tr style=\"text-align: right;\">\n",
       "      <th></th>\n",
       "      <th>date</th>\n",
       "      <th>county</th>\n",
       "      <th>state</th>\n",
       "      <th>fips</th>\n",
       "      <th>cases_x</th>\n",
       "      <th>deaths</th>\n",
       "      <th>cases_y</th>\n",
       "      <th>rate</th>\n",
       "      <th>Population</th>\n",
       "      <th>Latitude</th>\n",
       "      <th>Longitude</th>\n",
       "    </tr>\n",
       "  </thead>\n",
       "  <tbody>\n",
       "    <tr>\n",
       "      <th>0</th>\n",
       "      <td>2020-09-08</td>\n",
       "      <td>Tehama</td>\n",
       "      <td>California</td>\n",
       "      <td>6103.0</td>\n",
       "      <td>453</td>\n",
       "      <td>1</td>\n",
       "      <td>1</td>\n",
       "      <td>452.000000</td>\n",
       "      <td>144905</td>\n",
       "      <td>40.027102</td>\n",
       "      <td>-122.123323</td>\n",
       "    </tr>\n",
       "    <tr>\n",
       "      <th>1</th>\n",
       "      <td>2020-09-08</td>\n",
       "      <td>Madison</td>\n",
       "      <td>Arkansas</td>\n",
       "      <td>5087.0</td>\n",
       "      <td>310</td>\n",
       "      <td>2</td>\n",
       "      <td>1</td>\n",
       "      <td>309.000000</td>\n",
       "      <td>102420</td>\n",
       "      <td>35.013147</td>\n",
       "      <td>-90.722610</td>\n",
       "    </tr>\n",
       "    <tr>\n",
       "      <th>2</th>\n",
       "      <td>2020-09-08</td>\n",
       "      <td>Sebastian</td>\n",
       "      <td>Arkansas</td>\n",
       "      <td>5131.0</td>\n",
       "      <td>3042</td>\n",
       "      <td>38</td>\n",
       "      <td>14</td>\n",
       "      <td>216.285714</td>\n",
       "      <td>142299</td>\n",
       "      <td>35.226040</td>\n",
       "      <td>-94.315422</td>\n",
       "    </tr>\n",
       "    <tr>\n",
       "      <th>3</th>\n",
       "      <td>2020-09-08</td>\n",
       "      <td>Meade</td>\n",
       "      <td>South Dakota</td>\n",
       "      <td>46093.0</td>\n",
       "      <td>346</td>\n",
       "      <td>1</td>\n",
       "      <td>2</td>\n",
       "      <td>172.000000</td>\n",
       "      <td>118642</td>\n",
       "      <td>44.441519</td>\n",
       "      <td>-102.685507</td>\n",
       "    </tr>\n",
       "    <tr>\n",
       "      <th>4</th>\n",
       "      <td>2020-09-08</td>\n",
       "      <td>Bingham</td>\n",
       "      <td>Idaho</td>\n",
       "      <td>16011.0</td>\n",
       "      <td>676</td>\n",
       "      <td>9</td>\n",
       "      <td>4</td>\n",
       "      <td>168.000000</td>\n",
       "      <td>121264</td>\n",
       "      <td>43.211230</td>\n",
       "      <td>-112.362415</td>\n",
       "    </tr>\n",
       "  </tbody>\n",
       "</table>\n",
       "</div>"
      ],
      "text/plain": [
       "         date     county         state     fips  cases_x  deaths  cases_y  \\\n",
       "0  2020-09-08     Tehama    California   6103.0      453       1        1   \n",
       "1  2020-09-08    Madison      Arkansas   5087.0      310       2        1   \n",
       "2  2020-09-08  Sebastian      Arkansas   5131.0     3042      38       14   \n",
       "3  2020-09-08      Meade  South Dakota  46093.0      346       1        2   \n",
       "4  2020-09-08    Bingham         Idaho  16011.0      676       9        4   \n",
       "\n",
       "         rate  Population   Latitude   Longitude  \n",
       "0  452.000000      144905  40.027102 -122.123323  \n",
       "1  309.000000      102420  35.013147  -90.722610  \n",
       "2  216.285714      142299  35.226040  -94.315422  \n",
       "3  172.000000      118642  44.441519 -102.685507  \n",
       "4  168.000000      121264  43.211230 -112.362415  "
      ]
     },
     "execution_count": 4,
     "metadata": {},
     "output_type": "execute_result"
    }
   ],
   "source": [
    "ktop100.head()"
   ]
  },
  {
   "cell_type": "code",
   "execution_count": 5,
   "metadata": {},
   "outputs": [],
   "source": [
    "ktop100=ktop100.drop(['deaths'],axis=1)"
   ]
  },
  {
   "cell_type": "code",
   "execution_count": 6,
   "metadata": {},
   "outputs": [
    {
     "data": {
      "text/html": [
       "<div>\n",
       "<style scoped>\n",
       "    .dataframe tbody tr th:only-of-type {\n",
       "        vertical-align: middle;\n",
       "    }\n",
       "\n",
       "    .dataframe tbody tr th {\n",
       "        vertical-align: top;\n",
       "    }\n",
       "\n",
       "    .dataframe thead th {\n",
       "        text-align: right;\n",
       "    }\n",
       "</style>\n",
       "<table border=\"1\" class=\"dataframe\">\n",
       "  <thead>\n",
       "    <tr style=\"text-align: right;\">\n",
       "      <th></th>\n",
       "      <th>date</th>\n",
       "      <th>county</th>\n",
       "      <th>state</th>\n",
       "      <th>fips</th>\n",
       "      <th>cases_x</th>\n",
       "      <th>cases_y</th>\n",
       "      <th>rate</th>\n",
       "      <th>Population</th>\n",
       "      <th>Latitude</th>\n",
       "      <th>Longitude</th>\n",
       "    </tr>\n",
       "  </thead>\n",
       "  <tbody>\n",
       "    <tr>\n",
       "      <th>0</th>\n",
       "      <td>2020-09-08</td>\n",
       "      <td>Tehama</td>\n",
       "      <td>California</td>\n",
       "      <td>6103.0</td>\n",
       "      <td>453</td>\n",
       "      <td>1</td>\n",
       "      <td>452.000000</td>\n",
       "      <td>144905</td>\n",
       "      <td>40.027102</td>\n",
       "      <td>-122.123323</td>\n",
       "    </tr>\n",
       "    <tr>\n",
       "      <th>1</th>\n",
       "      <td>2020-09-08</td>\n",
       "      <td>Madison</td>\n",
       "      <td>Arkansas</td>\n",
       "      <td>5087.0</td>\n",
       "      <td>310</td>\n",
       "      <td>1</td>\n",
       "      <td>309.000000</td>\n",
       "      <td>102420</td>\n",
       "      <td>35.013147</td>\n",
       "      <td>-90.722610</td>\n",
       "    </tr>\n",
       "    <tr>\n",
       "      <th>2</th>\n",
       "      <td>2020-09-08</td>\n",
       "      <td>Sebastian</td>\n",
       "      <td>Arkansas</td>\n",
       "      <td>5131.0</td>\n",
       "      <td>3042</td>\n",
       "      <td>14</td>\n",
       "      <td>216.285714</td>\n",
       "      <td>142299</td>\n",
       "      <td>35.226040</td>\n",
       "      <td>-94.315422</td>\n",
       "    </tr>\n",
       "    <tr>\n",
       "      <th>3</th>\n",
       "      <td>2020-09-08</td>\n",
       "      <td>Meade</td>\n",
       "      <td>South Dakota</td>\n",
       "      <td>46093.0</td>\n",
       "      <td>346</td>\n",
       "      <td>2</td>\n",
       "      <td>172.000000</td>\n",
       "      <td>118642</td>\n",
       "      <td>44.441519</td>\n",
       "      <td>-102.685507</td>\n",
       "    </tr>\n",
       "    <tr>\n",
       "      <th>4</th>\n",
       "      <td>2020-09-08</td>\n",
       "      <td>Bingham</td>\n",
       "      <td>Idaho</td>\n",
       "      <td>16011.0</td>\n",
       "      <td>676</td>\n",
       "      <td>4</td>\n",
       "      <td>168.000000</td>\n",
       "      <td>121264</td>\n",
       "      <td>43.211230</td>\n",
       "      <td>-112.362415</td>\n",
       "    </tr>\n",
       "  </tbody>\n",
       "</table>\n",
       "</div>"
      ],
      "text/plain": [
       "         date     county         state     fips  cases_x  cases_y        rate  \\\n",
       "0  2020-09-08     Tehama    California   6103.0      453        1  452.000000   \n",
       "1  2020-09-08    Madison      Arkansas   5087.0      310        1  309.000000   \n",
       "2  2020-09-08  Sebastian      Arkansas   5131.0     3042       14  216.285714   \n",
       "3  2020-09-08      Meade  South Dakota  46093.0      346        2  172.000000   \n",
       "4  2020-09-08    Bingham         Idaho  16011.0      676        4  168.000000   \n",
       "\n",
       "   Population   Latitude   Longitude  \n",
       "0      144905  40.027102 -122.123323  \n",
       "1      102420  35.013147  -90.722610  \n",
       "2      142299  35.226040  -94.315422  \n",
       "3      118642  44.441519 -102.685507  \n",
       "4      121264  43.211230 -112.362415  "
      ]
     },
     "execution_count": 6,
     "metadata": {},
     "output_type": "execute_result"
    }
   ],
   "source": [
    "ktop100.head()"
   ]
  },
  {
   "cell_type": "code",
   "execution_count": 7,
   "metadata": {},
   "outputs": [],
   "source": [
    "params={'appid':wkey,'units':'Imperial'}"
   ]
  },
  {
   "cell_type": "code",
   "execution_count": 8,
   "metadata": {},
   "outputs": [
    {
     "name": "stdout",
     "output_type": "stream",
     "text": [
      "loking for number 1\n",
      "loking for number 2\n",
      "loking for number 3\n",
      "loking for number 4\n",
      "loking for number 5\n",
      "loking for number 6\n",
      "loking for number 7\n",
      "loking for number 8\n",
      "loking for number 9\n",
      "loking for number 10\n",
      "loking for number 11\n",
      "loking for number 12\n",
      "loking for number 13\n",
      "loking for number 14\n",
      "loking for number 15\n",
      "loking for number 16\n",
      "loking for number 17\n",
      "loking for number 18\n",
      "loking for number 19\n",
      "loking for number 20\n",
      "loking for number 21\n",
      "loking for number 22\n",
      "loking for number 23\n",
      "loking for number 24\n",
      "loking for number 25\n",
      "loking for number 26\n",
      "loking for number 27\n",
      "loking for number 28\n",
      "loking for number 29\n",
      "loking for number 30\n",
      "loking for number 31\n",
      "loking for number 32\n",
      "loking for number 33\n",
      "loking for number 34\n",
      "loking for number 35\n",
      "loking for number 36\n",
      "loking for number 37\n",
      "loking for number 38\n",
      "loking for number 39\n",
      "loking for number 40\n",
      "loking for number 41\n",
      "loking for number 42\n",
      "loking for number 43\n",
      "loking for number 44\n",
      "loking for number 45\n",
      "loking for number 46\n",
      "loking for number 47\n",
      "loking for number 48\n",
      "loking for number 49\n",
      "loking for number 50\n",
      "loking for number 51\n",
      "loking for number 52\n",
      "loking for number 53\n",
      "loking for number 54\n",
      "loking for number 55\n",
      "loking for number 56\n",
      "loking for number 57\n",
      "loking for number 58\n",
      "loking for number 59\n",
      "loking for number 60\n",
      "loking for number 61\n",
      "loking for number 62\n",
      "loking for number 63\n",
      "loking for number 64\n",
      "loking for number 65\n",
      "loking for number 66\n",
      "loking for number 67\n",
      "loking for number 68\n",
      "loking for number 69\n",
      "loking for number 70\n",
      "loking for number 71\n",
      "loking for number 72\n",
      "loking for number 73\n",
      "loking for number 74\n",
      "loking for number 75\n",
      "loking for number 76\n",
      "loking for number 77\n",
      "loking for number 78\n",
      "loking for number 79\n",
      "loking for number 80\n",
      "loking for number 81\n",
      "loking for number 82\n",
      "loking for number 83\n",
      "loking for number 84\n",
      "loking for number 85\n",
      "loking for number 86\n",
      "loking for number 87\n",
      "loking for number 88\n",
      "loking for number 89\n",
      "loking for number 90\n",
      "loking for number 91\n",
      "loking for number 92\n",
      "loking for number 93\n",
      "loking for number 94\n",
      "loking for number 95\n",
      "loking for number 96\n",
      "loking for number 97\n",
      "loking for number 98\n",
      "loking for number 99\n",
      "loking for number 100\n"
     ]
    }
   ],
   "source": [
    "counter=1\n",
    "for index,row in ktop100.iterrows():\n",
    "    print(\"loking for number {}\".format(counter))\n",
    "    url='http://api.openweathermap.org/data/2.5/weather?'\n",
    "    latt=row['Latitude']\n",
    "    long=row['Longitude']\n",
    "    params['lat']=latt\n",
    "    params['lon']=long\n",
    "    response=requests.get(url,params=params).json()\n",
    "    ktop100.loc[index,'Max_Temp']=response['main']['temp_max']\n",
    "    ktop100.loc[index,'humidity']=response['main']['humidity']\n",
    "    \n",
    "    counter+=1"
   ]
  },
  {
   "cell_type": "code",
   "execution_count": 9,
   "metadata": {},
   "outputs": [
    {
     "data": {
      "text/html": [
       "<div>\n",
       "<style scoped>\n",
       "    .dataframe tbody tr th:only-of-type {\n",
       "        vertical-align: middle;\n",
       "    }\n",
       "\n",
       "    .dataframe tbody tr th {\n",
       "        vertical-align: top;\n",
       "    }\n",
       "\n",
       "    .dataframe thead th {\n",
       "        text-align: right;\n",
       "    }\n",
       "</style>\n",
       "<table border=\"1\" class=\"dataframe\">\n",
       "  <thead>\n",
       "    <tr style=\"text-align: right;\">\n",
       "      <th></th>\n",
       "      <th>date</th>\n",
       "      <th>county</th>\n",
       "      <th>state</th>\n",
       "      <th>fips</th>\n",
       "      <th>cases_x</th>\n",
       "      <th>cases_y</th>\n",
       "      <th>rate</th>\n",
       "      <th>Population</th>\n",
       "      <th>Latitude</th>\n",
       "      <th>Longitude</th>\n",
       "      <th>Max_Temp</th>\n",
       "      <th>humidity</th>\n",
       "    </tr>\n",
       "  </thead>\n",
       "  <tbody>\n",
       "    <tr>\n",
       "      <th>0</th>\n",
       "      <td>2020-09-08</td>\n",
       "      <td>Tehama</td>\n",
       "      <td>California</td>\n",
       "      <td>6103.0</td>\n",
       "      <td>453</td>\n",
       "      <td>1</td>\n",
       "      <td>452.000000</td>\n",
       "      <td>144905</td>\n",
       "      <td>40.027102</td>\n",
       "      <td>-122.123323</td>\n",
       "      <td>84.20</td>\n",
       "      <td>32.0</td>\n",
       "    </tr>\n",
       "    <tr>\n",
       "      <th>1</th>\n",
       "      <td>2020-09-08</td>\n",
       "      <td>Madison</td>\n",
       "      <td>Arkansas</td>\n",
       "      <td>5087.0</td>\n",
       "      <td>310</td>\n",
       "      <td>1</td>\n",
       "      <td>309.000000</td>\n",
       "      <td>102420</td>\n",
       "      <td>35.013147</td>\n",
       "      <td>-90.722610</td>\n",
       "      <td>73.00</td>\n",
       "      <td>73.0</td>\n",
       "    </tr>\n",
       "    <tr>\n",
       "      <th>2</th>\n",
       "      <td>2020-09-08</td>\n",
       "      <td>Sebastian</td>\n",
       "      <td>Arkansas</td>\n",
       "      <td>5131.0</td>\n",
       "      <td>3042</td>\n",
       "      <td>14</td>\n",
       "      <td>216.285714</td>\n",
       "      <td>142299</td>\n",
       "      <td>35.226040</td>\n",
       "      <td>-94.315422</td>\n",
       "      <td>77.00</td>\n",
       "      <td>65.0</td>\n",
       "    </tr>\n",
       "    <tr>\n",
       "      <th>3</th>\n",
       "      <td>2020-09-08</td>\n",
       "      <td>Meade</td>\n",
       "      <td>South Dakota</td>\n",
       "      <td>46093.0</td>\n",
       "      <td>346</td>\n",
       "      <td>2</td>\n",
       "      <td>172.000000</td>\n",
       "      <td>118642</td>\n",
       "      <td>44.441519</td>\n",
       "      <td>-102.685507</td>\n",
       "      <td>62.01</td>\n",
       "      <td>59.0</td>\n",
       "    </tr>\n",
       "    <tr>\n",
       "      <th>4</th>\n",
       "      <td>2020-09-08</td>\n",
       "      <td>Bingham</td>\n",
       "      <td>Idaho</td>\n",
       "      <td>16011.0</td>\n",
       "      <td>676</td>\n",
       "      <td>4</td>\n",
       "      <td>168.000000</td>\n",
       "      <td>121264</td>\n",
       "      <td>43.211230</td>\n",
       "      <td>-112.362415</td>\n",
       "      <td>79.00</td>\n",
       "      <td>9.0</td>\n",
       "    </tr>\n",
       "  </tbody>\n",
       "</table>\n",
       "</div>"
      ],
      "text/plain": [
       "         date     county         state     fips  cases_x  cases_y        rate  \\\n",
       "0  2020-09-08     Tehama    California   6103.0      453        1  452.000000   \n",
       "1  2020-09-08    Madison      Arkansas   5087.0      310        1  309.000000   \n",
       "2  2020-09-08  Sebastian      Arkansas   5131.0     3042       14  216.285714   \n",
       "3  2020-09-08      Meade  South Dakota  46093.0      346        2  172.000000   \n",
       "4  2020-09-08    Bingham         Idaho  16011.0      676        4  168.000000   \n",
       "\n",
       "   Population   Latitude   Longitude  Max_Temp  humidity  \n",
       "0      144905  40.027102 -122.123323     84.20      32.0  \n",
       "1      102420  35.013147  -90.722610     73.00      73.0  \n",
       "2      142299  35.226040  -94.315422     77.00      65.0  \n",
       "3      118642  44.441519 -102.685507     62.01      59.0  \n",
       "4      121264  43.211230 -112.362415     79.00       9.0  "
      ]
     },
     "execution_count": 9,
     "metadata": {},
     "output_type": "execute_result"
    }
   ],
   "source": [
    "ktop100.head()"
   ]
  },
  {
   "cell_type": "code",
   "execution_count": null,
   "metadata": {},
   "outputs": [],
   "source": [
    "plt.scatter()"
   ]
  },
  {
   "cell_type": "code",
   "execution_count": 58,
   "metadata": {},
   "outputs": [
    {
     "data": {
      "text/plain": [
       "{'coord': {'lon': -80.63, 'lat': 25.55},\n",
       " 'weather': [{'id': 800,\n",
       "   'main': 'Clear',\n",
       "   'description': 'clear sky',\n",
       "   'icon': '01d'}],\n",
       " 'base': 'stations',\n",
       " 'main': {'temp': 86.5,\n",
       "  'feels_like': 90.36,\n",
       "  'temp_min': 84.99,\n",
       "  'temp_max': 87.8,\n",
       "  'pressure': 1014,\n",
       "  'humidity': 66},\n",
       " 'visibility': 10000,\n",
       " 'wind': {'speed': 10.29, 'deg': 140},\n",
       " 'clouds': {'all': 1},\n",
       " 'dt': 1600208449,\n",
       " 'sys': {'type': 1,\n",
       "  'id': 6041,\n",
       "  'country': 'US',\n",
       "  'sunrise': 1600168120,\n",
       "  'sunset': 1600212398},\n",
       " 'timezone': -14400,\n",
       " 'id': 4164238,\n",
       " 'name': 'Miami-Dade County',\n",
       " 'cod': 200}"
      ]
     },
     "execution_count": 58,
     "metadata": {},
     "output_type": "execute_result"
    }
   ],
   "source": [
    "response"
   ]
  },
  {
   "cell_type": "code",
   "execution_count": null,
   "metadata": {},
   "outputs": [],
   "source": []
  }
 ],
 "metadata": {
  "kernelspec": {
   "display_name": "Python 3",
   "language": "python",
   "name": "python3"
  },
  "language_info": {
   "codemirror_mode": {
    "name": "ipython",
    "version": 3
   },
   "file_extension": ".py",
   "mimetype": "text/x-python",
   "name": "python",
   "nbconvert_exporter": "python",
   "pygments_lexer": "ipython3",
   "version": "3.7.3"
  }
 },
 "nbformat": 4,
 "nbformat_minor": 2
}
