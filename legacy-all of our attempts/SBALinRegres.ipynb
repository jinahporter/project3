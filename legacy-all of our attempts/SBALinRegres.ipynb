{
 "cells": [
  {
   "cell_type": "code",
   "execution_count": 29,
   "metadata": {},
   "outputs": [],
   "source": [
    "# Import libraries\n",
    "import matplotlib.pyplot as plt\n",
    "import pandas as pd\n",
    "import os\n",
    "from sklearn.linear_model import LogisticRegression\n",
    "from sklearn.model_selection import train_test_split\n",
    "import re\n",
    "import numpy as np\n",
    "import warnings\n",
    "warnings.filterwarnings(\"ignore\")"
   ]
  },
  {
   "cell_type": "code",
   "execution_count": 30,
   "metadata": {},
   "outputs": [
    {
     "name": "stdout",
     "output_type": "stream",
     "text": [
      "Shape of the data is: (21958, 16)\n"
     ]
    },
    {
     "data": {
      "text/html": [
       "<div>\n",
       "<style scoped>\n",
       "    .dataframe tbody tr th:only-of-type {\n",
       "        vertical-align: middle;\n",
       "    }\n",
       "\n",
       "    .dataframe tbody tr th {\n",
       "        vertical-align: top;\n",
       "    }\n",
       "\n",
       "    .dataframe thead th {\n",
       "        text-align: right;\n",
       "    }\n",
       "</style>\n",
       "<table border=\"1\" class=\"dataframe\">\n",
       "  <thead>\n",
       "    <tr style=\"text-align: right;\">\n",
       "      <th></th>\n",
       "      <th>FiscalYear</th>\n",
       "      <th>SBA Physical Declaration Number</th>\n",
       "      <th>SBA EIDL Declaration Number</th>\n",
       "      <th>FEMA Disaster Number</th>\n",
       "      <th>SBA Disaster Number</th>\n",
       "      <th>Damaged Property City Name</th>\n",
       "      <th>Damaged Property Zip Code</th>\n",
       "      <th>Damaged Property County/Parish Name</th>\n",
       "      <th>Damaged Property State Code</th>\n",
       "      <th>Total Verified Loss</th>\n",
       "      <th>Verified Loss Real Estate</th>\n",
       "      <th>Verified Loss Content</th>\n",
       "      <th>Total Approved Loan Amount</th>\n",
       "      <th>Approved Amount Real Estate</th>\n",
       "      <th>Approved Amount Content</th>\n",
       "      <th>LoanApproved</th>\n",
       "    </tr>\n",
       "  </thead>\n",
       "  <tbody>\n",
       "    <tr>\n",
       "      <th>0</th>\n",
       "      <td>2011</td>\n",
       "      <td>12351</td>\n",
       "      <td>12352</td>\n",
       "      <td>NaN</td>\n",
       "      <td>MN-00027</td>\n",
       "      <td>AMBOY</td>\n",
       "      <td>56010</td>\n",
       "      <td>BLUE EARTH</td>\n",
       "      <td>MN</td>\n",
       "      <td>79199.0</td>\n",
       "      <td>50754.0</td>\n",
       "      <td>28445.0</td>\n",
       "      <td>28800.0</td>\n",
       "      <td>17500.0</td>\n",
       "      <td>11300.0</td>\n",
       "      <td>YES</td>\n",
       "    </tr>\n",
       "    <tr>\n",
       "      <th>1</th>\n",
       "      <td>2011</td>\n",
       "      <td>12351</td>\n",
       "      <td>12352</td>\n",
       "      <td>NaN</td>\n",
       "      <td>MN-00027</td>\n",
       "      <td>BLOOMING PRAIRIE</td>\n",
       "      <td>55917</td>\n",
       "      <td>STEELE</td>\n",
       "      <td>MN</td>\n",
       "      <td>44971.0</td>\n",
       "      <td>27821.0</td>\n",
       "      <td>17150.0</td>\n",
       "      <td>40000.0</td>\n",
       "      <td>22900.0</td>\n",
       "      <td>17100.0</td>\n",
       "      <td>YES</td>\n",
       "    </tr>\n",
       "    <tr>\n",
       "      <th>2</th>\n",
       "      <td>2011</td>\n",
       "      <td>12351</td>\n",
       "      <td>12352</td>\n",
       "      <td>NaN</td>\n",
       "      <td>MN-00027</td>\n",
       "      <td>ELLENDALE</td>\n",
       "      <td>56026</td>\n",
       "      <td>STEELE</td>\n",
       "      <td>MN</td>\n",
       "      <td>44162.0</td>\n",
       "      <td>28837.0</td>\n",
       "      <td>15325.0</td>\n",
       "      <td>14000.0</td>\n",
       "      <td>11600.0</td>\n",
       "      <td>2400.0</td>\n",
       "      <td>YES</td>\n",
       "    </tr>\n",
       "    <tr>\n",
       "      <th>3</th>\n",
       "      <td>2011</td>\n",
       "      <td>12351</td>\n",
       "      <td>12352</td>\n",
       "      <td>NaN</td>\n",
       "      <td>MN-00027</td>\n",
       "      <td>EYOTA</td>\n",
       "      <td>55934</td>\n",
       "      <td>OLMSTED</td>\n",
       "      <td>MN</td>\n",
       "      <td>87512.0</td>\n",
       "      <td>68937.0</td>\n",
       "      <td>18575.0</td>\n",
       "      <td>33700.0</td>\n",
       "      <td>32100.0</td>\n",
       "      <td>1600.0</td>\n",
       "      <td>YES</td>\n",
       "    </tr>\n",
       "    <tr>\n",
       "      <th>4</th>\n",
       "      <td>2011</td>\n",
       "      <td>12351</td>\n",
       "      <td>12352</td>\n",
       "      <td>NaN</td>\n",
       "      <td>MN-00027</td>\n",
       "      <td>FAIRMONT</td>\n",
       "      <td>56031</td>\n",
       "      <td>MARTIN</td>\n",
       "      <td>MN</td>\n",
       "      <td>12876.0</td>\n",
       "      <td>11726.0</td>\n",
       "      <td>1150.0</td>\n",
       "      <td>12100.0</td>\n",
       "      <td>11000.0</td>\n",
       "      <td>1100.0</td>\n",
       "      <td>YES</td>\n",
       "    </tr>\n",
       "  </tbody>\n",
       "</table>\n",
       "</div>"
      ],
      "text/plain": [
       "   FiscalYear  SBA Physical Declaration Number  SBA EIDL Declaration Number  \\\n",
       "0        2011                            12351                        12352   \n",
       "1        2011                            12351                        12352   \n",
       "2        2011                            12351                        12352   \n",
       "3        2011                            12351                        12352   \n",
       "4        2011                            12351                        12352   \n",
       "\n",
       "   FEMA Disaster Number SBA Disaster Number Damaged Property City Name  \\\n",
       "0                   NaN            MN-00027                      AMBOY   \n",
       "1                   NaN            MN-00027           BLOOMING PRAIRIE   \n",
       "2                   NaN            MN-00027                  ELLENDALE   \n",
       "3                   NaN            MN-00027                      EYOTA   \n",
       "4                   NaN            MN-00027                   FAIRMONT   \n",
       "\n",
       "   Damaged Property Zip Code Damaged Property County/Parish Name  \\\n",
       "0                      56010                          BLUE EARTH   \n",
       "1                      55917                              STEELE   \n",
       "2                      56026                              STEELE   \n",
       "3                      55934                             OLMSTED   \n",
       "4                      56031                              MARTIN   \n",
       "\n",
       "  Damaged Property State Code  Total Verified Loss  Verified Loss Real Estate  \\\n",
       "0                          MN              79199.0                    50754.0   \n",
       "1                          MN              44971.0                    27821.0   \n",
       "2                          MN              44162.0                    28837.0   \n",
       "3                          MN              87512.0                    68937.0   \n",
       "4                          MN              12876.0                    11726.0   \n",
       "\n",
       "   Verified Loss Content  Total Approved Loan Amount  \\\n",
       "0                28445.0                     28800.0   \n",
       "1                17150.0                     40000.0   \n",
       "2                15325.0                     14000.0   \n",
       "3                18575.0                     33700.0   \n",
       "4                 1150.0                     12100.0   \n",
       "\n",
       "   Approved Amount Real Estate  Approved Amount Content LoanApproved  \n",
       "0                      17500.0                  11300.0          YES  \n",
       "1                      22900.0                  17100.0          YES  \n",
       "2                      11600.0                   2400.0          YES  \n",
       "3                      32100.0                   1600.0          YES  \n",
       "4                      11000.0                   1100.0          YES  "
      ]
     },
     "execution_count": 30,
     "metadata": {},
     "output_type": "execute_result"
    }
   ],
   "source": [
    "# load and view data\n",
    "file_path = os.path.join('SBA2011-2019', 'SBAHomeDataApproval2011_2019.xlsx')\n",
    "data = pd.read_excel(file_path)\n",
    "print(f\"Shape of the data is: {data.shape}\")\n",
    "data.head()"
   ]
  },
  {
   "cell_type": "code",
   "execution_count": 49,
   "metadata": {},
   "outputs": [
    {
     "data": {
      "text/html": [
       "<div>\n",
       "<style scoped>\n",
       "    .dataframe tbody tr th:only-of-type {\n",
       "        vertical-align: middle;\n",
       "    }\n",
       "\n",
       "    .dataframe tbody tr th {\n",
       "        vertical-align: top;\n",
       "    }\n",
       "\n",
       "    .dataframe thead th {\n",
       "        text-align: right;\n",
       "    }\n",
       "</style>\n",
       "<table border=\"1\" class=\"dataframe\">\n",
       "  <thead>\n",
       "    <tr style=\"text-align: right;\">\n",
       "      <th></th>\n",
       "      <th>FiscalYear</th>\n",
       "      <th>SBA Physical Declaration Number</th>\n",
       "      <th>SBA EIDL Declaration Number</th>\n",
       "      <th>FEMA Disaster Number</th>\n",
       "      <th>SBA Disaster Number</th>\n",
       "      <th>Damaged Property City Name</th>\n",
       "      <th>Damaged Property Zip Code</th>\n",
       "      <th>Damaged Property County/Parish Name</th>\n",
       "      <th>Damaged Property State Code</th>\n",
       "      <th>Total Verified Loss</th>\n",
       "      <th>Verified Loss Real Estate</th>\n",
       "      <th>Verified Loss Content</th>\n",
       "      <th>Total Approved Loan Amount</th>\n",
       "      <th>Approved Amount Real Estate</th>\n",
       "      <th>Approved Amount Content</th>\n",
       "      <th>LoanApproved</th>\n",
       "    </tr>\n",
       "  </thead>\n",
       "  <tbody>\n",
       "    <tr>\n",
       "      <th>0</th>\n",
       "      <td>2011</td>\n",
       "      <td>12351</td>\n",
       "      <td>12352</td>\n",
       "      <td>NaN</td>\n",
       "      <td>MN-00027</td>\n",
       "      <td>AMBOY</td>\n",
       "      <td>56010</td>\n",
       "      <td>BLUE EARTH</td>\n",
       "      <td>MN</td>\n",
       "      <td>79199.0</td>\n",
       "      <td>50754.00</td>\n",
       "      <td>28445.0</td>\n",
       "      <td>28800.0</td>\n",
       "      <td>17500.0</td>\n",
       "      <td>11300.0</td>\n",
       "      <td>YES</td>\n",
       "    </tr>\n",
       "    <tr>\n",
       "      <th>1</th>\n",
       "      <td>2011</td>\n",
       "      <td>12351</td>\n",
       "      <td>12352</td>\n",
       "      <td>NaN</td>\n",
       "      <td>MN-00027</td>\n",
       "      <td>BLOOMING PRAIRIE</td>\n",
       "      <td>55917</td>\n",
       "      <td>STEELE</td>\n",
       "      <td>MN</td>\n",
       "      <td>44971.0</td>\n",
       "      <td>27821.00</td>\n",
       "      <td>17150.0</td>\n",
       "      <td>40000.0</td>\n",
       "      <td>22900.0</td>\n",
       "      <td>17100.0</td>\n",
       "      <td>YES</td>\n",
       "    </tr>\n",
       "    <tr>\n",
       "      <th>2</th>\n",
       "      <td>2011</td>\n",
       "      <td>12351</td>\n",
       "      <td>12352</td>\n",
       "      <td>NaN</td>\n",
       "      <td>MN-00027</td>\n",
       "      <td>ELLENDALE</td>\n",
       "      <td>56026</td>\n",
       "      <td>STEELE</td>\n",
       "      <td>MN</td>\n",
       "      <td>44162.0</td>\n",
       "      <td>28837.00</td>\n",
       "      <td>15325.0</td>\n",
       "      <td>14000.0</td>\n",
       "      <td>11600.0</td>\n",
       "      <td>2400.0</td>\n",
       "      <td>YES</td>\n",
       "    </tr>\n",
       "    <tr>\n",
       "      <th>3</th>\n",
       "      <td>2011</td>\n",
       "      <td>12351</td>\n",
       "      <td>12352</td>\n",
       "      <td>NaN</td>\n",
       "      <td>MN-00027</td>\n",
       "      <td>EYOTA</td>\n",
       "      <td>55934</td>\n",
       "      <td>OLMSTED</td>\n",
       "      <td>MN</td>\n",
       "      <td>87512.0</td>\n",
       "      <td>68937.00</td>\n",
       "      <td>18575.0</td>\n",
       "      <td>33700.0</td>\n",
       "      <td>32100.0</td>\n",
       "      <td>1600.0</td>\n",
       "      <td>YES</td>\n",
       "    </tr>\n",
       "    <tr>\n",
       "      <th>4</th>\n",
       "      <td>2011</td>\n",
       "      <td>12351</td>\n",
       "      <td>12352</td>\n",
       "      <td>NaN</td>\n",
       "      <td>MN-00027</td>\n",
       "      <td>FAIRMONT</td>\n",
       "      <td>56031</td>\n",
       "      <td>MARTIN</td>\n",
       "      <td>MN</td>\n",
       "      <td>12876.0</td>\n",
       "      <td>11726.00</td>\n",
       "      <td>1150.0</td>\n",
       "      <td>12100.0</td>\n",
       "      <td>11000.0</td>\n",
       "      <td>1100.0</td>\n",
       "      <td>YES</td>\n",
       "    </tr>\n",
       "    <tr>\n",
       "      <th>...</th>\n",
       "      <td>...</td>\n",
       "      <td>...</td>\n",
       "      <td>...</td>\n",
       "      <td>...</td>\n",
       "      <td>...</td>\n",
       "      <td>...</td>\n",
       "      <td>...</td>\n",
       "      <td>...</td>\n",
       "      <td>...</td>\n",
       "      <td>...</td>\n",
       "      <td>...</td>\n",
       "      <td>...</td>\n",
       "      <td>...</td>\n",
       "      <td>...</td>\n",
       "      <td>...</td>\n",
       "      <td>...</td>\n",
       "    </tr>\n",
       "    <tr>\n",
       "      <th>21953</th>\n",
       "      <td>2019</td>\n",
       "      <td>16141</td>\n",
       "      <td>16142</td>\n",
       "      <td>NaN</td>\n",
       "      <td>IL-00056</td>\n",
       "      <td>UNIVERSITY PARK</td>\n",
       "      <td>60484</td>\n",
       "      <td>Will</td>\n",
       "      <td>IL</td>\n",
       "      <td>NaN</td>\n",
       "      <td>21729.00</td>\n",
       "      <td>18075.0</td>\n",
       "      <td>0.0</td>\n",
       "      <td>0.0</td>\n",
       "      <td>0.0</td>\n",
       "      <td>NO</td>\n",
       "    </tr>\n",
       "    <tr>\n",
       "      <th>21954</th>\n",
       "      <td>2019</td>\n",
       "      <td>16141</td>\n",
       "      <td>16142</td>\n",
       "      <td>NaN</td>\n",
       "      <td>IL-00056</td>\n",
       "      <td>AURORA</td>\n",
       "      <td>60506</td>\n",
       "      <td>Will</td>\n",
       "      <td>IL</td>\n",
       "      <td>NaN</td>\n",
       "      <td>NaN</td>\n",
       "      <td>NaN</td>\n",
       "      <td>0.0</td>\n",
       "      <td>NaN</td>\n",
       "      <td>NaN</td>\n",
       "      <td>NO</td>\n",
       "    </tr>\n",
       "    <tr>\n",
       "      <th>21955</th>\n",
       "      <td>2019</td>\n",
       "      <td>16141</td>\n",
       "      <td>16142</td>\n",
       "      <td>NaN</td>\n",
       "      <td>IL-00056</td>\n",
       "      <td>CHICAGO</td>\n",
       "      <td>60621</td>\n",
       "      <td>Cook</td>\n",
       "      <td>IL</td>\n",
       "      <td>NaN</td>\n",
       "      <td>0.00</td>\n",
       "      <td>4565.0</td>\n",
       "      <td>0.0</td>\n",
       "      <td>0.0</td>\n",
       "      <td>0.0</td>\n",
       "      <td>NO</td>\n",
       "    </tr>\n",
       "    <tr>\n",
       "      <th>21956</th>\n",
       "      <td>2019</td>\n",
       "      <td>16141</td>\n",
       "      <td>16142</td>\n",
       "      <td>NaN</td>\n",
       "      <td>IL-00056</td>\n",
       "      <td>CHICAGO</td>\n",
       "      <td>60628</td>\n",
       "      <td>Cook</td>\n",
       "      <td>IL</td>\n",
       "      <td>NaN</td>\n",
       "      <td>37469.66</td>\n",
       "      <td>7300.0</td>\n",
       "      <td>44800.0</td>\n",
       "      <td>37500.0</td>\n",
       "      <td>7300.0</td>\n",
       "      <td>YES</td>\n",
       "    </tr>\n",
       "    <tr>\n",
       "      <th>21957</th>\n",
       "      <td>2019</td>\n",
       "      <td>16141</td>\n",
       "      <td>16142</td>\n",
       "      <td>NaN</td>\n",
       "      <td>IL-00056</td>\n",
       "      <td>CHICAGO</td>\n",
       "      <td>60634</td>\n",
       "      <td>Cook</td>\n",
       "      <td>IL</td>\n",
       "      <td>NaN</td>\n",
       "      <td>31716.93</td>\n",
       "      <td>5500.0</td>\n",
       "      <td>0.0</td>\n",
       "      <td>0.0</td>\n",
       "      <td>0.0</td>\n",
       "      <td>NO</td>\n",
       "    </tr>\n",
       "  </tbody>\n",
       "</table>\n",
       "<p>5480 rows × 16 columns</p>\n",
       "</div>"
      ],
      "text/plain": [
       "       FiscalYear  SBA Physical Declaration Number  \\\n",
       "0            2011                            12351   \n",
       "1            2011                            12351   \n",
       "2            2011                            12351   \n",
       "3            2011                            12351   \n",
       "4            2011                            12351   \n",
       "...           ...                              ...   \n",
       "21953        2019                            16141   \n",
       "21954        2019                            16141   \n",
       "21955        2019                            16141   \n",
       "21956        2019                            16141   \n",
       "21957        2019                            16141   \n",
       "\n",
       "       SBA EIDL Declaration Number  FEMA Disaster Number SBA Disaster Number  \\\n",
       "0                            12352                   NaN            MN-00027   \n",
       "1                            12352                   NaN            MN-00027   \n",
       "2                            12352                   NaN            MN-00027   \n",
       "3                            12352                   NaN            MN-00027   \n",
       "4                            12352                   NaN            MN-00027   \n",
       "...                            ...                   ...                 ...   \n",
       "21953                        16142                   NaN            IL-00056   \n",
       "21954                        16142                   NaN            IL-00056   \n",
       "21955                        16142                   NaN            IL-00056   \n",
       "21956                        16142                   NaN            IL-00056   \n",
       "21957                        16142                   NaN            IL-00056   \n",
       "\n",
       "      Damaged Property City Name  Damaged Property Zip Code  \\\n",
       "0                          AMBOY                      56010   \n",
       "1               BLOOMING PRAIRIE                      55917   \n",
       "2                      ELLENDALE                      56026   \n",
       "3                          EYOTA                      55934   \n",
       "4                       FAIRMONT                      56031   \n",
       "...                          ...                        ...   \n",
       "21953            UNIVERSITY PARK                      60484   \n",
       "21954                     AURORA                      60506   \n",
       "21955                    CHICAGO                      60621   \n",
       "21956                    CHICAGO                      60628   \n",
       "21957                    CHICAGO                      60634   \n",
       "\n",
       "      Damaged Property County/Parish Name Damaged Property State Code  \\\n",
       "0                              BLUE EARTH                          MN   \n",
       "1                                  STEELE                          MN   \n",
       "2                                  STEELE                          MN   \n",
       "3                                 OLMSTED                          MN   \n",
       "4                                  MARTIN                          MN   \n",
       "...                                   ...                         ...   \n",
       "21953                                Will                          IL   \n",
       "21954                                Will                          IL   \n",
       "21955                                Cook                          IL   \n",
       "21956                                Cook                          IL   \n",
       "21957                                Cook                          IL   \n",
       "\n",
       "       Total Verified Loss  Verified Loss Real Estate  Verified Loss Content  \\\n",
       "0                  79199.0                   50754.00                28445.0   \n",
       "1                  44971.0                   27821.00                17150.0   \n",
       "2                  44162.0                   28837.00                15325.0   \n",
       "3                  87512.0                   68937.00                18575.0   \n",
       "4                  12876.0                   11726.00                 1150.0   \n",
       "...                    ...                        ...                    ...   \n",
       "21953                  NaN                   21729.00                18075.0   \n",
       "21954                  NaN                        NaN                    NaN   \n",
       "21955                  NaN                       0.00                 4565.0   \n",
       "21956                  NaN                   37469.66                 7300.0   \n",
       "21957                  NaN                   31716.93                 5500.0   \n",
       "\n",
       "       Total Approved Loan Amount  Approved Amount Real Estate  \\\n",
       "0                         28800.0                      17500.0   \n",
       "1                         40000.0                      22900.0   \n",
       "2                         14000.0                      11600.0   \n",
       "3                         33700.0                      32100.0   \n",
       "4                         12100.0                      11000.0   \n",
       "...                           ...                          ...   \n",
       "21953                         0.0                          0.0   \n",
       "21954                         0.0                          NaN   \n",
       "21955                         0.0                          0.0   \n",
       "21956                     44800.0                      37500.0   \n",
       "21957                         0.0                          0.0   \n",
       "\n",
       "       Approved Amount Content LoanApproved  \n",
       "0                      11300.0          YES  \n",
       "1                      17100.0          YES  \n",
       "2                       2400.0          YES  \n",
       "3                       1600.0          YES  \n",
       "4                       1100.0          YES  \n",
       "...                        ...          ...  \n",
       "21953                      0.0           NO  \n",
       "21954                      NaN           NO  \n",
       "21955                      0.0           NO  \n",
       "21956                   7300.0          YES  \n",
       "21957                      0.0           NO  \n",
       "\n",
       "[5480 rows x 16 columns]"
      ]
     },
     "execution_count": 49,
     "metadata": {},
     "output_type": "execute_result"
    }
   ],
   "source": [
    "# investigate rows with null values\n",
    "data[data.isnull().any(axis=1)]"
   ]
  },
  {
   "cell_type": "code",
   "execution_count": 32,
   "metadata": {},
   "outputs": [],
   "source": [
    "# only take rows of businesses that FEMA Disaster Number is not null\n",
    "\n",
    "data_fema_na = data[data['FEMA Disaster Number'].notna()]"
   ]
  },
  {
   "cell_type": "code",
   "execution_count": 50,
   "metadata": {},
   "outputs": [
    {
     "data": {
      "text/plain": [
       "FiscalYear                                0\n",
       "SBA Physical Declaration Number           0\n",
       "SBA EIDL Declaration Number               0\n",
       "FEMA Disaster Number                   4246\n",
       "SBA Disaster Number                       0\n",
       "Damaged Property City Name                1\n",
       "Damaged Property Zip Code                 0\n",
       "Damaged Property County/Parish Name       0\n",
       "Damaged Property State Code               0\n",
       "Total Verified Loss                    2119\n",
       "Verified Loss Real Estate               516\n",
       "Verified Loss Content                   516\n",
       "Total Approved Loan Amount                1\n",
       "Approved Amount Real Estate             520\n",
       "Approved Amount Content                 520\n",
       "LoanApproved                              0\n",
       "dtype: int64"
      ]
     },
     "execution_count": 50,
     "metadata": {},
     "output_type": "execute_result"
    }
   ],
   "source": [
    "# drop lenders with loans of 5 or more\n",
    "counts = data_fema_na['LoanApproved'].value_counts()\n",
    "\n",
    "# drop categorical columns\n",
    "data_clean = data_fema_na.drop(columns=['Total Verified Loss', 'Verified Loss Real Estate', 'Verified Loss Content',\n",
    "                             'Approved Amount Real Estate', 'Approved Amount Content',\n",
    "                                'Damaged Property City Name', 'Damaged Property County/Parish Name',\n",
    "                                'Damaged Property State Code'], axis=1)\n",
    "\n",
    "# loan_data = pd.get_dummies(data, columns=[\"BusinessType\"])\n",
    "\n",
    "data_clean.head()\n",
    "data_clean.dtypes\n",
    "\n",
    "data.isnull().sum()"
   ]
  },
  {
   "cell_type": "code",
   "execution_count": 61,
   "metadata": {},
   "outputs": [
    {
     "name": "stdout",
     "output_type": "stream",
     "text": [
      "(17711,) (17711, 1)\n"
     ]
    }
   ],
   "source": [
    "# Assign X (data) and y(target)\n",
    "X = data_clean['SBA Physical Declaration Number']\n",
    "y = data_clean.drop([\"SBA EIDL Declaration Number\", 'Damaged Property Zip Code', 'SBA Physical Declaration Number', 'FiscalYear', 'FEMA Disaster Number', 'SBA Disaster Number', 'LoanApproved'], axis=1)\n",
    "print(X.shape, y.shape)\n",
    "\n",
    "\n",
    "\n",
    "data_clean.isnull().sum()\n",
    "\n",
    "data_clean = data_clean[data_clean['Total Approved Loan Amount'].notna()]\n",
    "\n",
    "X = X.values.reshape(-1, 1)"
   ]
  },
  {
   "cell_type": "code",
   "execution_count": 62,
   "metadata": {},
   "outputs": [],
   "source": [
    "# Split our data into training and testing\n",
    "\n",
    "X_train, X_test, y_train, y_test = train_test_split(X, y, test_size=0.33, random_state=42)\n",
    "\n",
    "# X_train = X_train.reshape(-1, 1)\n",
    "# X_test = X_test.reshape(-1, 1)"
   ]
  },
  {
   "cell_type": "code",
   "execution_count": 66,
   "metadata": {},
   "outputs": [
    {
     "data": {
      "text/plain": [
       "LinearRegression(copy_X=True, fit_intercept=True, n_jobs=None, normalize=False)"
      ]
     },
     "execution_count": 66,
     "metadata": {},
     "output_type": "execute_result"
    }
   ],
   "source": [
    "# Create a logistic Regression Model\n",
    "\n",
    "from sklearn.linear_model import LinearRegression\n",
    "classifier = LinearRegression()\n",
    "classifier"
   ]
  },
  {
   "cell_type": "code",
   "execution_count": 67,
   "metadata": {},
   "outputs": [
    {
     "data": {
      "text/plain": [
       "LinearRegression(copy_X=True, fit_intercept=True, n_jobs=None, normalize=False)"
      ]
     },
     "execution_count": 67,
     "metadata": {},
     "output_type": "execute_result"
    }
   ],
   "source": [
    "# Fit model using the training data\n",
    "classifier.fit(X_train, y_train)"
   ]
  },
  {
   "cell_type": "code",
   "execution_count": 68,
   "metadata": {},
   "outputs": [
    {
     "name": "stdout",
     "output_type": "stream",
     "text": [
      "Training Data Score: 0.004283926808400951\n",
      "Testing Data Score: 0.005042629348243066\n"
     ]
    }
   ],
   "source": [
    "# evaluate the model's performance using the test data\n",
    "print(f\"Training Data Score: {classifier.score(X_train, y_train)}\")\n",
    "print(f\"Testing Data Score: {classifier.score(X_test, y_test)}\")"
   ]
  },
  {
   "cell_type": "code",
   "execution_count": 71,
   "metadata": {},
   "outputs": [
    {
     "name": "stdout",
     "output_type": "stream",
     "text": [
      "First 10 Predictions:   [[-3.38010081e+06]\n",
      " [ 1.10621038e+08]\n",
      " [ 7.73610313e+07]\n",
      " [ 3.63809887e+07]\n",
      " [ 9.88326992e+06]\n",
      " [ 1.53105135e+07]\n",
      " [-3.38010081e+06]\n",
      " [ 4.56392278e+07]\n",
      " [-3.38010081e+06]\n",
      " [ 7.64852255e+06]]\n"
     ]
    }
   ],
   "source": [
    "# Make predictions\n",
    "predictions = classifier.predict(y_test)\n",
    "print(f\"First 10 Predictions:   {predictions[:10]}\")\n",
    "# print(f\"First 10 Actual labels: {y_test[:10].tolist()}\")"
   ]
  },
  {
   "cell_type": "code",
   "execution_count": 75,
   "metadata": {},
   "outputs": [
    {
     "data": {
      "image/png": "[encoded data removed]",
      "text/plain": [
       "<Figure size 432x288 with 1 Axes>"
      ]
     },
     "metadata": {
      "needs_background": "light"
     },
     "output_type": "display_data"
    }
   ],
   "source": [
    "viz = plt\n",
    "viz.scatter(X_train, y_train, color = 'red')\n",
    "viz.plot(X_train, classifier.predict(X_train), color='blue')\n",
    "viz.show()"
   ]
  },
  {
   "cell_type": "code",
   "execution_count": 76,
   "metadata": {},
   "outputs": [
    {
     "data": {
      "image/png": "[encoded data removed]",
      "text/plain": [
       "<Figure size 432x288 with 1 Axes>"
      ]
     },
     "metadata": {
      "needs_background": "light"
     },
     "output_type": "display_data"
    }
   ],
   "source": [
    "viz = plt\n",
    "viz.scatter(X_test, y_test, color = 'red')\n",
    "viz.plot(X_train, classifier.predict(X_train), color='blue')\n",
    "viz.show()"
   ]
  },
  {
   "cell_type": "code",
   "execution_count": 79,
   "metadata": {},
   "outputs": [
    {
     "ename": "ValueError",
     "evalue": "Expected 2D array, got scalar array instead:\narray=16141.\nReshape your data either using array.reshape(-1, 1) if your data has a single feature or array.reshape(1, -1) if it contains a single sample.",
     "output_type": "error",
     "traceback": [
      "\u001b[0;31m---------------------------------------------------------------------------\u001b[0m",
      "\u001b[0;31mValueError\u001b[0m                                Traceback (most recent call last)",
      "\u001b[0;32m<ipython-input-79-9032b96c370f>\u001b[0m in \u001b[0;36m<module>\u001b[0;34m\u001b[0m\n\u001b[0;32m----> 1\u001b[0;31m \u001b[0my_pred\u001b[0m \u001b[0;34m=\u001b[0m \u001b[0mclassifier\u001b[0m\u001b[0;34m.\u001b[0m\u001b[0mpredict\u001b[0m\u001b[0;34m(\u001b[0m\u001b[0;36m16141\u001b[0m\u001b[0;34m)\u001b[0m\u001b[0;34m\u001b[0m\u001b[0;34m\u001b[0m\u001b[0m\n\u001b[0m",
      "\u001b[0;32m~/opt/anaconda3/lib/python3.7/site-packages/sklearn/linear_model/_base.py\u001b[0m in \u001b[0;36mpredict\u001b[0;34m(self, X)\u001b[0m\n\u001b[1;32m    223\u001b[0m             \u001b[0mReturns\u001b[0m \u001b[0mpredicted\u001b[0m \u001b[0mvalues\u001b[0m\u001b[0;34m.\u001b[0m\u001b[0;34m\u001b[0m\u001b[0;34m\u001b[0m\u001b[0m\n\u001b[1;32m    224\u001b[0m         \"\"\"\n\u001b[0;32m--> 225\u001b[0;31m         \u001b[0;32mreturn\u001b[0m \u001b[0mself\u001b[0m\u001b[0;34m.\u001b[0m\u001b[0m_decision_function\u001b[0m\u001b[0;34m(\u001b[0m\u001b[0mX\u001b[0m\u001b[0;34m)\u001b[0m\u001b[0;34m\u001b[0m\u001b[0;34m\u001b[0m\u001b[0m\n\u001b[0m\u001b[1;32m    226\u001b[0m \u001b[0;34m\u001b[0m\u001b[0m\n\u001b[1;32m    227\u001b[0m     \u001b[0m_preprocess_data\u001b[0m \u001b[0;34m=\u001b[0m \u001b[0mstaticmethod\u001b[0m\u001b[0;34m(\u001b[0m\u001b[0m_preprocess_data\u001b[0m\u001b[0;34m)\u001b[0m\u001b[0;34m\u001b[0m\u001b[0;34m\u001b[0m\u001b[0m\n",
      "\u001b[0;32m~/opt/anaconda3/lib/python3.7/site-packages/sklearn/linear_model/_base.py\u001b[0m in \u001b[0;36m_decision_function\u001b[0;34m(self, X)\u001b[0m\n\u001b[1;32m    205\u001b[0m         \u001b[0mcheck_is_fitted\u001b[0m\u001b[0;34m(\u001b[0m\u001b[0mself\u001b[0m\u001b[0;34m)\u001b[0m\u001b[0;34m\u001b[0m\u001b[0;34m\u001b[0m\u001b[0m\n\u001b[1;32m    206\u001b[0m \u001b[0;34m\u001b[0m\u001b[0m\n\u001b[0;32m--> 207\u001b[0;31m         \u001b[0mX\u001b[0m \u001b[0;34m=\u001b[0m \u001b[0mcheck_array\u001b[0m\u001b[0;34m(\u001b[0m\u001b[0mX\u001b[0m\u001b[0;34m,\u001b[0m \u001b[0maccept_sparse\u001b[0m\u001b[0;34m=\u001b[0m\u001b[0;34m[\u001b[0m\u001b[0;34m'csr'\u001b[0m\u001b[0;34m,\u001b[0m \u001b[0;34m'csc'\u001b[0m\u001b[0;34m,\u001b[0m \u001b[0;34m'coo'\u001b[0m\u001b[0;34m]\u001b[0m\u001b[0;34m)\u001b[0m\u001b[0;34m\u001b[0m\u001b[0;34m\u001b[0m\u001b[0m\n\u001b[0m\u001b[1;32m    208\u001b[0m         return safe_sparse_dot(X, self.coef_.T,\n\u001b[1;32m    209\u001b[0m                                dense_output=True) + self.intercept_\n",
      "\u001b[0;32m~/opt/anaconda3/lib/python3.7/site-packages/sklearn/utils/validation.py\u001b[0m in \u001b[0;36mcheck_array\u001b[0;34m(array, accept_sparse, accept_large_sparse, dtype, order, copy, force_all_finite, ensure_2d, allow_nd, ensure_min_samples, ensure_min_features, warn_on_dtype, estimator)\u001b[0m\n\u001b[1;32m    547\u001b[0m                     \u001b[0;34m\"Reshape your data either using array.reshape(-1, 1) if \"\u001b[0m\u001b[0;34m\u001b[0m\u001b[0;34m\u001b[0m\u001b[0m\n\u001b[1;32m    548\u001b[0m                     \u001b[0;34m\"your data has a single feature or array.reshape(1, -1) \"\u001b[0m\u001b[0;34m\u001b[0m\u001b[0;34m\u001b[0m\u001b[0m\n\u001b[0;32m--> 549\u001b[0;31m                     \"if it contains a single sample.\".format(array))\n\u001b[0m\u001b[1;32m    550\u001b[0m             \u001b[0;31m# If input is 1D raise error\u001b[0m\u001b[0;34m\u001b[0m\u001b[0;34m\u001b[0m\u001b[0;34m\u001b[0m\u001b[0m\n\u001b[1;32m    551\u001b[0m             \u001b[0;32mif\u001b[0m \u001b[0marray\u001b[0m\u001b[0;34m.\u001b[0m\u001b[0mndim\u001b[0m \u001b[0;34m==\u001b[0m \u001b[0;36m1\u001b[0m\u001b[0;34m:\u001b[0m\u001b[0;34m\u001b[0m\u001b[0;34m\u001b[0m\u001b[0m\n",
      "\u001b[0;31mValueError\u001b[0m: Expected 2D array, got scalar array instead:\narray=16141.\nReshape your data either using array.reshape(-1, 1) if your data has a single feature or array.reshape(1, -1) if it contains a single sample."
     ]
    }
   ],
   "source": [
    "y_pred = classifier.predict(16141)"
   ]
  },
  {
   "cell_type": "code",
   "execution_count": 72,
   "metadata": {},
   "outputs": [],
   "source": [
    "# View predictions along with their probabilities of being within each class \n",
    "##  this will be the difficult part of our project because data is not binary like example: male/female\n",
    "# probs = classifier.predict_proba(X_test)\n",
    "# pred_df = pd.DataFrame({\n",
    "#     \"Prediction\": predictions, \n",
    "#     \"Actual\": y_test, \n",
    "#     \"P(YES)\": [p[0] for p in probs], \n",
    "#     \"P(NO)\": [p[1] for p in probs]\n",
    "#     }).reset_index(drop=True)\n",
    "\n",
    "# pred_df.head(10)"
   ]
  },
  {
   "cell_type": "code",
   "execution_count": null,
   "metadata": {},
   "outputs": [],
   "source": []
  },
  {
   "cell_type": "code",
   "execution_count": 45,
   "metadata": {},
   "outputs": [
    {
     "data": {
      "text/plain": [
       "array([[  2, 121],\n",
       "       [ 22, 232]], dtype=int64)"
      ]
     },
     "execution_count": 45,
     "metadata": {},
     "output_type": "execute_result"
    }
   ],
   "source": [
    "# Model Evaluation\n",
    "# Create a Confusion Matrix\n",
    "from sklearn.metrics import confusion_matrix\n",
    "\n",
    "confusion_matrix(y_test,predictions)"
   ]
  },
  {
   "cell_type": "code",
   "execution_count": 46,
   "metadata": {},
   "outputs": [
    {
     "name": "stdout",
     "output_type": "stream",
     "text": [
      "True Neg: 2   False Pos: 121\n",
      "False Neg: 22  True Pos: 232\n"
     ]
    }
   ],
   "source": [
    "# Label the confusion Matrix\n",
    "tn, fp, fn, tp = confusion_matrix(y_test, predictions).ravel()\n",
    "print(f\"True Neg: {tn}   False Pos: {fp}\")\n",
    "print(f\"False Neg: {fn}  True Pos: {tp}\")"
   ]
  },
  {
   "cell_type": "code",
   "execution_count": 47,
   "metadata": {},
   "outputs": [
    {
     "data": {
      "text/plain": [
       "<sklearn.metrics._plot.confusion_matrix.ConfusionMatrixDisplay at 0x1af2033cd60>"
      ]
     },
     "execution_count": 47,
     "metadata": {},
     "output_type": "execute_result"
    },
    {
     "data": {
      "image/png": "[encoded data removed]",
      "text/plain": [
       "<Figure size 432x288 with 2 Axes>"
      ]
     },
     "metadata": {
      "needs_background": "light"
     },
     "output_type": "display_data"
    }
   ],
   "source": [
    "# Plot confusion matrix\n",
    "from sklearn.metrics import plot_confusion_matrix\n",
    "plot_confusion_matrix(classifier, X_test, y_test, cmap=\"Blues\")"
   ]
  },
  {
   "cell_type": "code",
   "execution_count": 48,
   "metadata": {},
   "outputs": [],
   "source": [
    "# Precision and Recall\n",
    "### we don't technically have a \"positive\" label, like we would if we were classifying emails as Spam, or patients as having cancer. \n",
    "## This means that we need to tell our precision and recall functions which class label we want to consider to be our \"positive\" class i.e. which lender\n",
    "from sklearn.metrics import precision_score, recall_score, f1_score"
   ]
  },
  {
   "cell_type": "code",
   "execution_count": 49,
   "metadata": {},
   "outputs": [
    {
     "data": {
      "text/plain": [
       "0.6572237960339944"
      ]
     },
     "execution_count": 49,
     "metadata": {},
     "output_type": "execute_result"
    }
   ],
   "source": [
    "## Random tests of lenders first test is YES, the lender with the most loans\n",
    "precision_score(y_test, predictions, pos_label=\"YES\")"
   ]
  },
  {
   "cell_type": "code",
   "execution_count": 50,
   "metadata": {},
   "outputs": [
    {
     "data": {
      "text/plain": [
       "0.08333333333333333"
      ]
     },
     "execution_count": 50,
     "metadata": {},
     "output_type": "execute_result"
    }
   ],
   "source": [
    "## Random tests of lenders second test is NO, random test of lender with lower loan count of 10 loans\n",
    "precision_score(y_test, predictions, pos_label=\"NO\")"
   ]
  },
  {
   "cell_type": "code",
   "execution_count": 51,
   "metadata": {},
   "outputs": [
    {
     "data": {
      "text/plain": [
       "0.7644151565074135"
      ]
     },
     "execution_count": 51,
     "metadata": {},
     "output_type": "execute_result"
    }
   ],
   "source": [
    "#  what is the harmonic mean of YES Texas from first test\n",
    "f1_score(y_test, predictions, pos_label=\"YES\")"
   ]
  },
  {
   "cell_type": "code",
   "execution_count": 52,
   "metadata": {},
   "outputs": [
    {
     "data": {
      "text/plain": [
       "0.027210884353741496"
      ]
     },
     "execution_count": 52,
     "metadata": {},
     "output_type": "execute_result"
    }
   ],
   "source": [
    "#  what is the harmonic mean of NO from second test\n",
    "f1_score(y_test, predictions, pos_label=\"NO\")"
   ]
  },
  {
   "cell_type": "code",
   "execution_count": null,
   "metadata": {},
   "outputs": [],
   "source": []
  }
 ],
 "metadata": {
  "kernelspec": {
   "display_name": "Python 3",
   "language": "python",
   "name": "python3"
  },
  "language_info": {
   "codemirror_mode": {
    "name": "ipython",
    "version": 3
   },
   "file_extension": ".py",
   "mimetype": "text/x-python",
   "name": "python",
   "nbconvert_exporter": "python",
   "pygments_lexer": "ipython3",
   "version": "3.7.6"
  }
 },
 "nbformat": 4,
 "nbformat_minor": 4
}
