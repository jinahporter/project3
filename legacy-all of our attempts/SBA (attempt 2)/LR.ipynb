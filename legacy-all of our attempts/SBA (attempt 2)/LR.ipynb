{
 "cells": [
  {
   "cell_type": "code",
   "execution_count": 1,
   "metadata": {},
   "outputs": [],
   "source": [
    "# Import libraries\n",
    "import matplotlib.pyplot as plt\n",
    "import pandas as pd\n",
    "import os\n",
    "from sklearn.linear_model import LogisticRegression\n",
    "from sklearn.model_selection import train_test_split\n",
    "import re\n",
    "import numpy as np\n",
    "import warnings\n",
    "warnings.filterwarnings(\"ignore\")"
   ]
  },
  {
   "cell_type": "code",
   "execution_count": 2,
   "metadata": {},
   "outputs": [
    {
     "name": "stdout",
     "output_type": "stream",
     "text": [
      "Shape of the data is: (2465, 15)\n"
     ]
    },
    {
     "data": {
      "text/html": [
       "<div>\n",
       "<style scoped>\n",
       "    .dataframe tbody tr th:only-of-type {\n",
       "        vertical-align: middle;\n",
       "    }\n",
       "\n",
       "    .dataframe tbody tr th {\n",
       "        vertical-align: top;\n",
       "    }\n",
       "\n",
       "    .dataframe thead th {\n",
       "        text-align: right;\n",
       "    }\n",
       "</style>\n",
       "<table border=\"1\" class=\"dataframe\">\n",
       "  <thead>\n",
       "    <tr style=\"text-align: right;\">\n",
       "      <th></th>\n",
       "      <th>SBA Physical Declaration Number</th>\n",
       "      <th>SBA EIDL Declaration Number</th>\n",
       "      <th>FEMA Disaster Number</th>\n",
       "      <th>SBA Disaster Number</th>\n",
       "      <th>Damaged Property City Name</th>\n",
       "      <th>Damaged Property Zip Code</th>\n",
       "      <th>Damaged Property County/Parish Name</th>\n",
       "      <th>Damaged Property State Code</th>\n",
       "      <th>Total Verified Loss</th>\n",
       "      <th>Verified Loss Real Estate</th>\n",
       "      <th>Verified Loss Content</th>\n",
       "      <th>Total Approved Loan Amount</th>\n",
       "      <th>Approved Amount Real Estate</th>\n",
       "      <th>Approved Amount Content</th>\n",
       "      <th>LoanApproved</th>\n",
       "    </tr>\n",
       "  </thead>\n",
       "  <tbody>\n",
       "    <tr>\n",
       "      <th>0</th>\n",
       "      <td>15742</td>\n",
       "      <td>15743</td>\n",
       "      <td>4399.0</td>\n",
       "      <td>FL-00140</td>\n",
       "      <td>ALFORD</td>\n",
       "      <td>32420</td>\n",
       "      <td>JACKSON</td>\n",
       "      <td>FL</td>\n",
       "      <td>3744250.0</td>\n",
       "      <td>3262237.0</td>\n",
       "      <td>482013.0</td>\n",
       "      <td>1944800.0</td>\n",
       "      <td>1668200.0</td>\n",
       "      <td>276600.0</td>\n",
       "      <td>YES</td>\n",
       "    </tr>\n",
       "    <tr>\n",
       "      <th>1</th>\n",
       "      <td>15742</td>\n",
       "      <td>15743</td>\n",
       "      <td>4399.0</td>\n",
       "      <td>FL-00140</td>\n",
       "      <td>ALFORD</td>\n",
       "      <td>32420</td>\n",
       "      <td>WASHINGTON</td>\n",
       "      <td>FL</td>\n",
       "      <td>178062.0</td>\n",
       "      <td>137332.0</td>\n",
       "      <td>40730.0</td>\n",
       "      <td>119100.0</td>\n",
       "      <td>94400.0</td>\n",
       "      <td>24700.0</td>\n",
       "      <td>YES</td>\n",
       "    </tr>\n",
       "    <tr>\n",
       "      <th>2</th>\n",
       "      <td>15742</td>\n",
       "      <td>15743</td>\n",
       "      <td>4399.0</td>\n",
       "      <td>FL-00140</td>\n",
       "      <td>ALLIGATOR POINT</td>\n",
       "      <td>32346</td>\n",
       "      <td>FRANKLIN</td>\n",
       "      <td>FL</td>\n",
       "      <td>513784.0</td>\n",
       "      <td>447859.0</td>\n",
       "      <td>65925.0</td>\n",
       "      <td>106600.0</td>\n",
       "      <td>93700.0</td>\n",
       "      <td>12900.0</td>\n",
       "      <td>YES</td>\n",
       "    </tr>\n",
       "    <tr>\n",
       "      <th>3</th>\n",
       "      <td>15742</td>\n",
       "      <td>15743</td>\n",
       "      <td>4399.0</td>\n",
       "      <td>FL-00140</td>\n",
       "      <td>ALTHA</td>\n",
       "      <td>32421</td>\n",
       "      <td>CALHOUN</td>\n",
       "      <td>FL</td>\n",
       "      <td>17594222.0</td>\n",
       "      <td>14952549.0</td>\n",
       "      <td>2641673.0</td>\n",
       "      <td>9947400.0</td>\n",
       "      <td>8478800.0</td>\n",
       "      <td>1468600.0</td>\n",
       "      <td>YES</td>\n",
       "    </tr>\n",
       "    <tr>\n",
       "      <th>4</th>\n",
       "      <td>15742</td>\n",
       "      <td>15743</td>\n",
       "      <td>4399.0</td>\n",
       "      <td>FL-00140</td>\n",
       "      <td>APALACHICOLA</td>\n",
       "      <td>32320</td>\n",
       "      <td>FRANKLIN</td>\n",
       "      <td>FL</td>\n",
       "      <td>1812552.0</td>\n",
       "      <td>1576667.0</td>\n",
       "      <td>235885.0</td>\n",
       "      <td>941900.0</td>\n",
       "      <td>835100.0</td>\n",
       "      <td>106800.0</td>\n",
       "      <td>YES</td>\n",
       "    </tr>\n",
       "  </tbody>\n",
       "</table>\n",
       "</div>"
      ],
      "text/plain": [
       "   SBA Physical Declaration Number  SBA EIDL Declaration Number  \\\n",
       "0                            15742                        15743   \n",
       "1                            15742                        15743   \n",
       "2                            15742                        15743   \n",
       "3                            15742                        15743   \n",
       "4                            15742                        15743   \n",
       "\n",
       "   FEMA Disaster Number SBA Disaster Number Damaged Property City Name  \\\n",
       "0                4399.0            FL-00140                     ALFORD   \n",
       "1                4399.0            FL-00140                     ALFORD   \n",
       "2                4399.0            FL-00140            ALLIGATOR POINT   \n",
       "3                4399.0            FL-00140                      ALTHA   \n",
       "4                4399.0            FL-00140               APALACHICOLA   \n",
       "\n",
       "   Damaged Property Zip Code Damaged Property County/Parish Name  \\\n",
       "0                      32420                             JACKSON   \n",
       "1                      32420                          WASHINGTON   \n",
       "2                      32346                            FRANKLIN   \n",
       "3                      32421                             CALHOUN   \n",
       "4                      32320                            FRANKLIN   \n",
       "\n",
       "  Damaged Property State Code  Total Verified Loss  Verified Loss Real Estate  \\\n",
       "0                          FL            3744250.0                  3262237.0   \n",
       "1                          FL             178062.0                   137332.0   \n",
       "2                          FL             513784.0                   447859.0   \n",
       "3                          FL           17594222.0                 14952549.0   \n",
       "4                          FL            1812552.0                  1576667.0   \n",
       "\n",
       "   Verified Loss Content  Total Approved Loan Amount  \\\n",
       "0               482013.0                   1944800.0   \n",
       "1                40730.0                    119100.0   \n",
       "2                65925.0                    106600.0   \n",
       "3              2641673.0                   9947400.0   \n",
       "4               235885.0                    941900.0   \n",
       "\n",
       "   Approved Amount Real Estate  Approved Amount Content LoanApproved  \n",
       "0                    1668200.0                 276600.0          YES  \n",
       "1                      94400.0                  24700.0          YES  \n",
       "2                      93700.0                  12900.0          YES  \n",
       "3                    8478800.0                1468600.0          YES  \n",
       "4                     835100.0                 106800.0          YES  "
      ]
     },
     "execution_count": 2,
     "metadata": {},
     "output_type": "execute_result"
    }
   ],
   "source": [
    "# load and view data\n",
    "data = pd.read_excel('SBALoanData.xlsx')\n",
    "print(f\"Shape of the data is: {data.shape}\")\n",
    "data.head()"
   ]
  },
  {
   "cell_type": "code",
   "execution_count": 3,
   "metadata": {},
   "outputs": [
    {
     "data": {
      "text/html": [
       "<div>\n",
       "<style scoped>\n",
       "    .dataframe tbody tr th:only-of-type {\n",
       "        vertical-align: middle;\n",
       "    }\n",
       "\n",
       "    .dataframe tbody tr th {\n",
       "        vertical-align: top;\n",
       "    }\n",
       "\n",
       "    .dataframe thead th {\n",
       "        text-align: right;\n",
       "    }\n",
       "</style>\n",
       "<table border=\"1\" class=\"dataframe\">\n",
       "  <thead>\n",
       "    <tr style=\"text-align: right;\">\n",
       "      <th></th>\n",
       "      <th>SBA Physical Declaration Number</th>\n",
       "      <th>SBA EIDL Declaration Number</th>\n",
       "      <th>FEMA Disaster Number</th>\n",
       "      <th>SBA Disaster Number</th>\n",
       "      <th>Damaged Property City Name</th>\n",
       "      <th>Damaged Property Zip Code</th>\n",
       "      <th>Damaged Property County/Parish Name</th>\n",
       "      <th>Damaged Property State Code</th>\n",
       "      <th>Total Verified Loss</th>\n",
       "      <th>Verified Loss Real Estate</th>\n",
       "      <th>Verified Loss Content</th>\n",
       "      <th>Total Approved Loan Amount</th>\n",
       "      <th>Approved Amount Real Estate</th>\n",
       "      <th>Approved Amount Content</th>\n",
       "      <th>LoanApproved</th>\n",
       "    </tr>\n",
       "  </thead>\n",
       "  <tbody>\n",
       "    <tr>\n",
       "      <th>272</th>\n",
       "      <td>15800</td>\n",
       "      <td>15801</td>\n",
       "      <td>NaN</td>\n",
       "      <td>HI-00051</td>\n",
       "      <td>HILO</td>\n",
       "      <td>96720</td>\n",
       "      <td>HAWAII</td>\n",
       "      <td>HI</td>\n",
       "      <td>168410.0</td>\n",
       "      <td>98810.00</td>\n",
       "      <td>69600.0</td>\n",
       "      <td>125800.0</td>\n",
       "      <td>85800.0</td>\n",
       "      <td>40000.0</td>\n",
       "      <td>YES</td>\n",
       "    </tr>\n",
       "    <tr>\n",
       "      <th>273</th>\n",
       "      <td>15800</td>\n",
       "      <td>15801</td>\n",
       "      <td>NaN</td>\n",
       "      <td>HI-00051</td>\n",
       "      <td>HILO</td>\n",
       "      <td>96721</td>\n",
       "      <td>HAWAII</td>\n",
       "      <td>HI</td>\n",
       "      <td>1.0</td>\n",
       "      <td>1.00</td>\n",
       "      <td>0.0</td>\n",
       "      <td>0.0</td>\n",
       "      <td>0.0</td>\n",
       "      <td>0.0</td>\n",
       "      <td>NO</td>\n",
       "    </tr>\n",
       "    <tr>\n",
       "      <th>274</th>\n",
       "      <td>15800</td>\n",
       "      <td>15801</td>\n",
       "      <td>NaN</td>\n",
       "      <td>HI-00051</td>\n",
       "      <td>KEAAU</td>\n",
       "      <td>96749</td>\n",
       "      <td>HAWAII</td>\n",
       "      <td>HI</td>\n",
       "      <td>494271.0</td>\n",
       "      <td>335071.00</td>\n",
       "      <td>159200.0</td>\n",
       "      <td>415300.0</td>\n",
       "      <td>335300.0</td>\n",
       "      <td>80000.0</td>\n",
       "      <td>YES</td>\n",
       "    </tr>\n",
       "    <tr>\n",
       "      <th>275</th>\n",
       "      <td>15800</td>\n",
       "      <td>15801</td>\n",
       "      <td>NaN</td>\n",
       "      <td>HI-00051</td>\n",
       "      <td>KURTISTOWN</td>\n",
       "      <td>96760</td>\n",
       "      <td>HAWAII</td>\n",
       "      <td>HI</td>\n",
       "      <td>10892.0</td>\n",
       "      <td>10892.00</td>\n",
       "      <td>0.0</td>\n",
       "      <td>10900.0</td>\n",
       "      <td>10900.0</td>\n",
       "      <td>0.0</td>\n",
       "      <td>YES</td>\n",
       "    </tr>\n",
       "    <tr>\n",
       "      <th>276</th>\n",
       "      <td>15800</td>\n",
       "      <td>15801</td>\n",
       "      <td>NaN</td>\n",
       "      <td>HI-00051</td>\n",
       "      <td>LAHAINA</td>\n",
       "      <td>96761</td>\n",
       "      <td>MAUI</td>\n",
       "      <td>HI</td>\n",
       "      <td>2356258.0</td>\n",
       "      <td>1972658.00</td>\n",
       "      <td>383600.0</td>\n",
       "      <td>40000.0</td>\n",
       "      <td>0.0</td>\n",
       "      <td>40000.0</td>\n",
       "      <td>YES</td>\n",
       "    </tr>\n",
       "    <tr>\n",
       "      <th>...</th>\n",
       "      <td>...</td>\n",
       "      <td>...</td>\n",
       "      <td>...</td>\n",
       "      <td>...</td>\n",
       "      <td>...</td>\n",
       "      <td>...</td>\n",
       "      <td>...</td>\n",
       "      <td>...</td>\n",
       "      <td>...</td>\n",
       "      <td>...</td>\n",
       "      <td>...</td>\n",
       "      <td>...</td>\n",
       "      <td>...</td>\n",
       "      <td>...</td>\n",
       "      <td>...</td>\n",
       "    </tr>\n",
       "    <tr>\n",
       "      <th>2460</th>\n",
       "      <td>16141</td>\n",
       "      <td>16142</td>\n",
       "      <td>NaN</td>\n",
       "      <td>IL-00056</td>\n",
       "      <td>UNIVERSITY PARK</td>\n",
       "      <td>60484</td>\n",
       "      <td>Will</td>\n",
       "      <td>IL</td>\n",
       "      <td>NaN</td>\n",
       "      <td>21729.00</td>\n",
       "      <td>18075.0</td>\n",
       "      <td>0.0</td>\n",
       "      <td>0.0</td>\n",
       "      <td>0.0</td>\n",
       "      <td>NO</td>\n",
       "    </tr>\n",
       "    <tr>\n",
       "      <th>2461</th>\n",
       "      <td>16141</td>\n",
       "      <td>16142</td>\n",
       "      <td>NaN</td>\n",
       "      <td>IL-00056</td>\n",
       "      <td>AURORA</td>\n",
       "      <td>60506</td>\n",
       "      <td>Will</td>\n",
       "      <td>IL</td>\n",
       "      <td>NaN</td>\n",
       "      <td>NaN</td>\n",
       "      <td>NaN</td>\n",
       "      <td>0.0</td>\n",
       "      <td>NaN</td>\n",
       "      <td>NaN</td>\n",
       "      <td>NO</td>\n",
       "    </tr>\n",
       "    <tr>\n",
       "      <th>2462</th>\n",
       "      <td>16141</td>\n",
       "      <td>16142</td>\n",
       "      <td>NaN</td>\n",
       "      <td>IL-00056</td>\n",
       "      <td>CHICAGO</td>\n",
       "      <td>60621</td>\n",
       "      <td>Cook</td>\n",
       "      <td>IL</td>\n",
       "      <td>NaN</td>\n",
       "      <td>0.00</td>\n",
       "      <td>4565.0</td>\n",
       "      <td>0.0</td>\n",
       "      <td>0.0</td>\n",
       "      <td>0.0</td>\n",
       "      <td>NO</td>\n",
       "    </tr>\n",
       "    <tr>\n",
       "      <th>2463</th>\n",
       "      <td>16141</td>\n",
       "      <td>16142</td>\n",
       "      <td>NaN</td>\n",
       "      <td>IL-00056</td>\n",
       "      <td>CHICAGO</td>\n",
       "      <td>60628</td>\n",
       "      <td>Cook</td>\n",
       "      <td>IL</td>\n",
       "      <td>NaN</td>\n",
       "      <td>37469.66</td>\n",
       "      <td>7300.0</td>\n",
       "      <td>44800.0</td>\n",
       "      <td>37500.0</td>\n",
       "      <td>7300.0</td>\n",
       "      <td>YES</td>\n",
       "    </tr>\n",
       "    <tr>\n",
       "      <th>2464</th>\n",
       "      <td>16141</td>\n",
       "      <td>16142</td>\n",
       "      <td>NaN</td>\n",
       "      <td>IL-00056</td>\n",
       "      <td>CHICAGO</td>\n",
       "      <td>60634</td>\n",
       "      <td>Cook</td>\n",
       "      <td>IL</td>\n",
       "      <td>NaN</td>\n",
       "      <td>31716.93</td>\n",
       "      <td>5500.0</td>\n",
       "      <td>0.0</td>\n",
       "      <td>0.0</td>\n",
       "      <td>0.0</td>\n",
       "      <td>NO</td>\n",
       "    </tr>\n",
       "  </tbody>\n",
       "</table>\n",
       "<p>2193 rows × 15 columns</p>\n",
       "</div>"
      ],
      "text/plain": [
       "      SBA Physical Declaration Number  SBA EIDL Declaration Number  \\\n",
       "272                             15800                        15801   \n",
       "273                             15800                        15801   \n",
       "274                             15800                        15801   \n",
       "275                             15800                        15801   \n",
       "276                             15800                        15801   \n",
       "...                               ...                          ...   \n",
       "2460                            16141                        16142   \n",
       "2461                            16141                        16142   \n",
       "2462                            16141                        16142   \n",
       "2463                            16141                        16142   \n",
       "2464                            16141                        16142   \n",
       "\n",
       "      FEMA Disaster Number SBA Disaster Number Damaged Property City Name  \\\n",
       "272                    NaN            HI-00051                       HILO   \n",
       "273                    NaN            HI-00051                       HILO   \n",
       "274                    NaN            HI-00051                      KEAAU   \n",
       "275                    NaN            HI-00051                 KURTISTOWN   \n",
       "276                    NaN            HI-00051                    LAHAINA   \n",
       "...                    ...                 ...                        ...   \n",
       "2460                   NaN            IL-00056            UNIVERSITY PARK   \n",
       "2461                   NaN            IL-00056                     AURORA   \n",
       "2462                   NaN            IL-00056                    CHICAGO   \n",
       "2463                   NaN            IL-00056                    CHICAGO   \n",
       "2464                   NaN            IL-00056                    CHICAGO   \n",
       "\n",
       "      Damaged Property Zip Code Damaged Property County/Parish Name  \\\n",
       "272                       96720                              HAWAII   \n",
       "273                       96721                              HAWAII   \n",
       "274                       96749                              HAWAII   \n",
       "275                       96760                              HAWAII   \n",
       "276                       96761                                MAUI   \n",
       "...                         ...                                 ...   \n",
       "2460                      60484                                Will   \n",
       "2461                      60506                                Will   \n",
       "2462                      60621                                Cook   \n",
       "2463                      60628                                Cook   \n",
       "2464                      60634                                Cook   \n",
       "\n",
       "     Damaged Property State Code  Total Verified Loss  \\\n",
       "272                           HI             168410.0   \n",
       "273                           HI                  1.0   \n",
       "274                           HI             494271.0   \n",
       "275                           HI              10892.0   \n",
       "276                           HI            2356258.0   \n",
       "...                          ...                  ...   \n",
       "2460                          IL                  NaN   \n",
       "2461                          IL                  NaN   \n",
       "2462                          IL                  NaN   \n",
       "2463                          IL                  NaN   \n",
       "2464                          IL                  NaN   \n",
       "\n",
       "      Verified Loss Real Estate  Verified Loss Content  \\\n",
       "272                    98810.00                69600.0   \n",
       "273                        1.00                    0.0   \n",
       "274                   335071.00               159200.0   \n",
       "275                    10892.00                    0.0   \n",
       "276                  1972658.00               383600.0   \n",
       "...                         ...                    ...   \n",
       "2460                   21729.00                18075.0   \n",
       "2461                        NaN                    NaN   \n",
       "2462                       0.00                 4565.0   \n",
       "2463                   37469.66                 7300.0   \n",
       "2464                   31716.93                 5500.0   \n",
       "\n",
       "      Total Approved Loan Amount  Approved Amount Real Estate  \\\n",
       "272                     125800.0                      85800.0   \n",
       "273                          0.0                          0.0   \n",
       "274                     415300.0                     335300.0   \n",
       "275                      10900.0                      10900.0   \n",
       "276                      40000.0                          0.0   \n",
       "...                          ...                          ...   \n",
       "2460                         0.0                          0.0   \n",
       "2461                         0.0                          NaN   \n",
       "2462                         0.0                          0.0   \n",
       "2463                     44800.0                      37500.0   \n",
       "2464                         0.0                          0.0   \n",
       "\n",
       "      Approved Amount Content LoanApproved  \n",
       "272                   40000.0          YES  \n",
       "273                       0.0           NO  \n",
       "274                   80000.0          YES  \n",
       "275                       0.0          YES  \n",
       "276                   40000.0          YES  \n",
       "...                       ...          ...  \n",
       "2460                      0.0           NO  \n",
       "2461                      NaN           NO  \n",
       "2462                      0.0           NO  \n",
       "2463                   7300.0          YES  \n",
       "2464                      0.0           NO  \n",
       "\n",
       "[2193 rows x 15 columns]"
      ]
     },
     "execution_count": 3,
     "metadata": {},
     "output_type": "execute_result"
    }
   ],
   "source": [
    "# investigate rows with null values\n",
    "data[data.isnull().any(axis=1)]"
   ]
  },
  {
   "cell_type": "code",
   "execution_count": 4,
   "metadata": {},
   "outputs": [],
   "source": [
    "# only take rows of businesses that FEMA Disaster Number is not null\n",
    "\n",
    "data_fema_na = data[data['FEMA Disaster Number'].notna()]"
   ]
  },
  {
   "cell_type": "code",
   "execution_count": 5,
   "metadata": {},
   "outputs": [
    {
     "data": {
      "text/plain": [
       "SBA Physical Declaration Number      int64\n",
       "SBA EIDL Declaration Number          int64\n",
       "FEMA Disaster Number               float64\n",
       "Damaged Property Zip Code            int64\n",
       "LoanApproved                        object\n",
       "dtype: object"
      ]
     },
     "execution_count": 5,
     "metadata": {},
     "output_type": "execute_result"
    }
   ],
   "source": [
    "# drop lenders with loans of 5 or more\n",
    "counts = data_fema_na['LoanApproved'].value_counts()\n",
    "\n",
    "# drop categorical columns\n",
    "data_clean = data_fema_na.drop(columns=['Total Verified Loss', 'Verified Loss Real Estate', 'Verified Loss Content',\n",
    "                                'Total Approved Loan Amount', 'Approved Amount Real Estate', 'Approved Amount Content',\n",
    "                                'SBA Disaster Number', 'Damaged Property City Name', 'Damaged Property County/Parish Name',\n",
    "                                'Damaged Property State Code'], axis=1)\n",
    "\n",
    "# loan_data = pd.get_dummies(data, columns=[\"BusinessType\"])\n",
    "\n",
    "data_clean.head()\n",
    "data_clean.dtypes"
   ]
  },
  {
   "cell_type": "code",
   "execution_count": 6,
   "metadata": {},
   "outputs": [
    {
     "name": "stdout",
     "output_type": "stream",
     "text": [
      "(1505, 4) (1505,)\n"
     ]
    }
   ],
   "source": [
    "# Assign X (data) and y(target)\n",
    "X = data_clean.drop(\"LoanApproved\", axis=1)\n",
    "y = data_clean[\"LoanApproved\"]\n",
    "print(X.shape, y.shape)"
   ]
  },
  {
   "cell_type": "code",
   "execution_count": 7,
   "metadata": {},
   "outputs": [],
   "source": [
    "# Split our data into training and testing\n",
    "X_train, X_test, y_train, y_test = train_test_split(X, y, random_state=1, stratify=y)"
   ]
  },
  {
   "cell_type": "code",
   "execution_count": 8,
   "metadata": {},
   "outputs": [
    {
     "data": {
      "text/plain": [
       "LogisticRegression()"
      ]
     },
     "execution_count": 8,
     "metadata": {},
     "output_type": "execute_result"
    }
   ],
   "source": [
    "# Create a logistic Regression Model\n",
    "classifier = LogisticRegression()\n",
    "classifier"
   ]
  },
  {
   "cell_type": "code",
   "execution_count": 9,
   "metadata": {},
   "outputs": [
    {
     "data": {
      "text/plain": [
       "LogisticRegression()"
      ]
     },
     "execution_count": 9,
     "metadata": {},
     "output_type": "execute_result"
    }
   ],
   "source": [
    "# Fit model using the training data\n",
    "classifier.fit(X_train, y_train)"
   ]
  },
  {
   "cell_type": "code",
   "execution_count": 10,
   "metadata": {},
   "outputs": [
    {
     "name": "stdout",
     "output_type": "stream",
     "text": [
      "Training Data Score: 0.6595744680851063\n",
      "Testing Data Score: 0.6206896551724138\n"
     ]
    }
   ],
   "source": [
    "# evaluate the model's performance using the test data\n",
    "print(f\"Training Data Score: {classifier.score(X_train, y_train)}\")\n",
    "print(f\"Testing Data Score: {classifier.score(X_test, y_test)}\")"
   ]
  },
  {
   "cell_type": "code",
   "execution_count": 43,
   "metadata": {},
   "outputs": [
    {
     "name": "stdout",
     "output_type": "stream",
     "text": [
      "First 10 Predictions:   ['YES' 'YES' 'YES' 'YES' 'YES' 'YES' 'YES' 'YES' 'YES' 'YES']\n",
      "First 10 Actual labels: ['YES', 'NO', 'YES', 'YES', 'YES', 'NO', 'YES', 'NO', 'YES', 'NO']\n"
     ]
    }
   ],
   "source": [
    "# Make predictions\n",
    "predictions = classifier.predict(X_test)\n",
    "print(f\"First 10 Predictions:   {predictions[:10]}\")\n",
    "print(f\"First 10 Actual labels: {y_test[:10].tolist()}\")"
   ]
  },
  {
   "cell_type": "code",
   "execution_count": 44,
   "metadata": {},
   "outputs": [
    {
     "data": {
      "text/html": [
       "<div>\n",
       "<style scoped>\n",
       "    .dataframe tbody tr th:only-of-type {\n",
       "        vertical-align: middle;\n",
       "    }\n",
       "\n",
       "    .dataframe tbody tr th {\n",
       "        vertical-align: top;\n",
       "    }\n",
       "\n",
       "    .dataframe thead th {\n",
       "        text-align: right;\n",
       "    }\n",
       "</style>\n",
       "<table border=\"1\" class=\"dataframe\">\n",
       "  <thead>\n",
       "    <tr style=\"text-align: right;\">\n",
       "      <th></th>\n",
       "      <th>Prediction</th>\n",
       "      <th>Actual</th>\n",
       "      <th>P(YES)</th>\n",
       "      <th>P(MALE)</th>\n",
       "    </tr>\n",
       "  </thead>\n",
       "  <tbody>\n",
       "    <tr>\n",
       "      <th>0</th>\n",
       "      <td>YES</td>\n",
       "      <td>YES</td>\n",
       "      <td>0.175492</td>\n",
       "      <td>0.824508</td>\n",
       "    </tr>\n",
       "    <tr>\n",
       "      <th>1</th>\n",
       "      <td>YES</td>\n",
       "      <td>NO</td>\n",
       "      <td>0.377692</td>\n",
       "      <td>0.622308</td>\n",
       "    </tr>\n",
       "    <tr>\n",
       "      <th>2</th>\n",
       "      <td>YES</td>\n",
       "      <td>YES</td>\n",
       "      <td>0.293981</td>\n",
       "      <td>0.706019</td>\n",
       "    </tr>\n",
       "    <tr>\n",
       "      <th>3</th>\n",
       "      <td>YES</td>\n",
       "      <td>YES</td>\n",
       "      <td>0.376663</td>\n",
       "      <td>0.623337</td>\n",
       "    </tr>\n",
       "    <tr>\n",
       "      <th>4</th>\n",
       "      <td>YES</td>\n",
       "      <td>YES</td>\n",
       "      <td>0.178041</td>\n",
       "      <td>0.821959</td>\n",
       "    </tr>\n",
       "    <tr>\n",
       "      <th>5</th>\n",
       "      <td>YES</td>\n",
       "      <td>NO</td>\n",
       "      <td>0.328790</td>\n",
       "      <td>0.671210</td>\n",
       "    </tr>\n",
       "    <tr>\n",
       "      <th>6</th>\n",
       "      <td>YES</td>\n",
       "      <td>YES</td>\n",
       "      <td>0.323602</td>\n",
       "      <td>0.676398</td>\n",
       "    </tr>\n",
       "    <tr>\n",
       "      <th>7</th>\n",
       "      <td>YES</td>\n",
       "      <td>NO</td>\n",
       "      <td>0.343681</td>\n",
       "      <td>0.656319</td>\n",
       "    </tr>\n",
       "    <tr>\n",
       "      <th>8</th>\n",
       "      <td>YES</td>\n",
       "      <td>YES</td>\n",
       "      <td>0.206153</td>\n",
       "      <td>0.793847</td>\n",
       "    </tr>\n",
       "    <tr>\n",
       "      <th>9</th>\n",
       "      <td>YES</td>\n",
       "      <td>NO</td>\n",
       "      <td>0.262942</td>\n",
       "      <td>0.737058</td>\n",
       "    </tr>\n",
       "  </tbody>\n",
       "</table>\n",
       "</div>"
      ],
      "text/plain": [
       "  Prediction Actual    P(YES)   P(MALE)\n",
       "0        YES    YES  0.175492  0.824508\n",
       "1        YES     NO  0.377692  0.622308\n",
       "2        YES    YES  0.293981  0.706019\n",
       "3        YES    YES  0.376663  0.623337\n",
       "4        YES    YES  0.178041  0.821959\n",
       "5        YES     NO  0.328790  0.671210\n",
       "6        YES    YES  0.323602  0.676398\n",
       "7        YES     NO  0.343681  0.656319\n",
       "8        YES    YES  0.206153  0.793847\n",
       "9        YES     NO  0.262942  0.737058"
      ]
     },
     "execution_count": 44,
     "metadata": {},
     "output_type": "execute_result"
    }
   ],
   "source": [
    "# View predictions along with their probabilities of being within each class \n",
    "##  this will be the difficult part of our project because data is not binary like example: male/female\n",
    "probs = classifier.predict_proba(X_test)\n",
    "pred_df = pd.DataFrame({\n",
    "    \"Prediction\": predictions, \n",
    "    \"Actual\": y_test, \n",
    "    \"P(YES)\": [p[0] for p in probs], \n",
    "    \"P(NO)\": [p[1] for p in probs]\n",
    "    }).reset_index(drop=True)\n",
    "\n",
    "pred_df.head(10)"
   ]
  },
  {
   "cell_type": "code",
   "execution_count": 45,
   "metadata": {},
   "outputs": [
    {
     "data": {
      "text/plain": [
       "array([[  2, 121],\n",
       "       [ 22, 232]], dtype=int64)"
      ]
     },
     "execution_count": 45,
     "metadata": {},
     "output_type": "execute_result"
    }
   ],
   "source": [
    "# Model Evaluation\n",
    "# Create a Confusion Matrix\n",
    "from sklearn.metrics import confusion_matrix\n",
    "\n",
    "confusion_matrix(y_test,predictions)"
   ]
  },
  {
   "cell_type": "code",
   "execution_count": 46,
   "metadata": {},
   "outputs": [
    {
     "name": "stdout",
     "output_type": "stream",
     "text": [
      "True Neg: 2   False Pos: 121\n",
      "False Neg: 22  True Pos: 232\n"
     ]
    }
   ],
   "source": [
    "# Label the confusion Matrix\n",
    "tn, fp, fn, tp = confusion_matrix(y_test, predictions).ravel()\n",
    "print(f\"True Neg: {tn}   False Pos: {fp}\")\n",
    "print(f\"False Neg: {fn}  True Pos: {tp}\")"
   ]
  },
  {
   "cell_type": "code",
   "execution_count": 47,
   "metadata": {},
   "outputs": [
    {
     "data": {
      "text/plain": [
       "<sklearn.metrics._plot.confusion_matrix.ConfusionMatrixDisplay at 0x1af2033cd60>"
      ]
     },
     "execution_count": 47,
     "metadata": {},
     "output_type": "execute_result"
    },
    {
     "data": {
      "image/png": "[encoded data removed]",
      "text/plain": [
       "<Figure size 432x288 with 2 Axes>"
      ]
     },
     "metadata": {
      "needs_background": "light"
     },
     "output_type": "display_data"
    }
   ],
   "source": [
    "# Plot confusion matrix\n",
    "from sklearn.metrics import plot_confusion_matrix\n",
    "plot_confusion_matrix(classifier, X_test, y_test, cmap=\"Blues\")"
   ]
  },
  {
   "cell_type": "code",
   "execution_count": 48,
   "metadata": {},
   "outputs": [],
   "source": [
    "# Precision and Recall\n",
    "### we don't technically have a \"positive\" label, like we would if we were classifying emails as Spam, or patients as having cancer. \n",
    "## This means that we need to tell our precision and recall functions which class label we want to consider to be our \"positive\" class i.e. which lender\n",
    "from sklearn.metrics import precision_score, recall_score, f1_score"
   ]
  },
  {
   "cell_type": "code",
   "execution_count": 49,
   "metadata": {},
   "outputs": [
    {
     "data": {
      "text/plain": [
       "0.6572237960339944"
      ]
     },
     "execution_count": 49,
     "metadata": {},
     "output_type": "execute_result"
    }
   ],
   "source": [
    "## Random tests of lenders first test is YES, the lender with the most loans\n",
    "precision_score(y_test, predictions, pos_label=\"YES\")"
   ]
  },
  {
   "cell_type": "code",
   "execution_count": 50,
   "metadata": {},
   "outputs": [
    {
     "data": {
      "text/plain": [
       "0.08333333333333333"
      ]
     },
     "execution_count": 50,
     "metadata": {},
     "output_type": "execute_result"
    }
   ],
   "source": [
    "## Random tests of lenders second test is NO, random test of lender with lower loan count of 10 loans\n",
    "precision_score(y_test, predictions, pos_label=\"NO\")"
   ]
  },
  {
   "cell_type": "code",
   "execution_count": 51,
   "metadata": {},
   "outputs": [
    {
     "data": {
      "text/plain": [
       "0.7644151565074135"
      ]
     },
     "execution_count": 51,
     "metadata": {},
     "output_type": "execute_result"
    }
   ],
   "source": [
    "#  what is the harmonic mean of YES Texas from first test\n",
    "f1_score(y_test, predictions, pos_label=\"YES\")"
   ]
  },
  {
   "cell_type": "code",
   "execution_count": 52,
   "metadata": {},
   "outputs": [
    {
     "data": {
      "text/plain": [
       "0.027210884353741496"
      ]
     },
     "execution_count": 52,
     "metadata": {},
     "output_type": "execute_result"
    }
   ],
   "source": [
    "#  what is the harmonic mean of NO from second test\n",
    "f1_score(y_test, predictions, pos_label=\"NO\")"
   ]
  },
  {
   "cell_type": "code",
   "execution_count": null,
   "metadata": {},
   "outputs": [],
   "source": []
  }
 ],
 "metadata": {
  "kernelspec": {
   "display_name": "Python 3",
   "language": "python",
   "name": "python3"
  },
  "language_info": {
   "codemirror_mode": {
    "name": "ipython",
    "version": 3
   },
   "file_extension": ".py",
   "mimetype": "text/x-python",
   "name": "python",
   "nbconvert_exporter": "python",
   "pygments_lexer": "ipython3",
   "version": "3.8.3"
  }
 },
 "nbformat": 4,
 "nbformat_minor": 4
}
