{
 "cells": [
  {
   "cell_type": "code",
   "execution_count": 1,
   "metadata": {},
   "outputs": [],
   "source": [
    "# Import libraries\n",
    "import matplotlib.pyplot as plt\n",
    "import pandas as pd\n",
    "import os\n",
    "from sklearn.linear_model import LogisticRegression\n",
    "from sklearn.model_selection import train_test_split\n",
    "import re\n",
    "import numpy as np\n",
    "import warnings\n",
    "warnings.filterwarnings(\"ignore\")"
   ]
  },
  {
   "cell_type": "code",
   "execution_count": 2,
   "metadata": {},
   "outputs": [
    {
     "name": "stdout",
     "output_type": "stream",
     "text": [
      "Shape of the data is: (103, 10)\n"
     ]
    },
    {
     "data": {
      "text/html": [
       "<div>\n",
       "<style scoped>\n",
       "    .dataframe tbody tr th:only-of-type {\n",
       "        vertical-align: middle;\n",
       "    }\n",
       "\n",
       "    .dataframe tbody tr th {\n",
       "        vertical-align: top;\n",
       "    }\n",
       "\n",
       "    .dataframe thead th {\n",
       "        text-align: right;\n",
       "    }\n",
       "</style>\n",
       "<table border=\"1\" class=\"dataframe\">\n",
       "  <thead>\n",
       "    <tr style=\"text-align: right;\">\n",
       "      <th></th>\n",
       "      <th>LoanAmount</th>\n",
       "      <th>City</th>\n",
       "      <th>State</th>\n",
       "      <th>Zip</th>\n",
       "      <th>NAICSCode</th>\n",
       "      <th>BusinessType</th>\n",
       "      <th>DateApproved</th>\n",
       "      <th>Lender</th>\n",
       "      <th>CD</th>\n",
       "      <th>LoanRange</th>\n",
       "    </tr>\n",
       "  </thead>\n",
       "  <tbody>\n",
       "    <tr>\n",
       "      <th>0</th>\n",
       "      <td>18700</td>\n",
       "      <td>PONDER</td>\n",
       "      <td>TX</td>\n",
       "      <td>76259</td>\n",
       "      <td>111219</td>\n",
       "      <td>Corporation</td>\n",
       "      <td>4/13/2020</td>\n",
       "      <td>AccessBank Texas</td>\n",
       "      <td>TX-26</td>\n",
       "      <td>1</td>\n",
       "    </tr>\n",
       "    <tr>\n",
       "      <th>1</th>\n",
       "      <td>6400</td>\n",
       "      <td>FLOWER MOUND</td>\n",
       "      <td>TX</td>\n",
       "      <td>75028</td>\n",
       "      <td>115310</td>\n",
       "      <td>Corporation</td>\n",
       "      <td>8/7/2020</td>\n",
       "      <td>AccessBank Texas</td>\n",
       "      <td>TX-26</td>\n",
       "      <td>1</td>\n",
       "    </tr>\n",
       "    <tr>\n",
       "      <th>2</th>\n",
       "      <td>20800</td>\n",
       "      <td>KRUM</td>\n",
       "      <td>TX</td>\n",
       "      <td>76249</td>\n",
       "      <td>211130</td>\n",
       "      <td>Corporation</td>\n",
       "      <td>4/14/2020</td>\n",
       "      <td>AccessBank Texas</td>\n",
       "      <td>TX-26</td>\n",
       "      <td>1</td>\n",
       "    </tr>\n",
       "    <tr>\n",
       "      <th>3</th>\n",
       "      <td>3800</td>\n",
       "      <td>KRUM</td>\n",
       "      <td>TX</td>\n",
       "      <td>76249</td>\n",
       "      <td>212321</td>\n",
       "      <td>Sole Proprietorship</td>\n",
       "      <td>4/15/2020</td>\n",
       "      <td>AccessBank Texas</td>\n",
       "      <td>TX-26</td>\n",
       "      <td>1</td>\n",
       "    </tr>\n",
       "    <tr>\n",
       "      <th>4</th>\n",
       "      <td>53300</td>\n",
       "      <td>ARGYLE</td>\n",
       "      <td>TX</td>\n",
       "      <td>76226</td>\n",
       "      <td>221310</td>\n",
       "      <td>Self-Employed Individuals</td>\n",
       "      <td>4/14/2020</td>\n",
       "      <td>AccessBank Texas</td>\n",
       "      <td>TX-26</td>\n",
       "      <td>3</td>\n",
       "    </tr>\n",
       "  </tbody>\n",
       "</table>\n",
       "</div>"
      ],
      "text/plain": [
       "   LoanAmount          City State    Zip  NAICSCode  \\\n",
       "0       18700        PONDER    TX  76259     111219   \n",
       "1        6400  FLOWER MOUND    TX  75028     115310   \n",
       "2       20800          KRUM    TX  76249     211130   \n",
       "3        3800          KRUM    TX  76249     212321   \n",
       "4       53300        ARGYLE    TX  76226     221310   \n",
       "\n",
       "                BusinessType DateApproved            Lender     CD  LoanRange  \n",
       "0                Corporation    4/13/2020  AccessBank Texas  TX-26          1  \n",
       "1                Corporation     8/7/2020  AccessBank Texas  TX-26          1  \n",
       "2                Corporation    4/14/2020  AccessBank Texas  TX-26          1  \n",
       "3        Sole Proprietorship    4/15/2020  AccessBank Texas  TX-26          1  \n",
       "4  Self-Employed Individuals    4/14/2020  AccessBank Texas  TX-26          3  "
      ]
     },
     "execution_count": 2,
     "metadata": {},
     "output_type": "execute_result"
    }
   ],
   "source": [
    "# load and view data\n",
    "data = pd.read_csv('ppp sample.csv')\n",
    "print(f\"Shape of the data is: {data.shape}\")\n",
    "data.head()"
   ]
  },
  {
   "cell_type": "code",
   "execution_count": 3,
   "metadata": {},
   "outputs": [
    {
     "data": {
      "text/html": [
       "<div>\n",
       "<style scoped>\n",
       "    .dataframe tbody tr th:only-of-type {\n",
       "        vertical-align: middle;\n",
       "    }\n",
       "\n",
       "    .dataframe tbody tr th {\n",
       "        vertical-align: top;\n",
       "    }\n",
       "\n",
       "    .dataframe thead th {\n",
       "        text-align: right;\n",
       "    }\n",
       "</style>\n",
       "<table border=\"1\" class=\"dataframe\">\n",
       "  <thead>\n",
       "    <tr style=\"text-align: right;\">\n",
       "      <th></th>\n",
       "      <th>LoanAmount</th>\n",
       "      <th>City</th>\n",
       "      <th>State</th>\n",
       "      <th>Zip</th>\n",
       "      <th>NAICSCode</th>\n",
       "      <th>BusinessType</th>\n",
       "      <th>DateApproved</th>\n",
       "      <th>Lender</th>\n",
       "      <th>CD</th>\n",
       "      <th>LoanRange</th>\n",
       "    </tr>\n",
       "  </thead>\n",
       "  <tbody>\n",
       "  </tbody>\n",
       "</table>\n",
       "</div>"
      ],
      "text/plain": [
       "Empty DataFrame\n",
       "Columns: [LoanAmount, City, State, Zip, NAICSCode, BusinessType, DateApproved, Lender, CD, LoanRange]\n",
       "Index: []"
      ]
     },
     "execution_count": 3,
     "metadata": {},
     "output_type": "execute_result"
    }
   ],
   "source": [
    "# investigate rows with null values\n",
    "data[data.isnull().any(axis=1)]"
   ]
  },
  {
   "cell_type": "code",
   "execution_count": 4,
   "metadata": {},
   "outputs": [
    {
     "data": {
      "text/html": [
       "<div>\n",
       "<style scoped>\n",
       "    .dataframe tbody tr th:only-of-type {\n",
       "        vertical-align: middle;\n",
       "    }\n",
       "\n",
       "    .dataframe tbody tr th {\n",
       "        vertical-align: top;\n",
       "    }\n",
       "\n",
       "    .dataframe thead th {\n",
       "        text-align: right;\n",
       "    }\n",
       "</style>\n",
       "<table border=\"1\" class=\"dataframe\">\n",
       "  <thead>\n",
       "    <tr style=\"text-align: right;\">\n",
       "      <th></th>\n",
       "      <th>LoanAmount</th>\n",
       "      <th>City</th>\n",
       "      <th>State</th>\n",
       "      <th>Zip</th>\n",
       "      <th>NAICSCode</th>\n",
       "      <th>BusinessType</th>\n",
       "      <th>DateApproved</th>\n",
       "      <th>Lender</th>\n",
       "      <th>CD</th>\n",
       "      <th>LoanRange</th>\n",
       "    </tr>\n",
       "  </thead>\n",
       "  <tbody>\n",
       "    <tr>\n",
       "      <th>0</th>\n",
       "      <td>18700</td>\n",
       "      <td>PONDER</td>\n",
       "      <td>TX</td>\n",
       "      <td>76259</td>\n",
       "      <td>111219</td>\n",
       "      <td>Corporation</td>\n",
       "      <td>4/13/2020</td>\n",
       "      <td>AccessBank Texas</td>\n",
       "      <td>TX-26</td>\n",
       "      <td>1</td>\n",
       "    </tr>\n",
       "    <tr>\n",
       "      <th>1</th>\n",
       "      <td>6400</td>\n",
       "      <td>FLOWER MOUND</td>\n",
       "      <td>TX</td>\n",
       "      <td>75028</td>\n",
       "      <td>115310</td>\n",
       "      <td>Corporation</td>\n",
       "      <td>8/7/2020</td>\n",
       "      <td>AccessBank Texas</td>\n",
       "      <td>TX-26</td>\n",
       "      <td>1</td>\n",
       "    </tr>\n",
       "    <tr>\n",
       "      <th>2</th>\n",
       "      <td>20800</td>\n",
       "      <td>KRUM</td>\n",
       "      <td>TX</td>\n",
       "      <td>76249</td>\n",
       "      <td>211130</td>\n",
       "      <td>Corporation</td>\n",
       "      <td>4/14/2020</td>\n",
       "      <td>AccessBank Texas</td>\n",
       "      <td>TX-26</td>\n",
       "      <td>1</td>\n",
       "    </tr>\n",
       "    <tr>\n",
       "      <th>3</th>\n",
       "      <td>3800</td>\n",
       "      <td>KRUM</td>\n",
       "      <td>TX</td>\n",
       "      <td>76249</td>\n",
       "      <td>212321</td>\n",
       "      <td>Sole Proprietorship</td>\n",
       "      <td>4/15/2020</td>\n",
       "      <td>AccessBank Texas</td>\n",
       "      <td>TX-26</td>\n",
       "      <td>1</td>\n",
       "    </tr>\n",
       "    <tr>\n",
       "      <th>4</th>\n",
       "      <td>53300</td>\n",
       "      <td>ARGYLE</td>\n",
       "      <td>TX</td>\n",
       "      <td>76226</td>\n",
       "      <td>221310</td>\n",
       "      <td>Self-Employed Individuals</td>\n",
       "      <td>4/14/2020</td>\n",
       "      <td>AccessBank Texas</td>\n",
       "      <td>TX-26</td>\n",
       "      <td>3</td>\n",
       "    </tr>\n",
       "    <tr>\n",
       "      <th>...</th>\n",
       "      <td>...</td>\n",
       "      <td>...</td>\n",
       "      <td>...</td>\n",
       "      <td>...</td>\n",
       "      <td>...</td>\n",
       "      <td>...</td>\n",
       "      <td>...</td>\n",
       "      <td>...</td>\n",
       "      <td>...</td>\n",
       "      <td>...</td>\n",
       "    </tr>\n",
       "    <tr>\n",
       "      <th>98</th>\n",
       "      <td>17841</td>\n",
       "      <td>Littlefield</td>\n",
       "      <td>TX</td>\n",
       "      <td>79339</td>\n",
       "      <td>311811</td>\n",
       "      <td>Partnership</td>\n",
       "      <td>6/30/2020</td>\n",
       "      <td>Accion</td>\n",
       "      <td>TX-19</td>\n",
       "      <td>1</td>\n",
       "    </tr>\n",
       "    <tr>\n",
       "      <th>99</th>\n",
       "      <td>12200</td>\n",
       "      <td>Houston</td>\n",
       "      <td>TX</td>\n",
       "      <td>77065</td>\n",
       "      <td>311811</td>\n",
       "      <td>Sole Proprietorship</td>\n",
       "      <td>6/28/2020</td>\n",
       "      <td>Accion</td>\n",
       "      <td>TX-07</td>\n",
       "      <td>1</td>\n",
       "    </tr>\n",
       "    <tr>\n",
       "      <th>100</th>\n",
       "      <td>13700</td>\n",
       "      <td>Uvalde</td>\n",
       "      <td>TX</td>\n",
       "      <td>78801</td>\n",
       "      <td>312112</td>\n",
       "      <td>Limited  Liability Company(LLC)</td>\n",
       "      <td>7/22/2020</td>\n",
       "      <td>Accion</td>\n",
       "      <td>TX-23</td>\n",
       "      <td>1</td>\n",
       "    </tr>\n",
       "    <tr>\n",
       "      <th>101</th>\n",
       "      <td>19950</td>\n",
       "      <td>North Richland Hills</td>\n",
       "      <td>TX</td>\n",
       "      <td>76180</td>\n",
       "      <td>312120</td>\n",
       "      <td>Limited  Liability Company(LLC)</td>\n",
       "      <td>6/15/2020</td>\n",
       "      <td>Accion</td>\n",
       "      <td>TX-12</td>\n",
       "      <td>1</td>\n",
       "    </tr>\n",
       "    <tr>\n",
       "      <th>102</th>\n",
       "      <td>50000</td>\n",
       "      <td>Grand Prairie</td>\n",
       "      <td>TX</td>\n",
       "      <td>75050</td>\n",
       "      <td>326140</td>\n",
       "      <td>Limited  Liability Company(LLC)</td>\n",
       "      <td>7/28/2020</td>\n",
       "      <td>Accion</td>\n",
       "      <td>TX-06</td>\n",
       "      <td>3</td>\n",
       "    </tr>\n",
       "  </tbody>\n",
       "</table>\n",
       "<p>103 rows × 10 columns</p>\n",
       "</div>"
      ],
      "text/plain": [
       "     LoanAmount                  City State    Zip  NAICSCode  \\\n",
       "0         18700                PONDER    TX  76259     111219   \n",
       "1          6400          FLOWER MOUND    TX  75028     115310   \n",
       "2         20800                  KRUM    TX  76249     211130   \n",
       "3          3800                  KRUM    TX  76249     212321   \n",
       "4         53300                ARGYLE    TX  76226     221310   \n",
       "..          ...                   ...   ...    ...        ...   \n",
       "98        17841           Littlefield    TX  79339     311811   \n",
       "99        12200               Houston    TX  77065     311811   \n",
       "100       13700                Uvalde    TX  78801     312112   \n",
       "101       19950  North Richland Hills    TX  76180     312120   \n",
       "102       50000         Grand Prairie    TX  75050     326140   \n",
       "\n",
       "                        BusinessType DateApproved            Lender     CD  \\\n",
       "0                        Corporation    4/13/2020  AccessBank Texas  TX-26   \n",
       "1                        Corporation     8/7/2020  AccessBank Texas  TX-26   \n",
       "2                        Corporation    4/14/2020  AccessBank Texas  TX-26   \n",
       "3                Sole Proprietorship    4/15/2020  AccessBank Texas  TX-26   \n",
       "4          Self-Employed Individuals    4/14/2020  AccessBank Texas  TX-26   \n",
       "..                               ...          ...               ...    ...   \n",
       "98                       Partnership    6/30/2020            Accion  TX-19   \n",
       "99               Sole Proprietorship    6/28/2020            Accion  TX-07   \n",
       "100  Limited  Liability Company(LLC)    7/22/2020            Accion  TX-23   \n",
       "101  Limited  Liability Company(LLC)    6/15/2020            Accion  TX-12   \n",
       "102  Limited  Liability Company(LLC)    7/28/2020            Accion  TX-06   \n",
       "\n",
       "     LoanRange  \n",
       "0            1  \n",
       "1            1  \n",
       "2            1  \n",
       "3            1  \n",
       "4            3  \n",
       "..         ...  \n",
       "98           1  \n",
       "99           1  \n",
       "100          1  \n",
       "101          1  \n",
       "102          3  \n",
       "\n",
       "[103 rows x 10 columns]"
      ]
     },
     "execution_count": 4,
     "metadata": {},
     "output_type": "execute_result"
    }
   ],
   "source": [
    "# only take rows of businesses that CD is not null\n",
    "\n",
    "data = data[data['CD'].notna()]\n",
    "data.head()\n",
    "\n",
    "#drop rows with NA cities\n",
    "data = data[data['City'].notna()]\n",
    "\n",
    "# drop rows with NA NAICS code\n",
    "data = data[data['NAICSCode'].notna()]\n",
    "\n",
    "#drop rows with NA business type\n",
    "data = data[data['BusinessType'].notna()]\n",
    "\n",
    "data.isnull().sum()\n",
    "\n",
    "data.shape\n",
    "\n",
    "data.head()\n",
    "\n",
    "data['NAICSCode'] = data['NAICSCode'].astype(int)\n",
    "\n",
    "data"
   ]
  },
  {
   "cell_type": "code",
   "execution_count": 5,
   "metadata": {},
   "outputs": [
    {
     "data": {
      "text/html": [
       "<div>\n",
       "<style scoped>\n",
       "    .dataframe tbody tr th:only-of-type {\n",
       "        vertical-align: middle;\n",
       "    }\n",
       "\n",
       "    .dataframe tbody tr th {\n",
       "        vertical-align: top;\n",
       "    }\n",
       "\n",
       "    .dataframe thead th {\n",
       "        text-align: right;\n",
       "    }\n",
       "</style>\n",
       "<table border=\"1\" class=\"dataframe\">\n",
       "  <thead>\n",
       "    <tr style=\"text-align: right;\">\n",
       "      <th></th>\n",
       "      <th>NAICS 1 Code</th>\n",
       "      <th>NAICS 1 Description</th>\n",
       "    </tr>\n",
       "  </thead>\n",
       "  <tbody>\n",
       "    <tr>\n",
       "      <th>0</th>\n",
       "      <td>111110</td>\n",
       "      <td>Soybean Farming</td>\n",
       "    </tr>\n",
       "    <tr>\n",
       "      <th>1</th>\n",
       "      <td>111120</td>\n",
       "      <td>Oilseed (except Soybean) Farming</td>\n",
       "    </tr>\n",
       "    <tr>\n",
       "      <th>2</th>\n",
       "      <td>111130</td>\n",
       "      <td>Dry Pea and Bean Farming</td>\n",
       "    </tr>\n",
       "    <tr>\n",
       "      <th>3</th>\n",
       "      <td>111140</td>\n",
       "      <td>Wheat Farming</td>\n",
       "    </tr>\n",
       "    <tr>\n",
       "      <th>4</th>\n",
       "      <td>111150</td>\n",
       "      <td>Corn Farming</td>\n",
       "    </tr>\n",
       "  </tbody>\n",
       "</table>\n",
       "</div>"
      ],
      "text/plain": [
       "   NAICS 1 Code               NAICS 1 Description\n",
       "0        111110                   Soybean Farming\n",
       "1        111120  Oilseed (except Soybean) Farming\n",
       "2        111130          Dry Pea and Bean Farming\n",
       "3        111140                     Wheat Farming\n",
       "4        111150                      Corn Farming"
      ]
     },
     "execution_count": 5,
     "metadata": {},
     "output_type": "execute_result"
    }
   ],
   "source": [
    "## read in data for NAICS code\n",
    "\n",
    "naics = pd.read_csv('US-Business-Profiles-By-Sales-and-Employees (2).csv')\n",
    "\n",
    "naics.head()"
   ]
  },
  {
   "cell_type": "code",
   "execution_count": 6,
   "metadata": {},
   "outputs": [
    {
     "data": {
      "text/html": [
       "<div>\n",
       "<style scoped>\n",
       "    .dataframe tbody tr th:only-of-type {\n",
       "        vertical-align: middle;\n",
       "    }\n",
       "\n",
       "    .dataframe tbody tr th {\n",
       "        vertical-align: top;\n",
       "    }\n",
       "\n",
       "    .dataframe thead th {\n",
       "        text-align: right;\n",
       "    }\n",
       "</style>\n",
       "<table border=\"1\" class=\"dataframe\">\n",
       "  <thead>\n",
       "    <tr style=\"text-align: right;\">\n",
       "      <th></th>\n",
       "      <th>NAICS 1 Code</th>\n",
       "      <th>NAICS 1 Description</th>\n",
       "    </tr>\n",
       "  </thead>\n",
       "  <tbody>\n",
       "    <tr>\n",
       "      <th>0</th>\n",
       "      <td>111110</td>\n",
       "      <td>Soybean Farming</td>\n",
       "    </tr>\n",
       "    <tr>\n",
       "      <th>1</th>\n",
       "      <td>111120</td>\n",
       "      <td>Oilseed (except Soybean) Farming</td>\n",
       "    </tr>\n",
       "    <tr>\n",
       "      <th>2</th>\n",
       "      <td>111130</td>\n",
       "      <td>Dry Pea and Bean Farming</td>\n",
       "    </tr>\n",
       "    <tr>\n",
       "      <th>3</th>\n",
       "      <td>111140</td>\n",
       "      <td>Wheat Farming</td>\n",
       "    </tr>\n",
       "    <tr>\n",
       "      <th>4</th>\n",
       "      <td>111150</td>\n",
       "      <td>Corn Farming</td>\n",
       "    </tr>\n",
       "    <tr>\n",
       "      <th>...</th>\n",
       "      <td>...</td>\n",
       "      <td>...</td>\n",
       "    </tr>\n",
       "    <tr>\n",
       "      <th>1040</th>\n",
       "      <td>926140</td>\n",
       "      <td>Regulation of Agricultural Marketing and Commo...</td>\n",
       "    </tr>\n",
       "    <tr>\n",
       "      <th>1041</th>\n",
       "      <td>926150</td>\n",
       "      <td>Regulation, Licensing, and Inspection of Misce...</td>\n",
       "    </tr>\n",
       "    <tr>\n",
       "      <th>1042</th>\n",
       "      <td>927110</td>\n",
       "      <td>Space Research and Technology</td>\n",
       "    </tr>\n",
       "    <tr>\n",
       "      <th>1043</th>\n",
       "      <td>928110</td>\n",
       "      <td>National Security</td>\n",
       "    </tr>\n",
       "    <tr>\n",
       "      <th>1044</th>\n",
       "      <td>928120</td>\n",
       "      <td>International Affairs</td>\n",
       "    </tr>\n",
       "  </tbody>\n",
       "</table>\n",
       "<p>1045 rows × 2 columns</p>\n",
       "</div>"
      ],
      "text/plain": [
       "      NAICS 1 Code                                NAICS 1 Description\n",
       "0           111110                                    Soybean Farming\n",
       "1           111120                   Oilseed (except Soybean) Farming\n",
       "2           111130                           Dry Pea and Bean Farming\n",
       "3           111140                                      Wheat Farming\n",
       "4           111150                                       Corn Farming\n",
       "...            ...                                                ...\n",
       "1040        926140  Regulation of Agricultural Marketing and Commo...\n",
       "1041        926150  Regulation, Licensing, and Inspection of Misce...\n",
       "1042        927110                      Space Research and Technology\n",
       "1043        928110                                  National Security\n",
       "1044        928120                              International Affairs\n",
       "\n",
       "[1045 rows x 2 columns]"
      ]
     },
     "execution_count": 6,
     "metadata": {},
     "output_type": "execute_result"
    }
   ],
   "source": [
    "naics.dtypes\n",
    "naics[naics.isnull().any(axis=1)]\n",
    "\n",
    "\n",
    "naics['NAICS 1 Code'] = naics['NAICS 1 Code'].astype(int)\n",
    "\n",
    "naics"
   ]
  },
  {
   "cell_type": "code",
   "execution_count": 7,
   "metadata": {},
   "outputs": [
    {
     "data": {
      "text/html": [
       "<div>\n",
       "<style scoped>\n",
       "    .dataframe tbody tr th:only-of-type {\n",
       "        vertical-align: middle;\n",
       "    }\n",
       "\n",
       "    .dataframe tbody tr th {\n",
       "        vertical-align: top;\n",
       "    }\n",
       "\n",
       "    .dataframe thead th {\n",
       "        text-align: right;\n",
       "    }\n",
       "</style>\n",
       "<table border=\"1\" class=\"dataframe\">\n",
       "  <thead>\n",
       "    <tr style=\"text-align: right;\">\n",
       "      <th></th>\n",
       "      <th>Zip</th>\n",
       "      <th>NAICSCode</th>\n",
       "      <th>Lender</th>\n",
       "      <th>LoanRange</th>\n",
       "      <th>NAICS 1 Code</th>\n",
       "    </tr>\n",
       "  </thead>\n",
       "  <tbody>\n",
       "    <tr>\n",
       "      <th>0</th>\n",
       "      <td>76259</td>\n",
       "      <td>111219</td>\n",
       "      <td>AccessBank Texas</td>\n",
       "      <td>1</td>\n",
       "      <td>111219</td>\n",
       "    </tr>\n",
       "    <tr>\n",
       "      <th>1</th>\n",
       "      <td>75028</td>\n",
       "      <td>115310</td>\n",
       "      <td>AccessBank Texas</td>\n",
       "      <td>1</td>\n",
       "      <td>115310</td>\n",
       "    </tr>\n",
       "    <tr>\n",
       "      <th>2</th>\n",
       "      <td>76249</td>\n",
       "      <td>211130</td>\n",
       "      <td>AccessBank Texas</td>\n",
       "      <td>1</td>\n",
       "      <td>211130</td>\n",
       "    </tr>\n",
       "    <tr>\n",
       "      <th>3</th>\n",
       "      <td>76249</td>\n",
       "      <td>212321</td>\n",
       "      <td>AccessBank Texas</td>\n",
       "      <td>1</td>\n",
       "      <td>212321</td>\n",
       "    </tr>\n",
       "    <tr>\n",
       "      <th>4</th>\n",
       "      <td>76226</td>\n",
       "      <td>221310</td>\n",
       "      <td>AccessBank Texas</td>\n",
       "      <td>3</td>\n",
       "      <td>221310</td>\n",
       "    </tr>\n",
       "  </tbody>\n",
       "</table>\n",
       "</div>"
      ],
      "text/plain": [
       "     Zip  NAICSCode            Lender  LoanRange  NAICS 1 Code\n",
       "0  76259     111219  AccessBank Texas          1        111219\n",
       "1  75028     115310  AccessBank Texas          1        115310\n",
       "2  76249     211130  AccessBank Texas          1        211130\n",
       "3  76249     212321  AccessBank Texas          1        212321\n",
       "4  76226     221310  AccessBank Texas          3        221310"
      ]
     },
     "execution_count": 7,
     "metadata": {},
     "output_type": "execute_result"
    }
   ],
   "source": [
    "## merge tables \n",
    "\n",
    "loan_data = pd.merge(data, naics, left_on='NAICSCode', right_on='NAICS 1 Code')\n",
    "\n",
    "\n",
    "# drop categorical columns\n",
    "loan_data_top = loan_data.drop(columns=['City', 'DateApproved', 'CD', 'LoanAmount', 'BusinessType', 'State', 'NAICS 1 Description'], axis=1)\n",
    "\n",
    "# loan_data = pd.get_dummies(data, columns=[\"BusinessType\"])\n",
    "\n",
    "loan_data_top.head()\n"
   ]
  },
  {
   "cell_type": "code",
   "execution_count": 8,
   "metadata": {},
   "outputs": [
    {
     "data": {
      "text/html": [
       "<div>\n",
       "<style scoped>\n",
       "    .dataframe tbody tr th:only-of-type {\n",
       "        vertical-align: middle;\n",
       "    }\n",
       "\n",
       "    .dataframe tbody tr th {\n",
       "        vertical-align: top;\n",
       "    }\n",
       "\n",
       "    .dataframe thead th {\n",
       "        text-align: right;\n",
       "    }\n",
       "</style>\n",
       "<table border=\"1\" class=\"dataframe\">\n",
       "  <thead>\n",
       "    <tr style=\"text-align: right;\">\n",
       "      <th></th>\n",
       "      <th>Zip</th>\n",
       "      <th>NAICSCode</th>\n",
       "      <th>Lender</th>\n",
       "      <th>LoanRange</th>\n",
       "      <th>NAICS 1 Code</th>\n",
       "    </tr>\n",
       "  </thead>\n",
       "  <tbody>\n",
       "    <tr>\n",
       "      <th>0</th>\n",
       "      <td>76259</td>\n",
       "      <td>111219</td>\n",
       "      <td>AccessBank Texas</td>\n",
       "      <td>1</td>\n",
       "      <td>111219</td>\n",
       "    </tr>\n",
       "    <tr>\n",
       "      <th>1</th>\n",
       "      <td>75028</td>\n",
       "      <td>115310</td>\n",
       "      <td>AccessBank Texas</td>\n",
       "      <td>1</td>\n",
       "      <td>115310</td>\n",
       "    </tr>\n",
       "    <tr>\n",
       "      <th>2</th>\n",
       "      <td>76249</td>\n",
       "      <td>211130</td>\n",
       "      <td>AccessBank Texas</td>\n",
       "      <td>1</td>\n",
       "      <td>211130</td>\n",
       "    </tr>\n",
       "    <tr>\n",
       "      <th>3</th>\n",
       "      <td>76249</td>\n",
       "      <td>212321</td>\n",
       "      <td>AccessBank Texas</td>\n",
       "      <td>1</td>\n",
       "      <td>212321</td>\n",
       "    </tr>\n",
       "    <tr>\n",
       "      <th>4</th>\n",
       "      <td>76226</td>\n",
       "      <td>221310</td>\n",
       "      <td>AccessBank Texas</td>\n",
       "      <td>3</td>\n",
       "      <td>221310</td>\n",
       "    </tr>\n",
       "  </tbody>\n",
       "</table>\n",
       "</div>"
      ],
      "text/plain": [
       "     Zip  NAICSCode            Lender  LoanRange  NAICS 1 Code\n",
       "0  76259     111219  AccessBank Texas          1        111219\n",
       "1  75028     115310  AccessBank Texas          1        115310\n",
       "2  76249     211130  AccessBank Texas          1        211130\n",
       "3  76249     212321  AccessBank Texas          1        212321\n",
       "4  76226     221310  AccessBank Texas          3        221310"
      ]
     },
     "execution_count": 8,
     "metadata": {},
     "output_type": "execute_result"
    }
   ],
   "source": [
    "# drop lenders with loans of 5 or more\n",
    "counts = loan_data_top['Lender'].value_counts()\n",
    "\n",
    "loan_data_top = loan_data_top.loc[loan_data_top['Lender'].isin(counts.index[counts > 5])]\n",
    "loan_data_top.shape\n",
    "\n",
    "loan_data_top.head()\n"
   ]
  },
  {
   "cell_type": "code",
   "execution_count": 9,
   "metadata": {},
   "outputs": [
    {
     "name": "stdout",
     "output_type": "stream",
     "text": [
      "(103, 4) (103,)\n"
     ]
    }
   ],
   "source": [
    "# Assign X (data) and y(target)\n",
    "X = loan_data_top.drop(\"Lender\", axis=1)\n",
    "y = loan_data_top[\"Lender\"]\n",
    "print(X.shape, y.shape)"
   ]
  },
  {
   "cell_type": "code",
   "execution_count": 10,
   "metadata": {},
   "outputs": [],
   "source": [
    "# Split our data into training and testing\n",
    "X_train, X_test, y_train, y_test = train_test_split(X, y, random_state=1, stratify=y)"
   ]
  },
  {
   "cell_type": "code",
   "execution_count": 11,
   "metadata": {},
   "outputs": [
    {
     "data": {
      "text/plain": [
       "LogisticRegression()"
      ]
     },
     "execution_count": 11,
     "metadata": {},
     "output_type": "execute_result"
    }
   ],
   "source": [
    "# Create a logistic Regression Model\n",
    "classifier = LogisticRegression()\n",
    "classifier"
   ]
  },
  {
   "cell_type": "code",
   "execution_count": 12,
   "metadata": {},
   "outputs": [
    {
     "data": {
      "text/plain": [
       "LogisticRegression()"
      ]
     },
     "execution_count": 12,
     "metadata": {},
     "output_type": "execute_result"
    }
   ],
   "source": [
    "# Fit model using the training data\n",
    "classifier.fit(X_train, y_train)"
   ]
  },
  {
   "cell_type": "code",
   "execution_count": 13,
   "metadata": {},
   "outputs": [
    {
     "name": "stdout",
     "output_type": "stream",
     "text": [
      "Training Data Score: 0.6623376623376623\n",
      "Testing Data Score: 0.5384615384615384\n"
     ]
    }
   ],
   "source": [
    "# evaluate the model's performance using the test data\n",
    "print(f\"Training Data Score: {classifier.score(X_train, y_train)}\")\n",
    "print(f\"Testing Data Score: {classifier.score(X_test, y_test)}\")"
   ]
  },
  {
   "cell_type": "code",
   "execution_count": 14,
   "metadata": {},
   "outputs": [
    {
     "name": "stdout",
     "output_type": "stream",
     "text": [
      "First 10 Predictions:   ['AccessBank Texas' 'Accion' 'AccessBank Texas' 'AccessBank Texas'\n",
      " 'Accion' 'AccessBank Texas' 'AccessBank Texas' 'AccessBank Texas'\n",
      " 'AccessBank Texas' 'AccessBank Texas']\n",
      "First 10 Actual labels: ['Accion', 'AccessBank Texas', 'Accion', 'Accion', 'Accion', 'AccessBank Texas', 'Accion', 'Accion', 'AccessBank Texas', 'AccessBank Texas']\n"
     ]
    }
   ],
   "source": [
    "# Make predictions\n",
    "predictions = classifier.predict(X_test)\n",
    "print(f\"First 10 Predictions:   {predictions[:10]}\")\n",
    "print(f\"First 10 Actual labels: {y_test[:10].tolist()}\")"
   ]
  },
  {
   "cell_type": "code",
   "execution_count": 15,
   "metadata": {},
   "outputs": [
    {
     "data": {
      "text/html": [
       "<div>\n",
       "<style scoped>\n",
       "    .dataframe tbody tr th:only-of-type {\n",
       "        vertical-align: middle;\n",
       "    }\n",
       "\n",
       "    .dataframe tbody tr th {\n",
       "        vertical-align: top;\n",
       "    }\n",
       "\n",
       "    .dataframe thead th {\n",
       "        text-align: right;\n",
       "    }\n",
       "</style>\n",
       "<table border=\"1\" class=\"dataframe\">\n",
       "  <thead>\n",
       "    <tr style=\"text-align: right;\">\n",
       "      <th></th>\n",
       "      <th>Prediction</th>\n",
       "      <th>Actual</th>\n",
       "      <th>P(Female)</th>\n",
       "      <th>P(Male)</th>\n",
       "    </tr>\n",
       "  </thead>\n",
       "  <tbody>\n",
       "    <tr>\n",
       "      <th>0</th>\n",
       "      <td>AccessBank Texas</td>\n",
       "      <td>Accion</td>\n",
       "      <td>0.534832</td>\n",
       "      <td>0.465168</td>\n",
       "    </tr>\n",
       "    <tr>\n",
       "      <th>1</th>\n",
       "      <td>Accion</td>\n",
       "      <td>AccessBank Texas</td>\n",
       "      <td>0.160953</td>\n",
       "      <td>0.839047</td>\n",
       "    </tr>\n",
       "    <tr>\n",
       "      <th>2</th>\n",
       "      <td>AccessBank Texas</td>\n",
       "      <td>Accion</td>\n",
       "      <td>0.542506</td>\n",
       "      <td>0.457494</td>\n",
       "    </tr>\n",
       "    <tr>\n",
       "      <th>3</th>\n",
       "      <td>AccessBank Texas</td>\n",
       "      <td>Accion</td>\n",
       "      <td>0.533929</td>\n",
       "      <td>0.466071</td>\n",
       "    </tr>\n",
       "    <tr>\n",
       "      <th>4</th>\n",
       "      <td>Accion</td>\n",
       "      <td>Accion</td>\n",
       "      <td>0.436384</td>\n",
       "      <td>0.563616</td>\n",
       "    </tr>\n",
       "    <tr>\n",
       "      <th>5</th>\n",
       "      <td>AccessBank Texas</td>\n",
       "      <td>AccessBank Texas</td>\n",
       "      <td>0.534308</td>\n",
       "      <td>0.465692</td>\n",
       "    </tr>\n",
       "    <tr>\n",
       "      <th>6</th>\n",
       "      <td>AccessBank Texas</td>\n",
       "      <td>Accion</td>\n",
       "      <td>0.540750</td>\n",
       "      <td>0.459250</td>\n",
       "    </tr>\n",
       "    <tr>\n",
       "      <th>7</th>\n",
       "      <td>AccessBank Texas</td>\n",
       "      <td>Accion</td>\n",
       "      <td>0.542287</td>\n",
       "      <td>0.457713</td>\n",
       "    </tr>\n",
       "    <tr>\n",
       "      <th>8</th>\n",
       "      <td>AccessBank Texas</td>\n",
       "      <td>AccessBank Texas</td>\n",
       "      <td>0.531706</td>\n",
       "      <td>0.468294</td>\n",
       "    </tr>\n",
       "    <tr>\n",
       "      <th>9</th>\n",
       "      <td>AccessBank Texas</td>\n",
       "      <td>AccessBank Texas</td>\n",
       "      <td>0.534386</td>\n",
       "      <td>0.465614</td>\n",
       "    </tr>\n",
       "  </tbody>\n",
       "</table>\n",
       "</div>"
      ],
      "text/plain": [
       "         Prediction            Actual  P(Female)   P(Male)\n",
       "0  AccessBank Texas            Accion   0.534832  0.465168\n",
       "1            Accion  AccessBank Texas   0.160953  0.839047\n",
       "2  AccessBank Texas            Accion   0.542506  0.457494\n",
       "3  AccessBank Texas            Accion   0.533929  0.466071\n",
       "4            Accion            Accion   0.436384  0.563616\n",
       "5  AccessBank Texas  AccessBank Texas   0.534308  0.465692\n",
       "6  AccessBank Texas            Accion   0.540750  0.459250\n",
       "7  AccessBank Texas            Accion   0.542287  0.457713\n",
       "8  AccessBank Texas  AccessBank Texas   0.531706  0.468294\n",
       "9  AccessBank Texas  AccessBank Texas   0.534386  0.465614"
      ]
     },
     "execution_count": 15,
     "metadata": {},
     "output_type": "execute_result"
    }
   ],
   "source": [
    "# View predictions along with their probabilities of being within each class \n",
    "##  this will be the difficult part of our project because data is not binary like example: male/female\n",
    "probs = classifier.predict_proba(X_test)\n",
    "pred_df = pd.DataFrame({\n",
    "    \"Prediction\": predictions, \n",
    "    \"Actual\": y_test, \n",
    "    \"P(Female)\": [p[0] for p in probs], \n",
    "    \"P(Male)\": [p[1] for p in probs]\n",
    "    }).reset_index(drop=True)\n",
    "\n",
    "pred_df.head(10)"
   ]
  },
  {
   "cell_type": "code",
   "execution_count": 16,
   "metadata": {},
   "outputs": [
    {
     "data": {
      "text/plain": [
       "array([[12,  2],\n",
       "       [10,  2]], dtype=int64)"
      ]
     },
     "execution_count": 16,
     "metadata": {},
     "output_type": "execute_result"
    }
   ],
   "source": [
    "# Model Evaluation\n",
    "# Create a Confusion Matrix\n",
    "from sklearn.metrics import confusion_matrix\n",
    "\n",
    "confusion_matrix(y_test,predictions)"
   ]
  },
  {
   "cell_type": "code",
   "execution_count": 17,
   "metadata": {},
   "outputs": [
    {
     "name": "stdout",
     "output_type": "stream",
     "text": [
      "True Neg: 12   False Pos: 2\n",
      "False Neg: 10  True Pos: 2\n"
     ]
    }
   ],
   "source": [
    "# Label the confusion Matrix\n",
    "tn, fp, fn, tp = confusion_matrix(y_test, predictions).ravel()\n",
    "print(f\"True Neg: {tn}   False Pos: {fp}\")\n",
    "print(f\"False Neg: {fn}  True Pos: {tp}\")"
   ]
  },
  {
   "cell_type": "code",
   "execution_count": 18,
   "metadata": {},
   "outputs": [
    {
     "data": {
      "text/plain": [
       "<sklearn.metrics._plot.confusion_matrix.ConfusionMatrixDisplay at 0x196c69093d0>"
      ]
     },
     "execution_count": 18,
     "metadata": {},
     "output_type": "execute_result"
    },
    {
     "data": {
      "image/png": "[encoded data removed]",
      "text/plain": [
       "<Figure size 432x288 with 2 Axes>"
      ]
     },
     "metadata": {
      "needs_background": "light"
     },
     "output_type": "display_data"
    }
   ],
   "source": [
    "# Plot confusion matrix\n",
    "from sklearn.metrics import plot_confusion_matrix\n",
    "plot_confusion_matrix(classifier, X_test, y_test, cmap=\"Blues\")"
   ]
  },
  {
   "cell_type": "code",
   "execution_count": 19,
   "metadata": {},
   "outputs": [],
   "source": [
    "# Precision and Recall\n",
    "### we don't technically have a \"positive\" label, like we would if we were classifying emails as Spam, or patients as having cancer. \n",
    "## This means that we need to tell our precision and recall functions which class label we want to consider to be our \"positive\" class i.e. which lender\n",
    "from sklearn.metrics import precision_score, recall_score, f1_score"
   ]
  },
  {
   "cell_type": "code",
   "execution_count": 20,
   "metadata": {},
   "outputs": [
    {
     "data": {
      "text/plain": [
       "0.5454545454545454"
      ]
     },
     "execution_count": 20,
     "metadata": {},
     "output_type": "execute_result"
    }
   ],
   "source": [
    "## Random tests of lenders first test is AccessBank Texas, the lender with the most loans\n",
    "precision_score(y_test, predictions, pos_label=\"AccessBank Texas\")"
   ]
  },
  {
   "cell_type": "code",
   "execution_count": 21,
   "metadata": {},
   "outputs": [
    {
     "data": {
      "text/plain": [
       "0.5"
      ]
     },
     "execution_count": 21,
     "metadata": {},
     "output_type": "execute_result"
    }
   ],
   "source": [
    "## Random tests of lenders second test is Accion, random test of lender with lower loan count of 10 loans\n",
    "precision_score(y_test, predictions, pos_label=\"Accion\")"
   ]
  },
  {
   "cell_type": "code",
   "execution_count": 22,
   "metadata": {},
   "outputs": [
    {
     "data": {
      "text/plain": [
       "0.6666666666666665"
      ]
     },
     "execution_count": 22,
     "metadata": {},
     "output_type": "execute_result"
    }
   ],
   "source": [
    "#  what is the harmonic mean of AccessBank Texas from first test\n",
    "f1_score(y_test, predictions, pos_label=\"AccessBank Texas\")"
   ]
  },
  {
   "cell_type": "code",
   "execution_count": 23,
   "metadata": {},
   "outputs": [
    {
     "data": {
      "text/plain": [
       "0.25"
      ]
     },
     "execution_count": 23,
     "metadata": {},
     "output_type": "execute_result"
    }
   ],
   "source": [
    "#  what is the harmonic mean of Accion from second test\n",
    "f1_score(y_test, predictions, pos_label=\"Accion\")"
   ]
  },
  {
   "cell_type": "code",
   "execution_count": null,
   "metadata": {},
   "outputs": [],
   "source": []
  }
 ],
 "metadata": {
  "kernelspec": {
   "display_name": "Python 3",
   "language": "python",
   "name": "python3"
  },
  "language_info": {
   "codemirror_mode": {
    "name": "ipython",
    "version": 3
   },
   "file_extension": ".py",
   "mimetype": "text/x-python",
   "name": "python",
   "nbconvert_exporter": "python",
   "pygments_lexer": "ipython3",
   "version": "3.7.6"
  }
 },
 "nbformat": 4,
 "nbformat_minor": 4
}
